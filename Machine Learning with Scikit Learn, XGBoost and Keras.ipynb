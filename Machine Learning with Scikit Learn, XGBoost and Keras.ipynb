{
 "cells": [
  {
   "cell_type": "code",
   "execution_count": 1,
   "id": "f96ff238",
   "metadata": {},
   "outputs": [],
   "source": [
    "import warnings\n",
    "warnings.filterwarnings(action=\"ignore\",category=FutureWarning)"
   ]
  },
  {
   "cell_type": "code",
   "execution_count": 2,
   "id": "03aae15a",
   "metadata": {},
   "outputs": [],
   "source": [
    "#Importing the libraries\n",
    "import pandas as pd\n",
    "import matplotlib.pyplot as plt\n",
    "import seaborn as sns"
   ]
  },
  {
   "cell_type": "code",
   "execution_count": 3,
   "id": "f18a8e45",
   "metadata": {},
   "outputs": [],
   "source": [
    "pd.options.display.float_format=\"{:,.2f}\".format"
   ]
  },
  {
   "cell_type": "code",
   "execution_count": 4,
   "id": "6886561a",
   "metadata": {},
   "outputs": [
    {
     "data": {
      "text/html": [
       "<div>\n",
       "<style scoped>\n",
       "    .dataframe tbody tr th:only-of-type {\n",
       "        vertical-align: middle;\n",
       "    }\n",
       "\n",
       "    .dataframe tbody tr th {\n",
       "        vertical-align: top;\n",
       "    }\n",
       "\n",
       "    .dataframe thead th {\n",
       "        text-align: right;\n",
       "    }\n",
       "</style>\n",
       "<table border=\"1\" class=\"dataframe\">\n",
       "  <thead>\n",
       "    <tr style=\"text-align: right;\">\n",
       "      <th></th>\n",
       "      <th>RowNumber</th>\n",
       "      <th>CustomerId</th>\n",
       "      <th>Surname</th>\n",
       "      <th>CreditScore</th>\n",
       "      <th>Geography</th>\n",
       "      <th>Gender</th>\n",
       "      <th>Age</th>\n",
       "      <th>Tenure</th>\n",
       "      <th>Balance</th>\n",
       "      <th>NumOfProducts</th>\n",
       "      <th>HasCrCard</th>\n",
       "      <th>IsActiveMember</th>\n",
       "      <th>EstimatedSalary</th>\n",
       "      <th>Exited</th>\n",
       "    </tr>\n",
       "  </thead>\n",
       "  <tbody>\n",
       "    <tr>\n",
       "      <th>0</th>\n",
       "      <td>1</td>\n",
       "      <td>15634602</td>\n",
       "      <td>Hargrave</td>\n",
       "      <td>619</td>\n",
       "      <td>France</td>\n",
       "      <td>Female</td>\n",
       "      <td>42</td>\n",
       "      <td>2</td>\n",
       "      <td>0.00</td>\n",
       "      <td>1</td>\n",
       "      <td>1</td>\n",
       "      <td>1</td>\n",
       "      <td>101,348.88</td>\n",
       "      <td>1</td>\n",
       "    </tr>\n",
       "    <tr>\n",
       "      <th>1</th>\n",
       "      <td>2</td>\n",
       "      <td>15647311</td>\n",
       "      <td>Hill</td>\n",
       "      <td>608</td>\n",
       "      <td>Spain</td>\n",
       "      <td>Female</td>\n",
       "      <td>41</td>\n",
       "      <td>1</td>\n",
       "      <td>83,807.86</td>\n",
       "      <td>1</td>\n",
       "      <td>0</td>\n",
       "      <td>1</td>\n",
       "      <td>112,542.58</td>\n",
       "      <td>0</td>\n",
       "    </tr>\n",
       "    <tr>\n",
       "      <th>2</th>\n",
       "      <td>3</td>\n",
       "      <td>15619304</td>\n",
       "      <td>Onio</td>\n",
       "      <td>502</td>\n",
       "      <td>France</td>\n",
       "      <td>Female</td>\n",
       "      <td>42</td>\n",
       "      <td>8</td>\n",
       "      <td>159,660.80</td>\n",
       "      <td>3</td>\n",
       "      <td>1</td>\n",
       "      <td>0</td>\n",
       "      <td>113,931.57</td>\n",
       "      <td>1</td>\n",
       "    </tr>\n",
       "    <tr>\n",
       "      <th>3</th>\n",
       "      <td>4</td>\n",
       "      <td>15701354</td>\n",
       "      <td>Boni</td>\n",
       "      <td>699</td>\n",
       "      <td>France</td>\n",
       "      <td>Female</td>\n",
       "      <td>39</td>\n",
       "      <td>1</td>\n",
       "      <td>0.00</td>\n",
       "      <td>2</td>\n",
       "      <td>0</td>\n",
       "      <td>0</td>\n",
       "      <td>93,826.63</td>\n",
       "      <td>0</td>\n",
       "    </tr>\n",
       "    <tr>\n",
       "      <th>4</th>\n",
       "      <td>5</td>\n",
       "      <td>15737888</td>\n",
       "      <td>Mitchell</td>\n",
       "      <td>850</td>\n",
       "      <td>Spain</td>\n",
       "      <td>Female</td>\n",
       "      <td>43</td>\n",
       "      <td>2</td>\n",
       "      <td>125,510.82</td>\n",
       "      <td>1</td>\n",
       "      <td>1</td>\n",
       "      <td>1</td>\n",
       "      <td>79,084.10</td>\n",
       "      <td>0</td>\n",
       "    </tr>\n",
       "  </tbody>\n",
       "</table>\n",
       "</div>"
      ],
      "text/plain": [
       "   RowNumber  CustomerId   Surname  CreditScore Geography  Gender  Age  \\\n",
       "0          1    15634602  Hargrave          619    France  Female   42   \n",
       "1          2    15647311      Hill          608     Spain  Female   41   \n",
       "2          3    15619304      Onio          502    France  Female   42   \n",
       "3          4    15701354      Boni          699    France  Female   39   \n",
       "4          5    15737888  Mitchell          850     Spain  Female   43   \n",
       "\n",
       "   Tenure    Balance  NumOfProducts  HasCrCard  IsActiveMember  \\\n",
       "0       2       0.00              1          1               1   \n",
       "1       1  83,807.86              1          0               1   \n",
       "2       8 159,660.80              3          1               0   \n",
       "3       1       0.00              2          0               0   \n",
       "4       2 125,510.82              1          1               1   \n",
       "\n",
       "   EstimatedSalary  Exited  \n",
       "0       101,348.88       1  \n",
       "1       112,542.58       0  \n",
       "2       113,931.57       1  \n",
       "3        93,826.63       0  \n",
       "4        79,084.10       0  "
      ]
     },
     "execution_count": 4,
     "metadata": {},
     "output_type": "execute_result"
    }
   ],
   "source": [
    "#Loading the dataset\n",
    "df = pd.read_csv(\"data/churn.csv\")\n",
    "df.head()"
   ]
  },
  {
   "cell_type": "code",
   "execution_count": 5,
   "id": "9569a863",
   "metadata": {},
   "outputs": [
    {
     "data": {
      "text/html": [
       "<div>\n",
       "<style scoped>\n",
       "    .dataframe tbody tr th:only-of-type {\n",
       "        vertical-align: middle;\n",
       "    }\n",
       "\n",
       "    .dataframe tbody tr th {\n",
       "        vertical-align: top;\n",
       "    }\n",
       "\n",
       "    .dataframe thead th {\n",
       "        text-align: right;\n",
       "    }\n",
       "</style>\n",
       "<table border=\"1\" class=\"dataframe\">\n",
       "  <thead>\n",
       "    <tr style=\"text-align: right;\">\n",
       "      <th></th>\n",
       "      <th>CreditScore</th>\n",
       "      <th>Geography</th>\n",
       "      <th>Gender</th>\n",
       "      <th>Age</th>\n",
       "      <th>Tenure</th>\n",
       "      <th>Balance</th>\n",
       "      <th>NumOfProducts</th>\n",
       "      <th>HasCrCard</th>\n",
       "      <th>IsActiveMember</th>\n",
       "      <th>EstimatedSalary</th>\n",
       "      <th>Exited</th>\n",
       "    </tr>\n",
       "  </thead>\n",
       "  <tbody>\n",
       "    <tr>\n",
       "      <th>0</th>\n",
       "      <td>619</td>\n",
       "      <td>France</td>\n",
       "      <td>Female</td>\n",
       "      <td>42</td>\n",
       "      <td>2</td>\n",
       "      <td>0.00</td>\n",
       "      <td>1</td>\n",
       "      <td>1</td>\n",
       "      <td>1</td>\n",
       "      <td>101,348.88</td>\n",
       "      <td>1</td>\n",
       "    </tr>\n",
       "    <tr>\n",
       "      <th>1</th>\n",
       "      <td>608</td>\n",
       "      <td>Spain</td>\n",
       "      <td>Female</td>\n",
       "      <td>41</td>\n",
       "      <td>1</td>\n",
       "      <td>83,807.86</td>\n",
       "      <td>1</td>\n",
       "      <td>0</td>\n",
       "      <td>1</td>\n",
       "      <td>112,542.58</td>\n",
       "      <td>0</td>\n",
       "    </tr>\n",
       "    <tr>\n",
       "      <th>2</th>\n",
       "      <td>502</td>\n",
       "      <td>France</td>\n",
       "      <td>Female</td>\n",
       "      <td>42</td>\n",
       "      <td>8</td>\n",
       "      <td>159,660.80</td>\n",
       "      <td>3</td>\n",
       "      <td>1</td>\n",
       "      <td>0</td>\n",
       "      <td>113,931.57</td>\n",
       "      <td>1</td>\n",
       "    </tr>\n",
       "    <tr>\n",
       "      <th>3</th>\n",
       "      <td>699</td>\n",
       "      <td>France</td>\n",
       "      <td>Female</td>\n",
       "      <td>39</td>\n",
       "      <td>1</td>\n",
       "      <td>0.00</td>\n",
       "      <td>2</td>\n",
       "      <td>0</td>\n",
       "      <td>0</td>\n",
       "      <td>93,826.63</td>\n",
       "      <td>0</td>\n",
       "    </tr>\n",
       "    <tr>\n",
       "      <th>4</th>\n",
       "      <td>850</td>\n",
       "      <td>Spain</td>\n",
       "      <td>Female</td>\n",
       "      <td>43</td>\n",
       "      <td>2</td>\n",
       "      <td>125,510.82</td>\n",
       "      <td>1</td>\n",
       "      <td>1</td>\n",
       "      <td>1</td>\n",
       "      <td>79,084.10</td>\n",
       "      <td>0</td>\n",
       "    </tr>\n",
       "  </tbody>\n",
       "</table>\n",
       "</div>"
      ],
      "text/plain": [
       "   CreditScore Geography  Gender  Age  Tenure    Balance  NumOfProducts  \\\n",
       "0          619    France  Female   42       2       0.00              1   \n",
       "1          608     Spain  Female   41       1  83,807.86              1   \n",
       "2          502    France  Female   42       8 159,660.80              3   \n",
       "3          699    France  Female   39       1       0.00              2   \n",
       "4          850     Spain  Female   43       2 125,510.82              1   \n",
       "\n",
       "   HasCrCard  IsActiveMember  EstimatedSalary  Exited  \n",
       "0          1               1       101,348.88       1  \n",
       "1          0               1       112,542.58       0  \n",
       "2          1               0       113,931.57       1  \n",
       "3          0               0        93,826.63       0  \n",
       "4          1               1        79,084.10       0  "
      ]
     },
     "execution_count": 5,
     "metadata": {},
     "output_type": "execute_result"
    }
   ],
   "source": [
    "#Dropping the columns that do not add value\n",
    "df = df.drop(df.columns[0:3], axis=1)\n",
    "df.head()"
   ]
  },
  {
   "cell_type": "code",
   "execution_count": 6,
   "id": "4f21b133",
   "metadata": {},
   "outputs": [
    {
     "data": {
      "text/plain": [
       "(10000, 11)"
      ]
     },
     "execution_count": 6,
     "metadata": {},
     "output_type": "execute_result"
    }
   ],
   "source": [
    "df.shape"
   ]
  },
  {
   "cell_type": "code",
   "execution_count": 7,
   "id": "2886d5c4",
   "metadata": {},
   "outputs": [
    {
     "name": "stdout",
     "output_type": "stream",
     "text": [
      "<class 'pandas.core.frame.DataFrame'>\n",
      "RangeIndex: 10000 entries, 0 to 9999\n",
      "Data columns (total 11 columns):\n",
      " #   Column           Non-Null Count  Dtype  \n",
      "---  ------           --------------  -----  \n",
      " 0   CreditScore      10000 non-null  int64  \n",
      " 1   Geography        10000 non-null  object \n",
      " 2   Gender           10000 non-null  object \n",
      " 3   Age              10000 non-null  int64  \n",
      " 4   Tenure           10000 non-null  int64  \n",
      " 5   Balance          10000 non-null  float64\n",
      " 6   NumOfProducts    10000 non-null  int64  \n",
      " 7   HasCrCard        10000 non-null  int64  \n",
      " 8   IsActiveMember   10000 non-null  int64  \n",
      " 9   EstimatedSalary  10000 non-null  float64\n",
      " 10  Exited           10000 non-null  int64  \n",
      "dtypes: float64(2), int64(7), object(2)\n",
      "memory usage: 859.5+ KB\n"
     ]
    }
   ],
   "source": [
    "df.info()"
   ]
  },
  {
   "cell_type": "code",
   "execution_count": 8,
   "id": "784f67b0",
   "metadata": {},
   "outputs": [
    {
     "name": "stdout",
     "output_type": "stream",
     "text": [
      "The feature Geography contains 3  distinct values \n",
      "The feature Gender contains 2  distinct values \n"
     ]
    }
   ],
   "source": [
    "#Finding the categorical features and the amount of different values the have\n",
    "\n",
    "categorical=df.select_dtypes(include=\"object\").columns\n",
    "\n",
    "for line in categorical:\n",
    "    print(\"The feature \" + line + \" contains\" ,  str(len(df[line].unique())) ,\" distinct values \")"
   ]
  },
  {
   "cell_type": "code",
   "execution_count": 9,
   "id": "5db1f354",
   "metadata": {},
   "outputs": [
    {
     "data": {
      "image/png": "[encoded data removed]",
      "text/plain": [
       "<Figure size 1200x400 with 2 Axes>"
      ]
     },
     "metadata": {},
     "output_type": "display_data"
    }
   ],
   "source": [
    "#Analyzing the distributions of the categorical features\n",
    "\n",
    "f,axes=plt.subplots(1,2,figsize=(12,4))\n",
    "\n",
    "sns.countplot(df[\"Gender\"],ax=axes[0]);\n",
    "sns.countplot(df['Geography'],ax=axes[1]);"
   ]
  },
  {
   "cell_type": "code",
   "execution_count": 10,
   "id": "afc05906",
   "metadata": {},
   "outputs": [],
   "source": [
    "#Creating new features with the help of get_dummies\n",
    "\n",
    "for column in categorical:\n",
    "    nuevas_features = pd.get_dummies(df[column])\n",
    "    df= pd.merge(\n",
    "        left=df,\n",
    "        right=nuevas_features,\n",
    "        left_index=True,\n",
    "        right_index=True,\n",
    "    )\n",
    "    df = df.drop(columns=column)"
   ]
  },
  {
   "cell_type": "code",
   "execution_count": 11,
   "id": "7e17c47c",
   "metadata": {},
   "outputs": [
    {
     "data": {
      "text/html": [
       "<div>\n",
       "<style scoped>\n",
       "    .dataframe tbody tr th:only-of-type {\n",
       "        vertical-align: middle;\n",
       "    }\n",
       "\n",
       "    .dataframe tbody tr th {\n",
       "        vertical-align: top;\n",
       "    }\n",
       "\n",
       "    .dataframe thead th {\n",
       "        text-align: right;\n",
       "    }\n",
       "</style>\n",
       "<table border=\"1\" class=\"dataframe\">\n",
       "  <thead>\n",
       "    <tr style=\"text-align: right;\">\n",
       "      <th></th>\n",
       "      <th>CreditScore</th>\n",
       "      <th>Age</th>\n",
       "      <th>Tenure</th>\n",
       "      <th>Balance</th>\n",
       "      <th>NumOfProducts</th>\n",
       "      <th>HasCrCard</th>\n",
       "      <th>IsActiveMember</th>\n",
       "      <th>EstimatedSalary</th>\n",
       "      <th>Exited</th>\n",
       "      <th>France</th>\n",
       "      <th>Germany</th>\n",
       "      <th>Spain</th>\n",
       "      <th>Female</th>\n",
       "      <th>Male</th>\n",
       "    </tr>\n",
       "  </thead>\n",
       "  <tbody>\n",
       "    <tr>\n",
       "      <th>0</th>\n",
       "      <td>619</td>\n",
       "      <td>42</td>\n",
       "      <td>2</td>\n",
       "      <td>0.00</td>\n",
       "      <td>1</td>\n",
       "      <td>1</td>\n",
       "      <td>1</td>\n",
       "      <td>101,348.88</td>\n",
       "      <td>1</td>\n",
       "      <td>1</td>\n",
       "      <td>0</td>\n",
       "      <td>0</td>\n",
       "      <td>1</td>\n",
       "      <td>0</td>\n",
       "    </tr>\n",
       "    <tr>\n",
       "      <th>1</th>\n",
       "      <td>608</td>\n",
       "      <td>41</td>\n",
       "      <td>1</td>\n",
       "      <td>83,807.86</td>\n",
       "      <td>1</td>\n",
       "      <td>0</td>\n",
       "      <td>1</td>\n",
       "      <td>112,542.58</td>\n",
       "      <td>0</td>\n",
       "      <td>0</td>\n",
       "      <td>0</td>\n",
       "      <td>1</td>\n",
       "      <td>1</td>\n",
       "      <td>0</td>\n",
       "    </tr>\n",
       "    <tr>\n",
       "      <th>2</th>\n",
       "      <td>502</td>\n",
       "      <td>42</td>\n",
       "      <td>8</td>\n",
       "      <td>159,660.80</td>\n",
       "      <td>3</td>\n",
       "      <td>1</td>\n",
       "      <td>0</td>\n",
       "      <td>113,931.57</td>\n",
       "      <td>1</td>\n",
       "      <td>1</td>\n",
       "      <td>0</td>\n",
       "      <td>0</td>\n",
       "      <td>1</td>\n",
       "      <td>0</td>\n",
       "    </tr>\n",
       "    <tr>\n",
       "      <th>3</th>\n",
       "      <td>699</td>\n",
       "      <td>39</td>\n",
       "      <td>1</td>\n",
       "      <td>0.00</td>\n",
       "      <td>2</td>\n",
       "      <td>0</td>\n",
       "      <td>0</td>\n",
       "      <td>93,826.63</td>\n",
       "      <td>0</td>\n",
       "      <td>1</td>\n",
       "      <td>0</td>\n",
       "      <td>0</td>\n",
       "      <td>1</td>\n",
       "      <td>0</td>\n",
       "    </tr>\n",
       "    <tr>\n",
       "      <th>4</th>\n",
       "      <td>850</td>\n",
       "      <td>43</td>\n",
       "      <td>2</td>\n",
       "      <td>125,510.82</td>\n",
       "      <td>1</td>\n",
       "      <td>1</td>\n",
       "      <td>1</td>\n",
       "      <td>79,084.10</td>\n",
       "      <td>0</td>\n",
       "      <td>0</td>\n",
       "      <td>0</td>\n",
       "      <td>1</td>\n",
       "      <td>1</td>\n",
       "      <td>0</td>\n",
       "    </tr>\n",
       "  </tbody>\n",
       "</table>\n",
       "</div>"
      ],
      "text/plain": [
       "   CreditScore  Age  Tenure    Balance  NumOfProducts  HasCrCard  \\\n",
       "0          619   42       2       0.00              1          1   \n",
       "1          608   41       1  83,807.86              1          0   \n",
       "2          502   42       8 159,660.80              3          1   \n",
       "3          699   39       1       0.00              2          0   \n",
       "4          850   43       2 125,510.82              1          1   \n",
       "\n",
       "   IsActiveMember  EstimatedSalary  Exited  France  Germany  Spain  Female  \\\n",
       "0               1       101,348.88       1       1        0      0       1   \n",
       "1               1       112,542.58       0       0        0      1       1   \n",
       "2               0       113,931.57       1       1        0      0       1   \n",
       "3               0        93,826.63       0       1        0      0       1   \n",
       "4               1        79,084.10       0       0        0      1       1   \n",
       "\n",
       "   Male  \n",
       "0     0  \n",
       "1     0  \n",
       "2     0  \n",
       "3     0  \n",
       "4     0  "
      ]
     },
     "execution_count": 11,
     "metadata": {},
     "output_type": "execute_result"
    }
   ],
   "source": [
    "df.head()"
   ]
  },
  {
   "cell_type": "code",
   "execution_count": 12,
   "id": "9318997b",
   "metadata": {},
   "outputs": [],
   "source": [
    "#Defining X and y\n",
    "X=df.drop(columns=[\"Exited\"])\n",
    "y=df[[\"Exited\"]]"
   ]
  },
  {
   "cell_type": "code",
   "execution_count": 13,
   "id": "a171126c",
   "metadata": {},
   "outputs": [
    {
     "data": {
      "text/plain": [
       "Exited\n",
       "0        79.63\n",
       "1        20.37\n",
       "dtype: float64"
      ]
     },
     "execution_count": 13,
     "metadata": {},
     "output_type": "execute_result"
    }
   ],
   "source": [
    "#Finding the percentage of each class\n",
    "(y.value_counts()/y.shape[0])*100"
   ]
  },
  {
   "cell_type": "code",
   "execution_count": 14,
   "id": "3b9dfd0b",
   "metadata": {},
   "outputs": [
    {
     "data": {
      "image/png": "[encoded data removed]",
      "text/plain": [
       "<Figure size 640x480 with 1 Axes>"
      ]
     },
     "metadata": {},
     "output_type": "display_data"
    }
   ],
   "source": [
    "sns.countplot(data=df,x=\"Exited\");"
   ]
  },
  {
   "cell_type": "code",
   "execution_count": 15,
   "id": "a76d4f60",
   "metadata": {},
   "outputs": [
    {
     "data": {
      "text/plain": [
       "Exited\n",
       "1        55.28\n",
       "0        44.72\n",
       "dtype: float64"
      ]
     },
     "execution_count": 15,
     "metadata": {},
     "output_type": "execute_result"
    }
   ],
   "source": [
    "#Managing the imbalanced classes with imblearn\n",
    "\n",
    "from imblearn.combine import SMOTEENN\n",
    "\n",
    "imp=SMOTEENN(sampling_strategy=0.99)\n",
    "\n",
    "X_bal,y_bal=imp.fit_resample(X,y)\n",
    "\n",
    "#Finding out if the imbalaced data continues\n",
    "\n",
    "y_bal.value_counts(normalize=True)*100"
   ]
  },
  {
   "cell_type": "code",
   "execution_count": 16,
   "id": "22fdf23d",
   "metadata": {},
   "outputs": [],
   "source": [
    "#Saving the new data in order to save time in the future analysis\n",
    "\n",
    "new_data=pd.concat([X_bal,y_bal],axis=1)\n",
    "\n",
    "new_data.to_csv(\"new_data_churn_lab_platzi.csv\",index=False)"
   ]
  },
  {
   "cell_type": "code",
   "execution_count": 17,
   "id": "c65abd84",
   "metadata": {},
   "outputs": [],
   "source": [
    "#Splitting the data in train and test\n",
    "\n",
    "from sklearn.model_selection import train_test_split\n",
    "\n",
    "X_train,X_test,y_train,y_test=train_test_split(X_bal,y_bal,test_size=0.3, random_state=42)"
   ]
  },
  {
   "cell_type": "code",
   "execution_count": 18,
   "id": "313faf81",
   "metadata": {},
   "outputs": [],
   "source": [
    "#Standardization the data\n",
    "\n",
    "from sklearn.preprocessing import StandardScaler\n",
    "\n",
    "scaler_x=StandardScaler()\n",
    "\n",
    "scaler_x.fit(X_train)\n",
    "\n",
    "X_train=pd.DataFrame(scaler_x.transform(X_train),columns=X_train.columns)\n",
    "\n",
    "X_test=pd.DataFrame(scaler_x.transform(X_test),columns=X_test.columns)"
   ]
  },
  {
   "cell_type": "code",
   "execution_count": 19,
   "id": "8b101b60",
   "metadata": {},
   "outputs": [],
   "source": [
    "#EVALUATING DIFFERENT MACHINE LEARNING MODELS\n",
    "\n",
    "#Importing the libraries\n",
    "from sklearn.linear_model import LogisticRegression\n",
    "from sklearn.discriminant_analysis import LinearDiscriminantAnalysis\n",
    "from sklearn.naive_bayes import GaussianNB\n",
    "from sklearn.svm import SVC\n",
    "from sklearn.neighbors import KNeighborsClassifier\n",
    "from sklearn.tree import DecisionTreeClassifier\n",
    "from sklearn.ensemble import RandomForestClassifier,BaggingClassifier,ExtraTreesClassifier,AdaBoostClassifier,GradientBoostingClassifier,VotingClassifier\n",
    "from sklearn.model_selection import KFold,cross_val_score\n",
    "from sklearn.preprocessing import StandardScaler\n",
    "from xgboost import XGBClassifier\n",
    "import xgboost as xgb\n",
    "\n",
    "estimators=[(\"lr\",LogisticRegression(solver=\"lbfgs\",max_iter=10000)),(\"knn\",KNeighborsClassifier(5)),(\"rfc\",RandomForestClassifier())]"
   ]
  },
  {
   "cell_type": "code",
   "execution_count": 64,
   "id": "bb1ac4d6",
   "metadata": {},
   "outputs": [
    {
     "name": "stdout",
     "output_type": "stream",
     "text": [
      "Logistic Regression :85.21% (1.36%)\n",
      "LDA :84.81% (1.34%)\n",
      "Naive Bayes :80.63% (1.64%)\n",
      "KNN :86.10% (1.27%)\n",
      "XGBClassifier :90.39% (1.34%)\n",
      "Decision Tree :83.94% (1.12%)\n",
      "Random Forest :89.79% (1.19%)\n",
      "Bagging Class :87.61% (2.44%)\n",
      "Extra trees :89.73% (1.54%)\n",
      "Ada Boost :87.81% (0.92%)\n",
      "Gradient Boosting :88.61% (1.08%)\n",
      "Voting Classifier :88.12% (1.07%)\n",
      "Average Voting Classifier :88.06% (1.21%)\n"
     ]
    }
   ],
   "source": [
    "#Preparing the models\n",
    "models=[]\n",
    "models.append((\"Logistic Regression\",LogisticRegression(solver=\"lbfgs\",max_iter=10000)))\n",
    "models.append((\"LDA\",LinearDiscriminantAnalysis()))\n",
    "models.append((\"Naive Bayes\",GaussianNB()))\n",
    "# models.append((\"SVM\",SVC(gamma=\"auto\")))\n",
    "models.append((\"KNN\",KNeighborsClassifier()))\n",
    "models.append((\"XGBClassifier\",XGBClassifier(objective=\"binary:logistic\")))\n",
    "models.append((\"Decision Tree\",DecisionTreeClassifier()))\n",
    "models.append((\"Random Forest\",RandomForestClassifier()))\n",
    "models.append((\"Bagging Class\",BaggingClassifier()))\n",
    "models.append((\"Extra trees\",ExtraTreesClassifier()))\n",
    "models.append((\"Ada Boost\",AdaBoostClassifier()))\n",
    "models.append((\"Gradient Boosting\",GradientBoostingClassifier()))\n",
    "models.append((\"Voting Classifier\",VotingClassifier(estimators)))\n",
    "models.append((\"Average Voting Classifier\",VotingClassifier(estimators,voting=\"soft\")))\n",
    "\n",
    "\n",
    "#Evaluating each model in turn\n",
    "results=[]\n",
    "names=[]\n",
    "scoring=\"accuracy\"\n",
    "scaler=StandardScaler()\n",
    "\n",
    "for name, model in models:\n",
    "  kfold=KFold(n_splits=10,shuffle=True)\n",
    "  cv_results=cross_val_score(model,X_train,y_train.values.reshape(-1,1).ravel(),cv=kfold,scoring=scoring)\n",
    "  results.append(cv_results)\n",
    "  names.append(name)\n",
    "  print(f\"{name} :{cv_results.mean()*100:,.2f}% ({cv_results.std()*100:.2f}%)\")"
   ]
  },
  {
   "cell_type": "code",
   "execution_count": 67,
   "id": "1a6adf31",
   "metadata": {},
   "outputs": [
    {
     "data": {
      "image/png": "[encoded data removed]",
      "text/plain": [
       "<Figure size 800x600 with 1 Axes>"
      ]
     },
     "metadata": {},
     "output_type": "display_data"
    }
   ],
   "source": [
    "import matplotlib.pyplot as plt\n",
    "fig=plt.figure()\n",
    "fig.suptitle(\"Comparison of the different Algorithms\")\n",
    "ax=fig.add_subplot(111)\n",
    "plt.rcParams[\"figure.figsize\"]=[8,10]\n",
    "plt.boxplot(results)\n",
    "ax.set_xticklabels(names,rotation=\"vertical\")\n",
    "plt.show()"
   ]
  },
  {
   "cell_type": "code",
   "execution_count": 43,
   "id": "d59f809a",
   "metadata": {},
   "outputs": [
    {
     "name": "stdout",
     "output_type": "stream",
     "text": [
      "Best : 0.892348 using the params {'max_depth': 7, 'n_estimators': 19}\n",
      "0.829180 (0.005817) with {'max_depth': 2, 'n_estimators': 5}\n",
      "0.839190 (0.009250) with {'max_depth': 2, 'n_estimators': 6}\n",
      "0.846750 (0.014139) with {'max_depth': 2, 'n_estimators': 7}\n",
      "0.850533 (0.010648) with {'max_depth': 2, 'n_estimators': 8}\n",
      "0.853868 (0.005478) with {'max_depth': 2, 'n_estimators': 9}\n",
      "0.855423 (0.009724) with {'max_depth': 2, 'n_estimators': 10}\n",
      "0.856537 (0.006417) with {'max_depth': 2, 'n_estimators': 11}\n",
      "0.859873 (0.006100) with {'max_depth': 2, 'n_estimators': 12}\n",
      "0.860095 (0.007132) with {'max_depth': 2, 'n_estimators': 13}\n",
      "0.863654 (0.006592) with {'max_depth': 2, 'n_estimators': 14}\n",
      "0.866546 (0.008930) with {'max_depth': 2, 'n_estimators': 15}\n",
      "0.866991 (0.008370) with {'max_depth': 2, 'n_estimators': 16}\n",
      "0.867213 (0.006548) with {'max_depth': 2, 'n_estimators': 17}\n",
      "0.867213 (0.009918) with {'max_depth': 2, 'n_estimators': 18}\n",
      "0.868993 (0.007810) with {'max_depth': 2, 'n_estimators': 19}\n",
      "0.851198 (0.013496) with {'max_depth': 3, 'n_estimators': 5}\n",
      "0.858539 (0.008223) with {'max_depth': 3, 'n_estimators': 6}\n",
      "0.862321 (0.007615) with {'max_depth': 3, 'n_estimators': 7}\n",
      "0.859206 (0.008867) with {'max_depth': 3, 'n_estimators': 8}\n",
      "0.861652 (0.009769) with {'max_depth': 3, 'n_estimators': 9}\n",
      "0.865209 (0.013863) with {'max_depth': 3, 'n_estimators': 10}\n",
      "0.871883 (0.012100) with {'max_depth': 3, 'n_estimators': 11}\n",
      "0.868770 (0.010197) with {'max_depth': 3, 'n_estimators': 12}\n",
      "0.874552 (0.013306) with {'max_depth': 3, 'n_estimators': 13}\n",
      "0.873440 (0.010307) with {'max_depth': 3, 'n_estimators': 14}\n",
      "0.873441 (0.010227) with {'max_depth': 3, 'n_estimators': 15}\n",
      "0.875442 (0.011104) with {'max_depth': 3, 'n_estimators': 16}\n",
      "0.875666 (0.011083) with {'max_depth': 3, 'n_estimators': 17}\n",
      "0.877445 (0.008821) with {'max_depth': 3, 'n_estimators': 18}\n",
      "0.879224 (0.009686) with {'max_depth': 3, 'n_estimators': 19}\n",
      "0.858760 (0.013039) with {'max_depth': 4, 'n_estimators': 5}\n",
      "0.863432 (0.014392) with {'max_depth': 4, 'n_estimators': 6}\n",
      "0.864989 (0.012501) with {'max_depth': 4, 'n_estimators': 7}\n",
      "0.866100 (0.014472) with {'max_depth': 4, 'n_estimators': 8}\n",
      "0.869214 (0.015073) with {'max_depth': 4, 'n_estimators': 9}\n",
      "0.869660 (0.009240) with {'max_depth': 4, 'n_estimators': 10}\n",
      "0.872996 (0.010798) with {'max_depth': 4, 'n_estimators': 11}\n",
      "0.876109 (0.014433) with {'max_depth': 4, 'n_estimators': 12}\n",
      "0.877890 (0.010857) with {'max_depth': 4, 'n_estimators': 13}\n",
      "0.878779 (0.012704) with {'max_depth': 4, 'n_estimators': 14}\n",
      "0.881003 (0.009436) with {'max_depth': 4, 'n_estimators': 15}\n",
      "0.880336 (0.011802) with {'max_depth': 4, 'n_estimators': 16}\n",
      "0.882782 (0.010477) with {'max_depth': 4, 'n_estimators': 17}\n",
      "0.882560 (0.009528) with {'max_depth': 4, 'n_estimators': 18}\n",
      "0.884117 (0.008564) with {'max_depth': 4, 'n_estimators': 19}\n",
      "0.863879 (0.010454) with {'max_depth': 5, 'n_estimators': 5}\n",
      "0.869216 (0.014873) with {'max_depth': 5, 'n_estimators': 6}\n",
      "0.874776 (0.011369) with {'max_depth': 5, 'n_estimators': 7}\n",
      "0.879893 (0.008652) with {'max_depth': 5, 'n_estimators': 8}\n",
      "0.881450 (0.010062) with {'max_depth': 5, 'n_estimators': 9}\n",
      "0.881451 (0.007522) with {'max_depth': 5, 'n_estimators': 10}\n",
      "0.881007 (0.008412) with {'max_depth': 5, 'n_estimators': 11}\n",
      "0.881450 (0.007372) with {'max_depth': 5, 'n_estimators': 12}\n",
      "0.883228 (0.008344) with {'max_depth': 5, 'n_estimators': 13}\n",
      "0.884341 (0.008426) with {'max_depth': 5, 'n_estimators': 14}\n",
      "0.884563 (0.006630) with {'max_depth': 5, 'n_estimators': 15}\n",
      "0.883451 (0.006927) with {'max_depth': 5, 'n_estimators': 16}\n",
      "0.884340 (0.006816) with {'max_depth': 5, 'n_estimators': 17}\n",
      "0.885896 (0.006839) with {'max_depth': 5, 'n_estimators': 18}\n",
      "0.886119 (0.007331) with {'max_depth': 5, 'n_estimators': 19}\n",
      "0.864989 (0.010820) with {'max_depth': 6, 'n_estimators': 5}\n",
      "0.872107 (0.010596) with {'max_depth': 6, 'n_estimators': 6}\n",
      "0.873220 (0.013687) with {'max_depth': 6, 'n_estimators': 7}\n",
      "0.875000 (0.012576) with {'max_depth': 6, 'n_estimators': 8}\n",
      "0.876556 (0.014711) with {'max_depth': 6, 'n_estimators': 9}\n",
      "0.879893 (0.012528) with {'max_depth': 6, 'n_estimators': 10}\n",
      "0.884564 (0.013135) with {'max_depth': 6, 'n_estimators': 11}\n",
      "0.886789 (0.014110) with {'max_depth': 6, 'n_estimators': 12}\n",
      "0.887234 (0.012591) with {'max_depth': 6, 'n_estimators': 13}\n",
      "0.889235 (0.011089) with {'max_depth': 6, 'n_estimators': 14}\n",
      "0.889457 (0.008402) with {'max_depth': 6, 'n_estimators': 15}\n",
      "0.889457 (0.012519) with {'max_depth': 6, 'n_estimators': 16}\n",
      "0.888790 (0.012957) with {'max_depth': 6, 'n_estimators': 17}\n",
      "0.891459 (0.013361) with {'max_depth': 6, 'n_estimators': 18}\n",
      "0.890124 (0.013527) with {'max_depth': 6, 'n_estimators': 19}\n",
      "0.868104 (0.007644) with {'max_depth': 7, 'n_estimators': 5}\n",
      "0.870997 (0.005067) with {'max_depth': 7, 'n_estimators': 6}\n",
      "0.872997 (0.006749) with {'max_depth': 7, 'n_estimators': 7}\n",
      "0.882339 (0.006734) with {'max_depth': 7, 'n_estimators': 8}\n",
      "0.881226 (0.006135) with {'max_depth': 7, 'n_estimators': 9}\n",
      "0.883896 (0.008294) with {'max_depth': 7, 'n_estimators': 10}\n",
      "0.886343 (0.008493) with {'max_depth': 7, 'n_estimators': 11}\n",
      "0.886787 (0.009593) with {'max_depth': 7, 'n_estimators': 12}\n",
      "0.887678 (0.009442) with {'max_depth': 7, 'n_estimators': 13}\n",
      "0.887900 (0.007633) with {'max_depth': 7, 'n_estimators': 14}\n",
      "0.888122 (0.005965) with {'max_depth': 7, 'n_estimators': 15}\n",
      "0.889234 (0.007511) with {'max_depth': 7, 'n_estimators': 16}\n",
      "0.890124 (0.008492) with {'max_depth': 7, 'n_estimators': 17}\n",
      "0.890791 (0.007857) with {'max_depth': 7, 'n_estimators': 18}\n",
      "0.892348 (0.009221) with {'max_depth': 7, 'n_estimators': 19}\n",
      "0.867437 (0.003370) with {'max_depth': 8, 'n_estimators': 5}\n",
      "0.869884 (0.007213) with {'max_depth': 8, 'n_estimators': 6}\n",
      "0.872775 (0.008377) with {'max_depth': 8, 'n_estimators': 7}\n",
      "0.876779 (0.009484) with {'max_depth': 8, 'n_estimators': 8}\n",
      "0.878112 (0.007943) with {'max_depth': 8, 'n_estimators': 9}\n",
      "0.878779 (0.007000) with {'max_depth': 8, 'n_estimators': 10}\n",
      "0.880336 (0.008548) with {'max_depth': 8, 'n_estimators': 11}\n",
      "0.880781 (0.004879) with {'max_depth': 8, 'n_estimators': 12}\n",
      "0.883895 (0.005141) with {'max_depth': 8, 'n_estimators': 13}\n",
      "0.886564 (0.006815) with {'max_depth': 8, 'n_estimators': 14}\n",
      "0.889678 (0.006302) with {'max_depth': 8, 'n_estimators': 15}\n",
      "0.889010 (0.008281) with {'max_depth': 8, 'n_estimators': 16}\n",
      "0.888120 (0.008075) with {'max_depth': 8, 'n_estimators': 17}\n",
      "0.889899 (0.007108) with {'max_depth': 8, 'n_estimators': 18}\n",
      "0.889899 (0.006602) with {'max_depth': 8, 'n_estimators': 19}\n",
      "0.869659 (0.013254) with {'max_depth': 9, 'n_estimators': 5}\n",
      "0.872997 (0.011082) with {'max_depth': 9, 'n_estimators': 6}\n",
      "0.873887 (0.009436) with {'max_depth': 9, 'n_estimators': 7}\n",
      "0.876332 (0.010911) with {'max_depth': 9, 'n_estimators': 8}\n",
      "0.877890 (0.010852) with {'max_depth': 9, 'n_estimators': 9}\n",
      "0.879670 (0.009844) with {'max_depth': 9, 'n_estimators': 10}\n",
      "0.879447 (0.010649) with {'max_depth': 9, 'n_estimators': 11}\n",
      "0.882339 (0.011473) with {'max_depth': 9, 'n_estimators': 12}\n",
      "0.885006 (0.011851) with {'max_depth': 9, 'n_estimators': 13}\n",
      "0.885229 (0.012709) with {'max_depth': 9, 'n_estimators': 14}\n",
      "0.886786 (0.012575) with {'max_depth': 9, 'n_estimators': 15}\n",
      "0.886341 (0.011825) with {'max_depth': 9, 'n_estimators': 16}\n",
      "0.887008 (0.012099) with {'max_depth': 9, 'n_estimators': 17}\n",
      "0.885896 (0.012298) with {'max_depth': 9, 'n_estimators': 18}\n",
      "0.887009 (0.011970) with {'max_depth': 9, 'n_estimators': 19}\n",
      "0.867659 (0.006767) with {'max_depth': 10, 'n_estimators': 5}\n",
      "0.872996 (0.010768) with {'max_depth': 10, 'n_estimators': 6}\n",
      "0.873664 (0.010229) with {'max_depth': 10, 'n_estimators': 7}\n",
      "0.878111 (0.013268) with {'max_depth': 10, 'n_estimators': 8}\n",
      "0.878334 (0.012457) with {'max_depth': 10, 'n_estimators': 9}\n",
      "0.881893 (0.011389) with {'max_depth': 10, 'n_estimators': 10}\n",
      "0.882116 (0.009869) with {'max_depth': 10, 'n_estimators': 11}\n",
      "0.882561 (0.011543) with {'max_depth': 10, 'n_estimators': 12}\n",
      "0.884563 (0.011117) with {'max_depth': 10, 'n_estimators': 13}\n",
      "0.883895 (0.011039) with {'max_depth': 10, 'n_estimators': 14}\n",
      "0.886565 (0.009348) with {'max_depth': 10, 'n_estimators': 15}\n",
      "0.887454 (0.009196) with {'max_depth': 10, 'n_estimators': 16}\n",
      "0.888567 (0.011406) with {'max_depth': 10, 'n_estimators': 17}\n",
      "0.887898 (0.012472) with {'max_depth': 10, 'n_estimators': 18}\n",
      "0.889901 (0.013922) with {'max_depth': 10, 'n_estimators': 19}\n",
      "0.862987 (0.007534) with {'max_depth': 11, 'n_estimators': 5}\n",
      "0.868770 (0.008843) with {'max_depth': 11, 'n_estimators': 6}\n",
      "0.872550 (0.010295) with {'max_depth': 11, 'n_estimators': 7}\n",
      "0.876109 (0.008956) with {'max_depth': 11, 'n_estimators': 8}\n",
      "0.877222 (0.008609) with {'max_depth': 11, 'n_estimators': 9}\n",
      "0.878777 (0.011445) with {'max_depth': 11, 'n_estimators': 10}\n",
      "0.879890 (0.011043) with {'max_depth': 11, 'n_estimators': 11}\n",
      "0.881892 (0.011553) with {'max_depth': 11, 'n_estimators': 12}\n",
      "0.884117 (0.008210) with {'max_depth': 11, 'n_estimators': 13}\n",
      "0.883673 (0.009654) with {'max_depth': 11, 'n_estimators': 14}\n",
      "0.885452 (0.009940) with {'max_depth': 11, 'n_estimators': 15}\n",
      "0.884784 (0.011422) with {'max_depth': 11, 'n_estimators': 16}\n",
      "0.885229 (0.009760) with {'max_depth': 11, 'n_estimators': 17}\n",
      "0.888343 (0.008632) with {'max_depth': 11, 'n_estimators': 18}\n",
      "0.888121 (0.008800) with {'max_depth': 11, 'n_estimators': 19}\n"
     ]
    }
   ],
   "source": [
    "#Fine Tuning the best model\n",
    "\n",
    "from sklearn.model_selection import GridSearchCV\n",
    "\n",
    "\n",
    "parametros = {\n",
    "    'n_estimators': range(5,20),\n",
    "    'max_depth': range(2, 12)\n",
    "}\n",
    "  \n",
    "model=XGBClassifier(objective=\"binary:logistic\")\n",
    "\n",
    "kfold=KFold(n_splits=5,shuffle=True)\n",
    "\n",
    "grid_result=GridSearchCV(estimator=model,param_grid=parametros,cv=kfold)\n",
    "\n",
    "grid_result.fit(X_train,(y_train.values.reshape(-1,1)).ravel())\n",
    "\n",
    "#Summarize_results\n",
    "\n",
    "print(\"Best : %f using the params %s\" % (grid_result.best_score_ , grid_result.best_params_))\n",
    "\n",
    "means=grid_result.cv_results_[\"mean_test_score\"]\n",
    "stds=grid_result.cv_results_[\"std_test_score\"]\n",
    "params=grid_result.cv_results_[\"params\"]\n",
    "\n",
    "\n",
    "for mean,stdev,param in zip(means,stds,params):\n",
    "    \n",
    "  print(\"%f (%f) with %r\" % (mean,stdev,param))"
   ]
  },
  {
   "cell_type": "code",
   "execution_count": 44,
   "id": "6429e8a9",
   "metadata": {},
   "outputs": [
    {
     "data": {
      "text/html": [
       "<div>\n",
       "<style scoped>\n",
       "    .dataframe tbody tr th:only-of-type {\n",
       "        vertical-align: middle;\n",
       "    }\n",
       "\n",
       "    .dataframe tbody tr th {\n",
       "        vertical-align: top;\n",
       "    }\n",
       "\n",
       "    .dataframe thead th {\n",
       "        text-align: right;\n",
       "    }\n",
       "</style>\n",
       "<table border=\"1\" class=\"dataframe\">\n",
       "  <thead>\n",
       "    <tr style=\"text-align: right;\">\n",
       "      <th></th>\n",
       "      <th>Accuracy</th>\n",
       "      <th>Std</th>\n",
       "      <th>Parameters</th>\n",
       "    </tr>\n",
       "  </thead>\n",
       "  <tbody>\n",
       "    <tr>\n",
       "      <th>0</th>\n",
       "      <td>0.83</td>\n",
       "      <td>0.01</td>\n",
       "      <td>{'max_depth': 2, 'n_estimators': 5}</td>\n",
       "    </tr>\n",
       "    <tr>\n",
       "      <th>1</th>\n",
       "      <td>0.84</td>\n",
       "      <td>0.01</td>\n",
       "      <td>{'max_depth': 2, 'n_estimators': 6}</td>\n",
       "    </tr>\n",
       "    <tr>\n",
       "      <th>2</th>\n",
       "      <td>0.85</td>\n",
       "      <td>0.01</td>\n",
       "      <td>{'max_depth': 2, 'n_estimators': 7}</td>\n",
       "    </tr>\n",
       "    <tr>\n",
       "      <th>3</th>\n",
       "      <td>0.85</td>\n",
       "      <td>0.01</td>\n",
       "      <td>{'max_depth': 2, 'n_estimators': 8}</td>\n",
       "    </tr>\n",
       "    <tr>\n",
       "      <th>4</th>\n",
       "      <td>0.85</td>\n",
       "      <td>0.01</td>\n",
       "      <td>{'max_depth': 2, 'n_estimators': 9}</td>\n",
       "    </tr>\n",
       "    <tr>\n",
       "      <th>...</th>\n",
       "      <td>...</td>\n",
       "      <td>...</td>\n",
       "      <td>...</td>\n",
       "    </tr>\n",
       "    <tr>\n",
       "      <th>145</th>\n",
       "      <td>0.89</td>\n",
       "      <td>0.01</td>\n",
       "      <td>{'max_depth': 11, 'n_estimators': 15}</td>\n",
       "    </tr>\n",
       "    <tr>\n",
       "      <th>146</th>\n",
       "      <td>0.88</td>\n",
       "      <td>0.01</td>\n",
       "      <td>{'max_depth': 11, 'n_estimators': 16}</td>\n",
       "    </tr>\n",
       "    <tr>\n",
       "      <th>147</th>\n",
       "      <td>0.89</td>\n",
       "      <td>0.01</td>\n",
       "      <td>{'max_depth': 11, 'n_estimators': 17}</td>\n",
       "    </tr>\n",
       "    <tr>\n",
       "      <th>148</th>\n",
       "      <td>0.89</td>\n",
       "      <td>0.01</td>\n",
       "      <td>{'max_depth': 11, 'n_estimators': 18}</td>\n",
       "    </tr>\n",
       "    <tr>\n",
       "      <th>149</th>\n",
       "      <td>0.89</td>\n",
       "      <td>0.01</td>\n",
       "      <td>{'max_depth': 11, 'n_estimators': 19}</td>\n",
       "    </tr>\n",
       "  </tbody>\n",
       "</table>\n",
       "<p>150 rows × 3 columns</p>\n",
       "</div>"
      ],
      "text/plain": [
       "     Accuracy  Std                             Parameters\n",
       "0        0.83 0.01    {'max_depth': 2, 'n_estimators': 5}\n",
       "1        0.84 0.01    {'max_depth': 2, 'n_estimators': 6}\n",
       "2        0.85 0.01    {'max_depth': 2, 'n_estimators': 7}\n",
       "3        0.85 0.01    {'max_depth': 2, 'n_estimators': 8}\n",
       "4        0.85 0.01    {'max_depth': 2, 'n_estimators': 9}\n",
       "..        ...  ...                                    ...\n",
       "145      0.89 0.01  {'max_depth': 11, 'n_estimators': 15}\n",
       "146      0.88 0.01  {'max_depth': 11, 'n_estimators': 16}\n",
       "147      0.89 0.01  {'max_depth': 11, 'n_estimators': 17}\n",
       "148      0.89 0.01  {'max_depth': 11, 'n_estimators': 18}\n",
       "149      0.89 0.01  {'max_depth': 11, 'n_estimators': 19}\n",
       "\n",
       "[150 rows x 3 columns]"
      ]
     },
     "execution_count": 44,
     "metadata": {},
     "output_type": "execute_result"
    }
   ],
   "source": [
    "results=pd.DataFrame(list(zip(means,stds,params)))\n",
    "results.columns=[\"Accuracy\",\"Std\",\"Parameters\"]\n",
    "results"
   ]
  },
  {
   "cell_type": "code",
   "execution_count": 45,
   "id": "9e8900da",
   "metadata": {},
   "outputs": [
    {
     "name": "stdout",
     "output_type": "stream",
     "text": [
      "   train-auc-mean  train-auc-std  test-auc-mean  test-auc-std\n",
      "0            0.85           0.01           0.83          0.01\n",
      "1            0.88           0.01           0.87          0.01\n",
      "2            0.92           0.00           0.91          0.01\n",
      "3            0.92           0.00           0.92          0.01\n",
      "4            0.93           0.00           0.92          0.01\n",
      "5            0.94           0.00           0.93          0.01\n",
      "6            0.94           0.00           0.93          0.00\n",
      "7            0.95           0.00           0.94          0.01\n",
      "8            0.95           0.00           0.94          0.01\n",
      "9            0.95           0.00           0.94          0.01\n",
      "********************\n",
      "ROC_AUC with XGBoostCV\n",
      "0.939541415631122\n",
      "********************\n",
      "ROC_AUC with sk-learn 0.9616033045560165\n"
     ]
    }
   ],
   "source": [
    "#Playing with CV in XGBoost\n",
    "\n",
    "from xgboost import cv\n",
    "\n",
    "from xgboost import DMatrix\n",
    "\n",
    "matrix=DMatrix(X_train,y_train)\n",
    "\n",
    "params = {\"objective\":\"binary:logistic\", \"max_depth\":3}\n",
    "\n",
    "\n",
    "# Perform cross-validation: cv_results\n",
    "cv_results = cv(dtrain=matrix, params=params, \n",
    "                  nfold=3, num_boost_round=10, \n",
    "                  metrics=\"auc\", as_pandas=True, seed=123)\n",
    "\n",
    "\n",
    "# Print cv_results\n",
    "print(cv_results)\n",
    "\n",
    "print(\"*\"*20)\n",
    "\n",
    "# Print the AUC\n",
    "print(\"ROC_AUC with XGBoostCV\")\n",
    "print(((cv_results[\"test-auc-mean\"].iloc[-1])))\n",
    "\n",
    "print(\"*\"*20)\n",
    "\n",
    "#CV with sk-learn\n",
    "cv_sklearn=cross_val_score(XGBClassifier(objective=\"binary:logistic\",max_depth=3),X_train,y_train.values.reshape(-1,1).ravel(),cv=kfold,scoring=\"roc_auc\").mean()\n",
    "\n",
    "print(\"ROC_AUC with sk-learn\",cv_sklearn)"
   ]
  },
  {
   "cell_type": "code",
   "execution_count": 46,
   "id": "9f0e2693",
   "metadata": {},
   "outputs": [
    {
     "data": {
      "image/png": "[encoded data removed]",
      "text/plain": [
       "<Figure size 400x600 with 1 Axes>"
      ]
     },
     "metadata": {},
     "output_type": "display_data"
    },
    {
     "data": {
      "text/plain": [
       "<Figure size 1000x600 with 0 Axes>"
      ]
     },
     "metadata": {},
     "output_type": "display_data"
    }
   ],
   "source": [
    "# Create the DMatrix: housing_dmatrix\n",
    "matrix = xgb.DMatrix(data=X, label=y)\n",
    "\n",
    "# Create the parameter dictionary: params\n",
    "params = {\"objective\":\"binary:logistic\", \"max_depth\":2}\n",
    "\n",
    "# Train the model: xg_reg\n",
    "xg_cla = xgb.train(params=params, dtrain=matrix, num_boost_round=10)\n",
    "\n",
    "# Plot the first tree\n",
    "xgb.plot_tree(xg_cla,num_trees=9)\n",
    "plt.figure(figsize=(10,6))\n",
    "plt.show();\n"
   ]
  },
  {
   "cell_type": "code",
   "execution_count": 47,
   "id": "23223da7",
   "metadata": {},
   "outputs": [
    {
     "data": {
      "image/png": "[encoded data removed]",
      "text/plain": [
       "<Figure size 400x600 with 1 Axes>"
      ]
     },
     "metadata": {},
     "output_type": "display_data"
    }
   ],
   "source": [
    "# Plot the feature importances\n",
    "xgb.plot_importance(xg_cla)\n",
    "plt.rcParams[\"figure.figsize\"]=[5,2]\n",
    "plt.show()"
   ]
  },
  {
   "cell_type": "code",
   "execution_count": 48,
   "id": "ae5ff0b1",
   "metadata": {},
   "outputs": [],
   "source": [
    "#Saving the fine_tuned model\n",
    "from pickle import dump\n",
    "dump(grid_result,open(\"Models_Jupyter_Notebook/tune_model_lab_platzi.pkl\",\"wb\"))"
   ]
  },
  {
   "cell_type": "code",
   "execution_count": 49,
   "id": "fce7313e",
   "metadata": {},
   "outputs": [],
   "source": [
    "#Saving the scaler\n",
    "from pickle import dump\n",
    "dump(scaler_x,open(\"Models_Jupyter_Notebook/scaler_x.pkl\",\"wb\"))"
   ]
  },
  {
   "cell_type": "code",
   "execution_count": 50,
   "id": "a557759e",
   "metadata": {},
   "outputs": [
    {
     "name": "stdout",
     "output_type": "stream",
     "text": [
      "Classification Report:\n",
      "              precision    recall  f1-score   support\n",
      "\n",
      "           0       0.87      0.90      0.88       866\n",
      "           1       0.92      0.89      0.90      1062\n",
      "\n",
      "    accuracy                           0.89      1928\n",
      "   macro avg       0.89      0.89      0.89      1928\n",
      "weighted avg       0.89      0.89      0.89      1928\n",
      "\n"
     ]
    }
   ],
   "source": [
    "#Evaluating the model using classification_report\n",
    "\n",
    "from sklearn.metrics import classification_report\n",
    "\n",
    "y_pred=pd.DataFrame(grid_result.predict(X_test).reshape(-1,1),columns=y_test.columns)\n",
    "\n",
    "clas_rep=classification_report(y_test,y_pred)\n",
    "\n",
    "print(\"Classification Report:\")\n",
    "print(clas_rep)"
   ]
  },
  {
   "cell_type": "code",
   "execution_count": 51,
   "id": "f62dc55d",
   "metadata": {},
   "outputs": [
    {
     "data": {
      "image/png": "[encoded data removed]",
      "text/plain": [
       "<Figure size 500x200 with 2 Axes>"
      ]
     },
     "metadata": {},
     "output_type": "display_data"
    }
   ],
   "source": [
    "#Evaluating the model with a confusion matrix\n",
    "from sklearn.metrics import plot_confusion_matrix\n",
    "plot_confusion_matrix(grid_result,X_test,y_test.values.reshape(-1,1).ravel());"
   ]
  },
  {
   "cell_type": "code",
   "execution_count": 52,
   "id": "a30055da",
   "metadata": {},
   "outputs": [
    {
     "data": {
      "image/png": "[encoded data removed]",
      "text/plain": [
       "<Figure size 800x400 with 2 Axes>"
      ]
     },
     "metadata": {},
     "output_type": "display_data"
    }
   ],
   "source": [
    "#Using precision_recall curve and roc_curve\n",
    "\n",
    "from sklearn.metrics import plot_precision_recall_curve,plot_roc_curve\n",
    "\n",
    "fig,ax=plt.subplots(1,2,figsize=(8,4));\n",
    "\n",
    "plot_roc_curve(grid_result,X_test,y_test.values.reshape(-1,1).ravel(),ax=ax[0]);\n",
    "\n",
    "plot_precision_recall_curve(grid_result,X_test,y_test.values.reshape(-1,1).ravel(),ax=ax[1]);"
   ]
  },
  {
   "cell_type": "code",
   "execution_count": 25,
   "id": "d8e4db3d",
   "metadata": {},
   "outputs": [],
   "source": [
    "#SOLVING THE PROBLEM WITH ARTIFICIAL NEURAL NETWORKS"
   ]
  },
  {
   "cell_type": "code",
   "execution_count": 26,
   "id": "15edf899",
   "metadata": {},
   "outputs": [],
   "source": [
    "#Importing the libraries\n",
    "from tensorflow.keras.models import Sequential\n",
    "from tensorflow.keras.layers import Dense\n",
    "from tensorflow.keras.callbacks import EarlyStopping"
   ]
  },
  {
   "cell_type": "code",
   "execution_count": 27,
   "id": "d652d6f6",
   "metadata": {},
   "outputs": [],
   "source": [
    "early=EarlyStopping(monitor=\"val_accuracy\", patience=10)"
   ]
  },
  {
   "cell_type": "code",
   "execution_count": 28,
   "id": "9a460152",
   "metadata": {},
   "outputs": [
    {
     "name": "stdout",
     "output_type": "stream",
     "text": [
      "Epoch 1/200\n",
      "225/225 [==============================] - 3s 6ms/step - loss: 0.3568 - accuracy: 0.8418 - val_loss: 0.2887 - val_accuracy: 0.8700\n",
      "Epoch 2/200\n",
      "225/225 [==============================] - 1s 4ms/step - loss: 0.2872 - accuracy: 0.8704 - val_loss: 0.2668 - val_accuracy: 0.8911\n",
      "Epoch 3/200\n",
      "225/225 [==============================] - 1s 4ms/step - loss: 0.2654 - accuracy: 0.8776 - val_loss: 0.2698 - val_accuracy: 0.8889\n",
      "Epoch 4/200\n",
      "225/225 [==============================] - 1s 4ms/step - loss: 0.2502 - accuracy: 0.8865 - val_loss: 0.2708 - val_accuracy: 0.8867\n",
      "Epoch 5/200\n",
      "225/225 [==============================] - 1s 4ms/step - loss: 0.2477 - accuracy: 0.8888 - val_loss: 0.2645 - val_accuracy: 0.8900\n",
      "Epoch 6/200\n",
      "225/225 [==============================] - 1s 4ms/step - loss: 0.2364 - accuracy: 0.8893 - val_loss: 0.2645 - val_accuracy: 0.8856\n",
      "Epoch 7/200\n",
      "225/225 [==============================] - 1s 4ms/step - loss: 0.2269 - accuracy: 0.9013 - val_loss: 0.2634 - val_accuracy: 0.8844\n",
      "Epoch 8/200\n",
      "225/225 [==============================] - 1s 4ms/step - loss: 0.2257 - accuracy: 0.8982 - val_loss: 0.2658 - val_accuracy: 0.8922\n",
      "Epoch 9/200\n",
      "225/225 [==============================] - 1s 4ms/step - loss: 0.2126 - accuracy: 0.9066 - val_loss: 0.2589 - val_accuracy: 0.8944\n",
      "Epoch 10/200\n",
      "225/225 [==============================] - 1s 4ms/step - loss: 0.2071 - accuracy: 0.9049 - val_loss: 0.2664 - val_accuracy: 0.8911\n",
      "Epoch 11/200\n",
      "225/225 [==============================] - 1s 4ms/step - loss: 0.1952 - accuracy: 0.9132 - val_loss: 0.3089 - val_accuracy: 0.8689\n",
      "Epoch 12/200\n",
      "225/225 [==============================] - 1s 4ms/step - loss: 0.2007 - accuracy: 0.9096 - val_loss: 0.2874 - val_accuracy: 0.8878\n",
      "Epoch 13/200\n",
      "225/225 [==============================] - 1s 4ms/step - loss: 0.1830 - accuracy: 0.9157 - val_loss: 0.2899 - val_accuracy: 0.8922\n",
      "Epoch 14/200\n",
      "225/225 [==============================] - 1s 4ms/step - loss: 0.1795 - accuracy: 0.9210 - val_loss: 0.3084 - val_accuracy: 0.8844\n",
      "Epoch 15/200\n",
      "225/225 [==============================] - 1s 4ms/step - loss: 0.1751 - accuracy: 0.9219 - val_loss: 0.3051 - val_accuracy: 0.8822\n",
      "Epoch 16/200\n",
      "225/225 [==============================] - 1s 4ms/step - loss: 0.1603 - accuracy: 0.9299 - val_loss: 0.2960 - val_accuracy: 0.8911\n",
      "Epoch 17/200\n",
      "225/225 [==============================] - 1s 4ms/step - loss: 0.1551 - accuracy: 0.9299 - val_loss: 0.3014 - val_accuracy: 0.8867\n",
      "Epoch 18/200\n",
      "225/225 [==============================] - 1s 4ms/step - loss: 0.1468 - accuracy: 0.9391 - val_loss: 0.3360 - val_accuracy: 0.8800\n",
      "Epoch 19/200\n",
      "225/225 [==============================] - 1s 4ms/step - loss: 0.1397 - accuracy: 0.9408 - val_loss: 0.3249 - val_accuracy: 0.8744\n"
     ]
    }
   ],
   "source": [
    "#Creating the model\n",
    "model=Sequential()\n",
    "model.add(Dense(256,activation=\"relu\",input_dim=X_train.shape[1]))\n",
    "model.add(Dense(128,activation=\"relu\"))\n",
    "model.add(Dense(32,activation=\"relu\"))\n",
    "model.add(Dense(1,activation=\"sigmoid\"))\n",
    "model.compile(optimizer=\"adam\",metrics=\"accuracy\",loss=\"binary_crossentropy\")\n",
    "history=model.fit(X_train,y_train,epochs=200,batch_size=16,validation_split=0.2,callbacks=[early])"
   ]
  },
  {
   "cell_type": "code",
   "execution_count": 29,
   "id": "af1365d0",
   "metadata": {},
   "outputs": [
    {
     "data": {
      "text/plain": [
       "[0.4165017306804657, 0.8459543585777283]"
      ]
     },
     "execution_count": 29,
     "metadata": {},
     "output_type": "execute_result"
    }
   ],
   "source": [
    "#Evaluating the model\n",
    "model.evaluate(X_test,y_test,verbose=0)"
   ]
  },
  {
   "cell_type": "code",
   "execution_count": 31,
   "id": "29833997",
   "metadata": {},
   "outputs": [
    {
     "name": "stdout",
     "output_type": "stream",
     "text": [
      "Mean_test_accuracy 0.8727764248847961\n"
     ]
    }
   ],
   "source": [
    "##Using CV Score\n",
    "from tensorflow.keras.wrappers.scikit_learn import KerasClassifier\n",
    "from sklearn.model_selection import cross_val_score\n",
    "import warnings\n",
    "warnings.filterwarnings(\"ignore\", category=DeprecationWarning)\n",
    "\n",
    "def model_function():\n",
    "    model=Sequential()\n",
    "    model.add(Dense(256,activation=\"relu\",input_dim=X_train.shape[1]))\n",
    "    model.add(Dense(128,activation=\"relu\"))\n",
    "    model.add(Dense(32,activation=\"relu\"))\n",
    "    model.add(Dense(1,activation=\"sigmoid\"))\n",
    "    model.compile(optimizer=\"adam\",metrics=\"accuracy\",loss=\"binary_crossentropy\")\n",
    "    return model\n",
    "\n",
    "modelo=KerasClassifier(build_fn=model_function,epochs=20,batch_size=16,verbose=0)\n",
    "\n",
    "\n",
    "cv=cross_val_score(modelo,X_train,y_train,cv=5)\n",
    "\n",
    "print(\"Mean_test_accuracy\",cv.mean())"
   ]
  },
  {
   "cell_type": "code",
   "execution_count": 32,
   "id": "e5cea8b2",
   "metadata": {},
   "outputs": [
    {
     "name": "stdout",
     "output_type": "stream",
     "text": [
      "Best Score 0.8790037433306376\n",
      "==============================\n",
      "Best Parameters {'optimizer': 'sgd', 'epochs': 40, 'batch_size': 32, 'activation': 'relu'}\n"
     ]
    }
   ],
   "source": [
    "##Tuning hyperparameters\n",
    "\n",
    "from tensorflow.keras.wrappers.scikit_learn import KerasClassifier\n",
    "from sklearn.model_selection import cross_val_score,RandomizedSearchCV\n",
    "\n",
    "def model_function(optimizer=\"adam\",activation=\"relu\"):\n",
    "    model=Sequential()\n",
    "    model.add(Dense(256,activation=activation,input_dim=X_train.shape[1]))\n",
    "    model.add(Dense(128,activation=activation))\n",
    "    model.add(Dense(64,activation=activation))\n",
    "    model.add(Dense(1,activation=\"sigmoid\"))\n",
    "    model.compile(optimizer=optimizer,loss=\"binary_crossentropy\",metrics=\"accuracy\")\n",
    "    return model\n",
    "\n",
    "modelo=KerasClassifier(build_fn=model_function,epochs=3,batch_size=16,verbose=0)\n",
    "\n",
    "parameters={\n",
    "    \"optimizer\":[\"adam\",\"sgd\",\"rmsprop\"],\n",
    "    \"activation\":[\"relu\",\"sigmoid\"],\n",
    "    \"epochs\":[10,20,40],\n",
    "    \"batch_size\":[16,32,64]\n",
    "}\n",
    "\n",
    "random=RandomizedSearchCV(modelo,param_distributions=parameters,cv=3)\n",
    "\n",
    "results=random.fit(X_train,y_train)\n",
    "\n",
    "print(\"Best Score\", results.best_score_)\n",
    "print(\"=\"*30)\n",
    "print(\"Best Parameters\" , results.best_params_)"
   ]
  },
  {
   "cell_type": "code",
   "execution_count": 33,
   "id": "c45ab64d",
   "metadata": {},
   "outputs": [
    {
     "name": "stdout",
     "output_type": "stream",
     "text": [
      "Best Score 0.8761115670204163\n",
      "==============================\n",
      "Best Parameters {'nn': 64, 'dense_layers_extra': 3}\n"
     ]
    }
   ],
   "source": [
    "##Tuning layers and neurons\n",
    "\n",
    "from tensorflow.keras.wrappers.scikit_learn import KerasClassifier\n",
    "from sklearn.model_selection import cross_val_score,RandomizedSearchCV\n",
    "\n",
    "def model_function_2(dense_layers_extra=2,nn=100):\n",
    "    model=Sequential()\n",
    "    model.add(Dense(units=nn,activation=\"relu\",input_dim=X_train.shape[1]))\n",
    "    \n",
    "    for i in range(1,dense_layers_extra+1):\n",
    "        model.add(Dense(units=nn, activation=\"relu\"))\n",
    "        \n",
    "    model.compile(optimizer=\"adam\",loss=\"binary_crossentropy\",metrics=\"accuracy\")\n",
    "    \n",
    "    model.add(Dense(1,activation=\"sigmoid\"))\n",
    "    \n",
    "    return model\n",
    "\n",
    "modelo=KerasClassifier(build_fn=model_function_2,epochs=3,batch_size=16,verbose=0)\n",
    "\n",
    "parameters={\n",
    "    \"dense_layers_extra\":[1,2,3,4],\n",
    "    \n",
    "    \"nn\":[32,64,128,256]\n",
    "}\n",
    "\n",
    "random=RandomizedSearchCV(modelo,param_distributions=parameters,cv=3)\n",
    "\n",
    "results=random.fit(X_train,y_train)\n",
    "\n",
    "print(\"Best Score\", results.best_score_)\n",
    "print(\"=\"*30)\n",
    "print(\"Best Parameters\" , results.best_params_)"
   ]
  },
  {
   "cell_type": "code",
   "execution_count": 54,
   "id": "f7c7467c",
   "metadata": {},
   "outputs": [
    {
     "name": "stdout",
     "output_type": "stream",
     "text": [
      "Epoch 1/40\n",
      "113/113 [==============================] - 2s 7ms/step - loss: 0.6602 - accuracy: 0.6082 - val_loss: 0.6193 - val_accuracy: 0.7578\n",
      "Epoch 2/40\n",
      "113/113 [==============================] - 0s 4ms/step - loss: 0.5819 - accuracy: 0.7873 - val_loss: 0.5423 - val_accuracy: 0.8167\n",
      "Epoch 3/40\n",
      "113/113 [==============================] - 0s 4ms/step - loss: 0.5087 - accuracy: 0.8034 - val_loss: 0.4718 - val_accuracy: 0.8267\n",
      "Epoch 4/40\n",
      "113/113 [==============================] - 0s 4ms/step - loss: 0.4503 - accuracy: 0.8148 - val_loss: 0.4224 - val_accuracy: 0.8378\n",
      "Epoch 5/40\n",
      "113/113 [==============================] - 0s 4ms/step - loss: 0.4111 - accuracy: 0.8217 - val_loss: 0.3914 - val_accuracy: 0.8444\n",
      "Epoch 6/40\n",
      "113/113 [==============================] - 0s 4ms/step - loss: 0.3846 - accuracy: 0.8320 - val_loss: 0.3693 - val_accuracy: 0.8467\n",
      "Epoch 7/40\n",
      "113/113 [==============================] - 0s 4ms/step - loss: 0.3650 - accuracy: 0.8398 - val_loss: 0.3513 - val_accuracy: 0.8511\n",
      "Epoch 8/40\n",
      "113/113 [==============================] - 0s 4ms/step - loss: 0.3485 - accuracy: 0.8471 - val_loss: 0.3389 - val_accuracy: 0.8622\n",
      "Epoch 9/40\n",
      "113/113 [==============================] - 0s 4ms/step - loss: 0.3351 - accuracy: 0.8501 - val_loss: 0.3269 - val_accuracy: 0.8656\n",
      "Epoch 10/40\n",
      "113/113 [==============================] - 0s 4ms/step - loss: 0.3234 - accuracy: 0.8548 - val_loss: 0.3181 - val_accuracy: 0.8711\n",
      "Epoch 11/40\n",
      "113/113 [==============================] - 0s 4ms/step - loss: 0.3139 - accuracy: 0.8607 - val_loss: 0.3102 - val_accuracy: 0.8744\n",
      "Epoch 12/40\n",
      "113/113 [==============================] - 0s 4ms/step - loss: 0.3048 - accuracy: 0.8648 - val_loss: 0.3049 - val_accuracy: 0.8778\n",
      "Epoch 13/40\n",
      "113/113 [==============================] - 0s 4ms/step - loss: 0.2971 - accuracy: 0.8674 - val_loss: 0.2977 - val_accuracy: 0.8789\n",
      "Epoch 14/40\n",
      "113/113 [==============================] - 0s 4ms/step - loss: 0.2904 - accuracy: 0.8710 - val_loss: 0.2913 - val_accuracy: 0.8822\n",
      "Epoch 15/40\n",
      "113/113 [==============================] - 0s 4ms/step - loss: 0.2844 - accuracy: 0.8768 - val_loss: 0.2874 - val_accuracy: 0.8822\n",
      "Epoch 16/40\n",
      "113/113 [==============================] - 0s 4ms/step - loss: 0.2785 - accuracy: 0.8788 - val_loss: 0.2820 - val_accuracy: 0.8856\n",
      "Epoch 17/40\n",
      "113/113 [==============================] - 0s 4ms/step - loss: 0.2743 - accuracy: 0.8776 - val_loss: 0.2800 - val_accuracy: 0.8856\n",
      "Epoch 18/40\n",
      "113/113 [==============================] - 0s 4ms/step - loss: 0.2695 - accuracy: 0.8818 - val_loss: 0.2790 - val_accuracy: 0.8878\n",
      "Epoch 19/40\n",
      "113/113 [==============================] - 0s 4ms/step - loss: 0.2661 - accuracy: 0.8821 - val_loss: 0.2738 - val_accuracy: 0.8889\n",
      "Epoch 20/40\n",
      "113/113 [==============================] - 0s 4ms/step - loss: 0.2621 - accuracy: 0.8888 - val_loss: 0.2725 - val_accuracy: 0.8889\n",
      "Epoch 21/40\n",
      "113/113 [==============================] - 0s 4ms/step - loss: 0.2594 - accuracy: 0.8871 - val_loss: 0.2707 - val_accuracy: 0.8933\n",
      "Epoch 22/40\n",
      "113/113 [==============================] - 0s 4ms/step - loss: 0.2559 - accuracy: 0.8863 - val_loss: 0.2716 - val_accuracy: 0.8878\n",
      "Epoch 23/40\n",
      "113/113 [==============================] - 0s 4ms/step - loss: 0.2538 - accuracy: 0.8877 - val_loss: 0.2689 - val_accuracy: 0.8944\n",
      "Epoch 24/40\n",
      "113/113 [==============================] - 0s 4ms/step - loss: 0.2507 - accuracy: 0.8910 - val_loss: 0.2676 - val_accuracy: 0.8911\n",
      "Epoch 25/40\n",
      "113/113 [==============================] - 0s 4ms/step - loss: 0.2488 - accuracy: 0.8943 - val_loss: 0.2652 - val_accuracy: 0.8900\n",
      "Epoch 26/40\n",
      "113/113 [==============================] - 0s 4ms/step - loss: 0.2463 - accuracy: 0.8915 - val_loss: 0.2660 - val_accuracy: 0.8889\n",
      "Epoch 27/40\n",
      "113/113 [==============================] - 0s 4ms/step - loss: 0.2443 - accuracy: 0.8927 - val_loss: 0.2646 - val_accuracy: 0.8944\n",
      "Epoch 28/40\n",
      "113/113 [==============================] - 0s 4ms/step - loss: 0.2428 - accuracy: 0.8924 - val_loss: 0.2632 - val_accuracy: 0.8911\n",
      "Epoch 29/40\n",
      "113/113 [==============================] - 0s 4ms/step - loss: 0.2409 - accuracy: 0.8935 - val_loss: 0.2650 - val_accuracy: 0.8967\n",
      "Epoch 30/40\n",
      "113/113 [==============================] - 0s 4ms/step - loss: 0.2385 - accuracy: 0.8932 - val_loss: 0.2639 - val_accuracy: 0.8900\n",
      "Epoch 31/40\n",
      "113/113 [==============================] - 0s 4ms/step - loss: 0.2364 - accuracy: 0.8960 - val_loss: 0.2643 - val_accuracy: 0.8922\n",
      "Epoch 32/40\n",
      "113/113 [==============================] - 0s 4ms/step - loss: 0.2351 - accuracy: 0.8927 - val_loss: 0.2623 - val_accuracy: 0.8911\n",
      "Epoch 33/40\n",
      "113/113 [==============================] - 0s 4ms/step - loss: 0.2340 - accuracy: 0.8960 - val_loss: 0.2628 - val_accuracy: 0.8889\n",
      "Epoch 34/40\n",
      "113/113 [==============================] - 0s 4ms/step - loss: 0.2327 - accuracy: 0.8968 - val_loss: 0.2665 - val_accuracy: 0.8856\n",
      "Epoch 35/40\n",
      "113/113 [==============================] - 0s 4ms/step - loss: 0.2309 - accuracy: 0.8963 - val_loss: 0.2666 - val_accuracy: 0.8922\n",
      "Epoch 36/40\n",
      "113/113 [==============================] - 0s 4ms/step - loss: 0.2289 - accuracy: 0.8993 - val_loss: 0.2692 - val_accuracy: 0.8800\n",
      "Epoch 37/40\n",
      "113/113 [==============================] - 0s 4ms/step - loss: 0.2268 - accuracy: 0.8999 - val_loss: 0.2668 - val_accuracy: 0.8911\n",
      "Epoch 38/40\n",
      "113/113 [==============================] - 0s 4ms/step - loss: 0.2273 - accuracy: 0.8982 - val_loss: 0.2601 - val_accuracy: 0.8978\n",
      "Epoch 39/40\n",
      "113/113 [==============================] - 0s 4ms/step - loss: 0.2254 - accuracy: 0.8960 - val_loss: 0.2617 - val_accuracy: 0.8944\n",
      "Epoch 40/40\n",
      "113/113 [==============================] - 0s 4ms/step - loss: 0.2236 - accuracy: 0.8979 - val_loss: 0.2647 - val_accuracy: 0.8933\n"
     ]
    }
   ],
   "source": [
    "#Creating the model with the best parameters\n",
    "model=Sequential()\n",
    "model.add(Dense(256,activation=\"relu\",input_dim=X_train.shape[1]))\n",
    "model.add(Dense(128,activation=\"relu\"))\n",
    "model.add(Dense(32,activation=\"relu\"))\n",
    "model.add(Dense(1,activation=\"sigmoid\"))\n",
    "model.compile(optimizer=\"sgd\",metrics=\"accuracy\",loss=\"binary_crossentropy\")\n",
    "history=model.fit(X_train,y_train,epochs=40,batch_size=32,validation_split=0.2)"
   ]
  },
  {
   "cell_type": "code",
   "execution_count": 56,
   "id": "6bc93005",
   "metadata": {},
   "outputs": [
    {
     "data": {
      "text/plain": [
       "[0.2931963801383972, 0.8682572841644287]"
      ]
     },
     "execution_count": 56,
     "metadata": {},
     "output_type": "execute_result"
    }
   ],
   "source": [
    "#Evaluating the best model\n",
    "model.evaluate(X_test,y_test,verbose=0)"
   ]
  },
  {
   "cell_type": "code",
   "execution_count": 57,
   "id": "8a96436e",
   "metadata": {},
   "outputs": [
    {
     "data": {
      "image/png": "[encoded data removed]",
      "text/plain": [
       "<Figure size 600x400 with 1 Axes>"
      ]
     },
     "metadata": {},
     "output_type": "display_data"
    }
   ],
   "source": [
    "import matplotlib.pyplot as plt\n",
    "%matplotlib inline\n",
    "plt.figure(figsize=(6,4))\n",
    "plt.plot(history.history[\"accuracy\"]);\n",
    "plt.plot(history.history[\"val_accuracy\"])\n",
    "plt.title(\"Accuracy of model with the set of training and validation\")\n",
    "plt.xlabel(\"Epochs\");\n",
    "plt.ylabel(\"Accuracy\");\n",
    "plt.legend([\"Training\",\"Validation\"],loc=\"lower right\");"
   ]
  },
  {
   "cell_type": "code",
   "execution_count": 58,
   "id": "22c06b7d",
   "metadata": {},
   "outputs": [
    {
     "name": "stdout",
     "output_type": "stream",
     "text": [
      "Classification Report:\n",
      "              precision    recall  f1-score   support\n",
      "\n",
      "           0       0.82      0.91      0.86       866\n",
      "           1       0.92      0.83      0.87      1062\n",
      "\n",
      "    accuracy                           0.87      1928\n",
      "   macro avg       0.87      0.87      0.87      1928\n",
      "weighted avg       0.87      0.87      0.87      1928\n",
      "\n"
     ]
    }
   ],
   "source": [
    "#Evaluating the model using classification_report\n",
    "\n",
    "from sklearn.metrics import classification_report\n",
    "\n",
    "y_pred=model.predict(X_test,verbose=0).round()\n",
    "\n",
    "clas_rep=classification_report(y_test,y_pred)\n",
    "\n",
    "print(\"Classification Report:\")\n",
    "\n",
    "print(clas_rep)"
   ]
  },
  {
   "cell_type": "code",
   "execution_count": 59,
   "id": "e6f10d4b",
   "metadata": {},
   "outputs": [],
   "source": [
    "class estimator:\n",
    "  _estimator_type = ''\n",
    "  classes_=[]\n",
    "  def __init__(self, model, classes):\n",
    "    self.model = model\n",
    "    self._estimator_type = 'classifier'\n",
    "    self.classes_ = classes\n",
    "  def predict(self, X):\n",
    "    y_prob= self.model.predict(X)\n",
    "    y_pred = y_prob.round()\n",
    "    return y_pred\n",
    "\n",
    "classifier = estimator(model,[0,1])"
   ]
  },
  {
   "cell_type": "code",
   "execution_count": 60,
   "id": "42961e04",
   "metadata": {},
   "outputs": [
    {
     "name": "stdout",
     "output_type": "stream",
     "text": [
      "61/61 [==============================] - 0s 2ms/step\n"
     ]
    },
    {
     "data": {
      "image/png": "[encoded data removed]",
      "text/plain": [
       "<Figure size 500x200 with 2 Axes>"
      ]
     },
     "metadata": {},
     "output_type": "display_data"
    }
   ],
   "source": [
    "plot_confusion_matrix(classifier,X_test,y_test);"
   ]
  }
 ],
 "metadata": {
  "kernelspec": {
   "display_name": "Python 3 (ipykernel)",
   "language": "python",
   "name": "python3"
  },
  "language_info": {
   "codemirror_mode": {
    "name": "ipython",
    "version": 3
   },
   "file_extension": ".py",
   "mimetype": "text/x-python",
   "name": "python",
   "nbconvert_exporter": "python",
   "pygments_lexer": "ipython3",
   "version": "3.9.13"
  }
 },
 "nbformat": 4,
 "nbformat_minor": 5
}
