{
 "cells": [
  {
   "cell_type": "code",
   "execution_count": 28,
   "id": "03aae15a",
   "metadata": {},
   "outputs": [],
   "source": [
    "#Importing the libraries\n",
    "import pandas as pd\n",
    "import matplotlib.pyplot as plt\n",
    "import seaborn as sns\n",
    "import six\n",
    "import sys\n",
    "sys.modules['sklearn.externals.six'] = six\n",
    "import warnings\n",
    "warnings.filterwarnings(action=\"ignore\",category=FutureWarning)"
   ]
  },
  {
   "cell_type": "code",
   "execution_count": 11,
   "id": "f18a8e45",
   "metadata": {},
   "outputs": [],
   "source": [
    "pd.options.display.float_format=\"{:,.2f}\".format"
   ]
  },
  {
   "cell_type": "code",
   "execution_count": 5,
   "id": "6886561a",
   "metadata": {},
   "outputs": [
    {
     "data": {
      "text/html": [
       "<div>\n",
       "<style scoped>\n",
       "    .dataframe tbody tr th:only-of-type {\n",
       "        vertical-align: middle;\n",
       "    }\n",
       "\n",
       "    .dataframe tbody tr th {\n",
       "        vertical-align: top;\n",
       "    }\n",
       "\n",
       "    .dataframe thead th {\n",
       "        text-align: right;\n",
       "    }\n",
       "</style>\n",
       "<table border=\"1\" class=\"dataframe\">\n",
       "  <thead>\n",
       "    <tr style=\"text-align: right;\">\n",
       "      <th></th>\n",
       "      <th>RowNumber</th>\n",
       "      <th>CustomerId</th>\n",
       "      <th>Surname</th>\n",
       "      <th>CreditScore</th>\n",
       "      <th>Geography</th>\n",
       "      <th>Gender</th>\n",
       "      <th>Age</th>\n",
       "      <th>Tenure</th>\n",
       "      <th>Balance</th>\n",
       "      <th>NumOfProducts</th>\n",
       "      <th>HasCrCard</th>\n",
       "      <th>IsActiveMember</th>\n",
       "      <th>EstimatedSalary</th>\n",
       "      <th>Exited</th>\n",
       "    </tr>\n",
       "  </thead>\n",
       "  <tbody>\n",
       "    <tr>\n",
       "      <th>0</th>\n",
       "      <td>1</td>\n",
       "      <td>15634602</td>\n",
       "      <td>Hargrave</td>\n",
       "      <td>619</td>\n",
       "      <td>France</td>\n",
       "      <td>Female</td>\n",
       "      <td>42</td>\n",
       "      <td>2</td>\n",
       "      <td>0.00</td>\n",
       "      <td>1</td>\n",
       "      <td>1</td>\n",
       "      <td>1</td>\n",
       "      <td>101348.88</td>\n",
       "      <td>1</td>\n",
       "    </tr>\n",
       "    <tr>\n",
       "      <th>1</th>\n",
       "      <td>2</td>\n",
       "      <td>15647311</td>\n",
       "      <td>Hill</td>\n",
       "      <td>608</td>\n",
       "      <td>Spain</td>\n",
       "      <td>Female</td>\n",
       "      <td>41</td>\n",
       "      <td>1</td>\n",
       "      <td>83807.86</td>\n",
       "      <td>1</td>\n",
       "      <td>0</td>\n",
       "      <td>1</td>\n",
       "      <td>112542.58</td>\n",
       "      <td>0</td>\n",
       "    </tr>\n",
       "    <tr>\n",
       "      <th>2</th>\n",
       "      <td>3</td>\n",
       "      <td>15619304</td>\n",
       "      <td>Onio</td>\n",
       "      <td>502</td>\n",
       "      <td>France</td>\n",
       "      <td>Female</td>\n",
       "      <td>42</td>\n",
       "      <td>8</td>\n",
       "      <td>159660.80</td>\n",
       "      <td>3</td>\n",
       "      <td>1</td>\n",
       "      <td>0</td>\n",
       "      <td>113931.57</td>\n",
       "      <td>1</td>\n",
       "    </tr>\n",
       "    <tr>\n",
       "      <th>3</th>\n",
       "      <td>4</td>\n",
       "      <td>15701354</td>\n",
       "      <td>Boni</td>\n",
       "      <td>699</td>\n",
       "      <td>France</td>\n",
       "      <td>Female</td>\n",
       "      <td>39</td>\n",
       "      <td>1</td>\n",
       "      <td>0.00</td>\n",
       "      <td>2</td>\n",
       "      <td>0</td>\n",
       "      <td>0</td>\n",
       "      <td>93826.63</td>\n",
       "      <td>0</td>\n",
       "    </tr>\n",
       "    <tr>\n",
       "      <th>4</th>\n",
       "      <td>5</td>\n",
       "      <td>15737888</td>\n",
       "      <td>Mitchell</td>\n",
       "      <td>850</td>\n",
       "      <td>Spain</td>\n",
       "      <td>Female</td>\n",
       "      <td>43</td>\n",
       "      <td>2</td>\n",
       "      <td>125510.82</td>\n",
       "      <td>1</td>\n",
       "      <td>1</td>\n",
       "      <td>1</td>\n",
       "      <td>79084.10</td>\n",
       "      <td>0</td>\n",
       "    </tr>\n",
       "  </tbody>\n",
       "</table>\n",
       "</div>"
      ],
      "text/plain": [
       "   RowNumber  CustomerId   Surname  CreditScore Geography  Gender  Age  \\\n",
       "0          1    15634602  Hargrave          619    France  Female   42   \n",
       "1          2    15647311      Hill          608     Spain  Female   41   \n",
       "2          3    15619304      Onio          502    France  Female   42   \n",
       "3          4    15701354      Boni          699    France  Female   39   \n",
       "4          5    15737888  Mitchell          850     Spain  Female   43   \n",
       "\n",
       "   Tenure    Balance  NumOfProducts  HasCrCard  IsActiveMember  \\\n",
       "0       2       0.00              1          1               1   \n",
       "1       1   83807.86              1          0               1   \n",
       "2       8  159660.80              3          1               0   \n",
       "3       1       0.00              2          0               0   \n",
       "4       2  125510.82              1          1               1   \n",
       "\n",
       "   EstimatedSalary  Exited  \n",
       "0        101348.88       1  \n",
       "1        112542.58       0  \n",
       "2        113931.57       1  \n",
       "3         93826.63       0  \n",
       "4         79084.10       0  "
      ]
     },
     "execution_count": 5,
     "metadata": {},
     "output_type": "execute_result"
    }
   ],
   "source": [
    "#Loading the dataset\n",
    "df = pd.read_csv(\"data/churn.csv\")\n",
    "df.head()"
   ]
  },
  {
   "cell_type": "code",
   "execution_count": 6,
   "id": "9569a863",
   "metadata": {},
   "outputs": [
    {
     "data": {
      "text/html": [
       "<div>\n",
       "<style scoped>\n",
       "    .dataframe tbody tr th:only-of-type {\n",
       "        vertical-align: middle;\n",
       "    }\n",
       "\n",
       "    .dataframe tbody tr th {\n",
       "        vertical-align: top;\n",
       "    }\n",
       "\n",
       "    .dataframe thead th {\n",
       "        text-align: right;\n",
       "    }\n",
       "</style>\n",
       "<table border=\"1\" class=\"dataframe\">\n",
       "  <thead>\n",
       "    <tr style=\"text-align: right;\">\n",
       "      <th></th>\n",
       "      <th>CreditScore</th>\n",
       "      <th>Geography</th>\n",
       "      <th>Gender</th>\n",
       "      <th>Age</th>\n",
       "      <th>Tenure</th>\n",
       "      <th>Balance</th>\n",
       "      <th>NumOfProducts</th>\n",
       "      <th>HasCrCard</th>\n",
       "      <th>IsActiveMember</th>\n",
       "      <th>EstimatedSalary</th>\n",
       "      <th>Exited</th>\n",
       "    </tr>\n",
       "  </thead>\n",
       "  <tbody>\n",
       "    <tr>\n",
       "      <th>0</th>\n",
       "      <td>619</td>\n",
       "      <td>France</td>\n",
       "      <td>Female</td>\n",
       "      <td>42</td>\n",
       "      <td>2</td>\n",
       "      <td>0.00</td>\n",
       "      <td>1</td>\n",
       "      <td>1</td>\n",
       "      <td>1</td>\n",
       "      <td>101348.88</td>\n",
       "      <td>1</td>\n",
       "    </tr>\n",
       "    <tr>\n",
       "      <th>1</th>\n",
       "      <td>608</td>\n",
       "      <td>Spain</td>\n",
       "      <td>Female</td>\n",
       "      <td>41</td>\n",
       "      <td>1</td>\n",
       "      <td>83807.86</td>\n",
       "      <td>1</td>\n",
       "      <td>0</td>\n",
       "      <td>1</td>\n",
       "      <td>112542.58</td>\n",
       "      <td>0</td>\n",
       "    </tr>\n",
       "    <tr>\n",
       "      <th>2</th>\n",
       "      <td>502</td>\n",
       "      <td>France</td>\n",
       "      <td>Female</td>\n",
       "      <td>42</td>\n",
       "      <td>8</td>\n",
       "      <td>159660.80</td>\n",
       "      <td>3</td>\n",
       "      <td>1</td>\n",
       "      <td>0</td>\n",
       "      <td>113931.57</td>\n",
       "      <td>1</td>\n",
       "    </tr>\n",
       "    <tr>\n",
       "      <th>3</th>\n",
       "      <td>699</td>\n",
       "      <td>France</td>\n",
       "      <td>Female</td>\n",
       "      <td>39</td>\n",
       "      <td>1</td>\n",
       "      <td>0.00</td>\n",
       "      <td>2</td>\n",
       "      <td>0</td>\n",
       "      <td>0</td>\n",
       "      <td>93826.63</td>\n",
       "      <td>0</td>\n",
       "    </tr>\n",
       "    <tr>\n",
       "      <th>4</th>\n",
       "      <td>850</td>\n",
       "      <td>Spain</td>\n",
       "      <td>Female</td>\n",
       "      <td>43</td>\n",
       "      <td>2</td>\n",
       "      <td>125510.82</td>\n",
       "      <td>1</td>\n",
       "      <td>1</td>\n",
       "      <td>1</td>\n",
       "      <td>79084.10</td>\n",
       "      <td>0</td>\n",
       "    </tr>\n",
       "  </tbody>\n",
       "</table>\n",
       "</div>"
      ],
      "text/plain": [
       "   CreditScore Geography  Gender  Age  Tenure    Balance  NumOfProducts  \\\n",
       "0          619    France  Female   42       2       0.00              1   \n",
       "1          608     Spain  Female   41       1   83807.86              1   \n",
       "2          502    France  Female   42       8  159660.80              3   \n",
       "3          699    France  Female   39       1       0.00              2   \n",
       "4          850     Spain  Female   43       2  125510.82              1   \n",
       "\n",
       "   HasCrCard  IsActiveMember  EstimatedSalary  Exited  \n",
       "0          1               1        101348.88       1  \n",
       "1          0               1        112542.58       0  \n",
       "2          1               0        113931.57       1  \n",
       "3          0               0         93826.63       0  \n",
       "4          1               1         79084.10       0  "
      ]
     },
     "execution_count": 6,
     "metadata": {},
     "output_type": "execute_result"
    }
   ],
   "source": [
    "#Dropping the columns that do not add value\n",
    "df = df.drop(df.columns[0:3], axis=1)\n",
    "df.head()"
   ]
  },
  {
   "cell_type": "code",
   "execution_count": 7,
   "id": "4f21b133",
   "metadata": {},
   "outputs": [
    {
     "data": {
      "text/plain": [
       "(10000, 11)"
      ]
     },
     "execution_count": 7,
     "metadata": {},
     "output_type": "execute_result"
    }
   ],
   "source": [
    "df.shape"
   ]
  },
  {
   "cell_type": "code",
   "execution_count": 8,
   "id": "2886d5c4",
   "metadata": {},
   "outputs": [
    {
     "name": "stdout",
     "output_type": "stream",
     "text": [
      "<class 'pandas.core.frame.DataFrame'>\n",
      "RangeIndex: 10000 entries, 0 to 9999\n",
      "Data columns (total 11 columns):\n",
      " #   Column           Non-Null Count  Dtype  \n",
      "---  ------           --------------  -----  \n",
      " 0   CreditScore      10000 non-null  int64  \n",
      " 1   Geography        10000 non-null  object \n",
      " 2   Gender           10000 non-null  object \n",
      " 3   Age              10000 non-null  int64  \n",
      " 4   Tenure           10000 non-null  int64  \n",
      " 5   Balance          10000 non-null  float64\n",
      " 6   NumOfProducts    10000 non-null  int64  \n",
      " 7   HasCrCard        10000 non-null  int64  \n",
      " 8   IsActiveMember   10000 non-null  int64  \n",
      " 9   EstimatedSalary  10000 non-null  float64\n",
      " 10  Exited           10000 non-null  int64  \n",
      "dtypes: float64(2), int64(7), object(2)\n",
      "memory usage: 859.5+ KB\n"
     ]
    }
   ],
   "source": [
    "df.info()"
   ]
  },
  {
   "cell_type": "code",
   "execution_count": 9,
   "id": "784f67b0",
   "metadata": {},
   "outputs": [
    {
     "name": "stdout",
     "output_type": "stream",
     "text": [
      "The feature Geography contains 3  distinct values \n",
      "The feature Gender contains 2  distinct values \n"
     ]
    }
   ],
   "source": [
    "#Finding the categorical features and the amount of different values the have\n",
    "\n",
    "categorical=df.select_dtypes(include=\"object\").columns\n",
    "\n",
    "for line in categorical:\n",
    "    print(\"The feature \" + line + \" contains\" ,  str(len(df[line].unique())) ,\" distinct values \")"
   ]
  },
  {
   "cell_type": "code",
   "execution_count": 10,
   "id": "5db1f354",
   "metadata": {},
   "outputs": [
    {
     "data": {
      "image/png": "[encoded data removed]",
      "text/plain": [
       "<Figure size 1200x400 with 2 Axes>"
      ]
     },
     "metadata": {},
     "output_type": "display_data"
    }
   ],
   "source": [
    "#Analyzing the distributions of the categorical features\n",
    "\n",
    "f,axes=plt.subplots(1,2,figsize=(12,4))\n",
    "\n",
    "sns.countplot(df[\"Gender\"],ax=axes[0]);\n",
    "sns.countplot(df['Geography'],ax=axes[1]);"
   ]
  },
  {
   "cell_type": "code",
   "execution_count": 11,
   "id": "afc05906",
   "metadata": {},
   "outputs": [],
   "source": [
    "#Creating new features with the help of get_dummies\n",
    "\n",
    "for column in categorical:\n",
    "    nuevas_features = pd.get_dummies(df[column])\n",
    "    df= pd.merge(\n",
    "        left=df,\n",
    "        right=nuevas_features,\n",
    "        left_index=True,\n",
    "        right_index=True,\n",
    "    )\n",
    "    df = df.drop(columns=column)"
   ]
  },
  {
   "cell_type": "code",
   "execution_count": 12,
   "id": "7e17c47c",
   "metadata": {},
   "outputs": [
    {
     "data": {
      "text/html": [
       "<div>\n",
       "<style scoped>\n",
       "    .dataframe tbody tr th:only-of-type {\n",
       "        vertical-align: middle;\n",
       "    }\n",
       "\n",
       "    .dataframe tbody tr th {\n",
       "        vertical-align: top;\n",
       "    }\n",
       "\n",
       "    .dataframe thead th {\n",
       "        text-align: right;\n",
       "    }\n",
       "</style>\n",
       "<table border=\"1\" class=\"dataframe\">\n",
       "  <thead>\n",
       "    <tr style=\"text-align: right;\">\n",
       "      <th></th>\n",
       "      <th>CreditScore</th>\n",
       "      <th>Age</th>\n",
       "      <th>Tenure</th>\n",
       "      <th>Balance</th>\n",
       "      <th>NumOfProducts</th>\n",
       "      <th>HasCrCard</th>\n",
       "      <th>IsActiveMember</th>\n",
       "      <th>EstimatedSalary</th>\n",
       "      <th>Exited</th>\n",
       "      <th>France</th>\n",
       "      <th>Germany</th>\n",
       "      <th>Spain</th>\n",
       "      <th>Female</th>\n",
       "      <th>Male</th>\n",
       "    </tr>\n",
       "  </thead>\n",
       "  <tbody>\n",
       "    <tr>\n",
       "      <th>0</th>\n",
       "      <td>619</td>\n",
       "      <td>42</td>\n",
       "      <td>2</td>\n",
       "      <td>0.00</td>\n",
       "      <td>1</td>\n",
       "      <td>1</td>\n",
       "      <td>1</td>\n",
       "      <td>101348.88</td>\n",
       "      <td>1</td>\n",
       "      <td>1</td>\n",
       "      <td>0</td>\n",
       "      <td>0</td>\n",
       "      <td>1</td>\n",
       "      <td>0</td>\n",
       "    </tr>\n",
       "    <tr>\n",
       "      <th>1</th>\n",
       "      <td>608</td>\n",
       "      <td>41</td>\n",
       "      <td>1</td>\n",
       "      <td>83807.86</td>\n",
       "      <td>1</td>\n",
       "      <td>0</td>\n",
       "      <td>1</td>\n",
       "      <td>112542.58</td>\n",
       "      <td>0</td>\n",
       "      <td>0</td>\n",
       "      <td>0</td>\n",
       "      <td>1</td>\n",
       "      <td>1</td>\n",
       "      <td>0</td>\n",
       "    </tr>\n",
       "    <tr>\n",
       "      <th>2</th>\n",
       "      <td>502</td>\n",
       "      <td>42</td>\n",
       "      <td>8</td>\n",
       "      <td>159660.80</td>\n",
       "      <td>3</td>\n",
       "      <td>1</td>\n",
       "      <td>0</td>\n",
       "      <td>113931.57</td>\n",
       "      <td>1</td>\n",
       "      <td>1</td>\n",
       "      <td>0</td>\n",
       "      <td>0</td>\n",
       "      <td>1</td>\n",
       "      <td>0</td>\n",
       "    </tr>\n",
       "    <tr>\n",
       "      <th>3</th>\n",
       "      <td>699</td>\n",
       "      <td>39</td>\n",
       "      <td>1</td>\n",
       "      <td>0.00</td>\n",
       "      <td>2</td>\n",
       "      <td>0</td>\n",
       "      <td>0</td>\n",
       "      <td>93826.63</td>\n",
       "      <td>0</td>\n",
       "      <td>1</td>\n",
       "      <td>0</td>\n",
       "      <td>0</td>\n",
       "      <td>1</td>\n",
       "      <td>0</td>\n",
       "    </tr>\n",
       "    <tr>\n",
       "      <th>4</th>\n",
       "      <td>850</td>\n",
       "      <td>43</td>\n",
       "      <td>2</td>\n",
       "      <td>125510.82</td>\n",
       "      <td>1</td>\n",
       "      <td>1</td>\n",
       "      <td>1</td>\n",
       "      <td>79084.10</td>\n",
       "      <td>0</td>\n",
       "      <td>0</td>\n",
       "      <td>0</td>\n",
       "      <td>1</td>\n",
       "      <td>1</td>\n",
       "      <td>0</td>\n",
       "    </tr>\n",
       "  </tbody>\n",
       "</table>\n",
       "</div>"
      ],
      "text/plain": [
       "   CreditScore  Age  Tenure    Balance  NumOfProducts  HasCrCard  \\\n",
       "0          619   42       2       0.00              1          1   \n",
       "1          608   41       1   83807.86              1          0   \n",
       "2          502   42       8  159660.80              3          1   \n",
       "3          699   39       1       0.00              2          0   \n",
       "4          850   43       2  125510.82              1          1   \n",
       "\n",
       "   IsActiveMember  EstimatedSalary  Exited  France  Germany  Spain  Female  \\\n",
       "0               1        101348.88       1       1        0      0       1   \n",
       "1               1        112542.58       0       0        0      1       1   \n",
       "2               0        113931.57       1       1        0      0       1   \n",
       "3               0         93826.63       0       1        0      0       1   \n",
       "4               1         79084.10       0       0        0      1       1   \n",
       "\n",
       "   Male  \n",
       "0     0  \n",
       "1     0  \n",
       "2     0  \n",
       "3     0  \n",
       "4     0  "
      ]
     },
     "execution_count": 12,
     "metadata": {},
     "output_type": "execute_result"
    }
   ],
   "source": [
    "df.head()"
   ]
  },
  {
   "cell_type": "code",
   "execution_count": 13,
   "id": "9318997b",
   "metadata": {},
   "outputs": [],
   "source": [
    "#Defining X and y\n",
    "X=df.drop(columns=[\"Exited\"])\n",
    "y=df[[\"Exited\"]]"
   ]
  },
  {
   "cell_type": "code",
   "execution_count": 14,
   "id": "a171126c",
   "metadata": {},
   "outputs": [
    {
     "data": {
      "text/plain": [
       "Exited\n",
       "0         79.63\n",
       "1         20.37\n",
       "dtype: float64"
      ]
     },
     "execution_count": 14,
     "metadata": {},
     "output_type": "execute_result"
    }
   ],
   "source": [
    "#Finding the percentage of each class\n",
    "(y.value_counts()/y.shape[0])*100"
   ]
  },
  {
   "cell_type": "code",
   "execution_count": 15,
   "id": "3b9dfd0b",
   "metadata": {},
   "outputs": [
    {
     "data": {
      "image/png": "[encoded data removed]",
      "text/plain": [
       "<Figure size 640x480 with 1 Axes>"
      ]
     },
     "metadata": {},
     "output_type": "display_data"
    }
   ],
   "source": [
    "sns.countplot(data=df,x=\"Exited\");"
   ]
  },
  {
   "cell_type": "code",
   "execution_count": 16,
   "id": "a76d4f60",
   "metadata": {},
   "outputs": [
    {
     "data": {
      "text/plain": [
       "Exited\n",
       "1         55.046584\n",
       "0         44.953416\n",
       "dtype: float64"
      ]
     },
     "execution_count": 16,
     "metadata": {},
     "output_type": "execute_result"
    }
   ],
   "source": [
    "#Managing the imbalanced classes with imblearn\n",
    "\n",
    "from imblearn.combine import SMOTEENN\n",
    "\n",
    "imp=SMOTEENN(sampling_strategy=0.99)\n",
    "\n",
    "X_bal,y_bal=imp.fit_resample(X,y)\n",
    "\n",
    "#Finding out if the imbalaced data continues\n",
    "\n",
    "y_bal.value_counts(normalize=True)*100"
   ]
  },
  {
   "cell_type": "code",
   "execution_count": 17,
   "id": "22fdf23d",
   "metadata": {},
   "outputs": [],
   "source": [
    "#Saving the new data in order to save time in the future analysis\n",
    "\n",
    "new_data=pd.concat([X_bal,y_bal],axis=1)\n",
    "\n",
    "new_data.to_csv(\"new_data_churn_lab_platzi.csv\",index=False)"
   ]
  },
  {
   "cell_type": "code",
   "execution_count": 18,
   "id": "c65abd84",
   "metadata": {},
   "outputs": [],
   "source": [
    "#Splitting the data in train and test\n",
    "\n",
    "from sklearn.model_selection import train_test_split\n",
    "\n",
    "X_train,X_test,y_train,y_test=train_test_split(X_bal,y_bal,test_size=0.3, random_state=42)"
   ]
  },
  {
   "cell_type": "code",
   "execution_count": 19,
   "id": "313faf81",
   "metadata": {},
   "outputs": [],
   "source": [
    "#Standardization the data\n",
    "\n",
    "from sklearn.preprocessing import StandardScaler\n",
    "\n",
    "scaler_x=StandardScaler()\n",
    "\n",
    "scaler_x.fit(X_train)\n",
    "\n",
    "X_train=pd.DataFrame(scaler_x.transform(X_train),columns=X_train.columns)\n",
    "\n",
    "X_test=pd.DataFrame(scaler_x.transform(X_test),columns=X_test.columns)"
   ]
  },
  {
   "cell_type": "code",
   "execution_count": 60,
   "id": "8b101b60",
   "metadata": {},
   "outputs": [],
   "source": [
    "#EVALUATING DIFFERENT MACHINE LEARNING MODELS\n",
    "\n",
    "#Importing the libraries\n",
    "from sklearn.preprocessing import StandardScaler\n",
    "from sklearn.model_selection import KFold,cross_val_score\n",
    "from sklearn.linear_model import LogisticRegression\n",
    "from sklearn.discriminant_analysis import LinearDiscriminantAnalysis\n",
    "from sklearn.naive_bayes import GaussianNB\n",
    "from sklearn.svm import SVC\n",
    "from sklearn.neighbors import KNeighborsClassifier\n",
    "from sklearn.tree import DecisionTreeClassifier\n",
    "\n",
    "#Ensemble\n",
    "from xgboost import XGBClassifier\n",
    "from catboost import CatBoostClassifier\n",
    "from lightgbm import LGBMClassifier\n",
    "from sklearn.ensemble import RandomForestClassifier,BaggingClassifier,ExtraTreesClassifier,AdaBoostClassifier,GradientBoostingClassifier\n",
    "from sklearn.ensemble import StackingClassifier,VotingClassifier\n",
    "from mlxtend import classifier\n",
    "\n",
    "#Estimators for voting\n",
    "estimators_voting=[(\"lr\",LogisticRegression(solver=\"lbfgs\",max_iter=10000)),(\"knn\",KNeighborsClassifier(5)),(\"rfc\",RandomForestClassifier())]\n",
    "\n",
    "#Estimators for stacking\n",
    "# Prepare the list of tuples with the first-layer classifiers\n",
    "classifiers = [('clf_dt',DecisionTreeClassifier(min_samples_leaf= 3 , min_samples_split= 9, random_state=500)),('clf_knn',KNeighborsClassifier(n_neighbors=5,algorithm= 'ball_tree'))]\n",
    "# Instantiate the second-layer meta estimator\n",
    "clf_meta = LogisticRegression()\n",
    "\n",
    "\n",
    "#Estimators for MLxtend\n",
    "# Instantiate the first-layer classifiers\n",
    "clf_dt = DecisionTreeClassifier(min_samples_leaf = 3 , min_samples_split = 9, random_state=500)\n",
    "clf_knn = KNeighborsClassifier(n_neighbors=5,algorithm= 'ball_tree')\n",
    "\n",
    "# Instantiate the second-layer meta classifier\n",
    "clf_meta = LogisticRegression()\n"
   ]
  },
  {
   "cell_type": "code",
   "execution_count": 61,
   "id": "bb1ac4d6",
   "metadata": {},
   "outputs": [
    {
     "name": "stdout",
     "output_type": "stream",
     "text": [
      "Logistic Regression :84.36% (1.76%)\n",
      "LDA :83.65% (1.37%)\n",
      "Naive Bayes :80.83% (1.88%)\n",
      "SVM :87.80% (1.81%)\n",
      "KNN :85.87% (1.11%)\n",
      "Decision Tree :83.81% (1.53%)\n",
      "XGB Classifier :90.24% (1.57%)\n",
      "Cat Boost Classifier :88.27% (1.39%)\n",
      "LGBM Classifier :85.36% (0.45%)\n",
      "Random Forest :89.46% (1.13%)\n",
      "Bagging Class :87.31% (1.51%)\n",
      "Extra trees :89.06% (0.95%)\n",
      "Ada Boost :87.80% (1.38%)\n",
      "Gradient Boosting :89.62% (1.58%)\n",
      "Voting Classifier :88.07% (1.51%)\n",
      "Average Voting Classifier :88.33% (1.84%)\n",
      "Stacking Classifier :86.89% (1.57%)\n",
      "MLXTend Classifier :85.12% (1.47%)\n"
     ]
    }
   ],
   "source": [
    "#Preparing the models\n",
    "models=[]\n",
    "models.append((\"Logistic Regression\",LogisticRegression(solver=\"lbfgs\",max_iter=10000)))\n",
    "models.append((\"LDA\",LinearDiscriminantAnalysis()))\n",
    "models.append((\"Naive Bayes\",GaussianNB()))\n",
    "models.append((\"SVM\",SVC()))\n",
    "models.append((\"KNN\",KNeighborsClassifier()))\n",
    "models.append((\"Decision Tree\",DecisionTreeClassifier()))\n",
    "models.append((\"XGB Classifier\",XGBClassifier(objective=\"binary:logistic\")))\n",
    "models.append((\"Cat Boost Classifier\",CatBoostClassifier(n_estimators =100,learning_rate=0.1, max_depth=3, random_state=500,verbose=0)))\n",
    "models.append((\"LGBM Classifier\",LGBMClassifier(max_depth = 3, learning_rate = 0.1, n_estimators = 10, objective='binary', seed=500,verbose=0,force_row_wise=True)))\n",
    "models.append((\"Random Forest\",RandomForestClassifier()))\n",
    "models.append((\"Bagging Class\",BaggingClassifier()))\n",
    "models.append((\"Extra trees\",ExtraTreesClassifier()))\n",
    "models.append((\"Ada Boost\",AdaBoostClassifier()))\n",
    "models.append((\"Gradient Boosting\",GradientBoostingClassifier()))\n",
    "models.append((\"Voting Classifier\",VotingClassifier(estimators_voting)))\n",
    "models.append((\"Average Voting Classifier\",VotingClassifier(estimators_voting,voting=\"soft\")))\n",
    "models.append((\"Stacking Classifier\",StackingClassifier(classifiers,clf_meta,stack_method='predict_proba',passthrough = False)))\n",
    "models.append((\"MLXTend Classifier\",classifier.StackingClassifier([clf_dt,clf_knn],clf_meta,use_probas=True,use_features_in_secondary = False)))\n",
    "\n",
    "#Evaluating each model in turn\n",
    "results=[]\n",
    "names=[]\n",
    "scoring=\"accuracy\"\n",
    "scaler=StandardScaler()\n",
    "\n",
    "for name, model in models:\n",
    "  kfold=KFold(n_splits=10,shuffle=True)\n",
    "  cv_results=cross_val_score(model,X_train,y_train.values.reshape(-1,1).ravel(),cv=kfold,scoring=scoring)\n",
    "  results.append(cv_results)\n",
    "  names.append(name)\n",
    "  print(f\"{name} :{cv_results.mean()*100:,.2f}% ({cv_results.std()*100:.2f}%)\")"
   ]
  },
  {
   "cell_type": "code",
   "execution_count": 59,
   "id": "1a6adf31",
   "metadata": {},
   "outputs": [
    {
     "data": {
      "image/png": "[encoded data removed]",
      "text/plain": [
       "<Figure size 600x400 with 1 Axes>"
      ]
     },
     "metadata": {},
     "output_type": "display_data"
    }
   ],
   "source": [
    "import matplotlib.pyplot as plt\n",
    "fig=plt.figure()\n",
    "fig.suptitle(\"Comparison of the different Algorithms\")\n",
    "ax=fig.add_subplot(111)\n",
    "plt.rcParams[\"figure.figsize\"]=[6,10]\n",
    "plt.boxplot(results)\n",
    "ax.set_xticklabels(names,rotation=\"vertical\")\n",
    "plt.show()"
   ]
  },
  {
   "cell_type": "code",
   "execution_count": 26,
   "id": "4d44b62c",
   "metadata": {},
   "outputs": [
    {
     "name": "stdout",
     "output_type": "stream",
     "text": [
      "                                                                                                                       \n",
      "Generation 1 - Current best internal CV score: 0.843611357586513\n",
      "                                                                                                                       \n",
      "Generation 2 - Current best internal CV score: 0.8456078083407276\n",
      "                                                                                                                       \n",
      "Generation 3 - Current best internal CV score: 0.888642413487134\n",
      "                                                                                                                       \n",
      "Best pipeline: XGBClassifier(input_matrix, learning_rate=0.5, max_depth=2, min_child_weight=4, n_estimators=100, n_jobs=1, subsample=0.9500000000000001, verbosity=0)\n",
      "==============================\n",
      "Score for the best classifier 0.900103519668737\n"
     ]
    }
   ],
   "source": [
    "from tpot import TPOTClassifier\n",
    "# Assign the values outlined to the inputs\n",
    "number_generations = 3\n",
    "population_size = 4\n",
    "offspring_size = 3\n",
    "scoring_function = 'accuracy'\n",
    "\n",
    "# Create the tpot classifier\n",
    "tpot_clf = TPOTClassifier(generations=number_generations, population_size=population_size,\n",
    "                          offspring_size=offspring_size, scoring=scoring_function,\n",
    "                          verbosity=2, random_state=2, cv=2)\n",
    "\n",
    "# Fit the classifier to the training data\n",
    "tpot_clf.fit(X_train , y_train.values.ravel())\n",
    "print(\"=\"*30)\n",
    "# Score on the test set\n",
    "print(\"Score for the best classifier\",tpot_clf.score(X_test , y_test.values.ravel()))"
   ]
  },
  {
   "cell_type": "code",
   "execution_count": 62,
   "id": "d59f809a",
   "metadata": {},
   "outputs": [
    {
     "name": "stdout",
     "output_type": "stream",
     "text": [
      "Best : 0.892192 using the params {'max_depth': 6, 'n_estimators': 19}\n",
      "0.836524 (0.021270) with {'max_depth': 2, 'n_estimators': 5}\n",
      "0.845612 (0.012741) with {'max_depth': 2, 'n_estimators': 6}\n",
      "0.844502 (0.014959) with {'max_depth': 2, 'n_estimators': 7}\n",
      "0.850492 (0.014257) with {'max_depth': 2, 'n_estimators': 8}\n",
      "0.854931 (0.014640) with {'max_depth': 2, 'n_estimators': 9}\n",
      "0.854487 (0.018501) with {'max_depth': 2, 'n_estimators': 10}\n",
      "0.854928 (0.015808) with {'max_depth': 2, 'n_estimators': 11}\n",
      "0.856479 (0.014188) with {'max_depth': 2, 'n_estimators': 12}\n",
      "0.860916 (0.013475) with {'max_depth': 2, 'n_estimators': 13}\n",
      "0.858919 (0.013224) with {'max_depth': 2, 'n_estimators': 14}\n",
      "0.862246 (0.010879) with {'max_depth': 2, 'n_estimators': 15}\n",
      "0.861581 (0.012899) with {'max_depth': 2, 'n_estimators': 16}\n",
      "0.864464 (0.013536) with {'max_depth': 2, 'n_estimators': 17}\n",
      "0.865131 (0.012453) with {'max_depth': 2, 'n_estimators': 18}\n",
      "0.870453 (0.012522) with {'max_depth': 2, 'n_estimators': 19}\n",
      "0.855811 (0.007342) with {'max_depth': 3, 'n_estimators': 5}\n",
      "0.865797 (0.010482) with {'max_depth': 3, 'n_estimators': 6}\n",
      "0.862912 (0.012302) with {'max_depth': 3, 'n_estimators': 7}\n",
      "0.866019 (0.011896) with {'max_depth': 3, 'n_estimators': 8}\n",
      "0.869791 (0.012598) with {'max_depth': 3, 'n_estimators': 9}\n",
      "0.870675 (0.008760) with {'max_depth': 3, 'n_estimators': 10}\n",
      "0.871785 (0.010251) with {'max_depth': 3, 'n_estimators': 11}\n",
      "0.873781 (0.010535) with {'max_depth': 3, 'n_estimators': 12}\n",
      "0.876001 (0.010451) with {'max_depth': 3, 'n_estimators': 13}\n",
      "0.876666 (0.011069) with {'max_depth': 3, 'n_estimators': 14}\n",
      "0.879107 (0.008831) with {'max_depth': 3, 'n_estimators': 15}\n",
      "0.878885 (0.010302) with {'max_depth': 3, 'n_estimators': 16}\n",
      "0.877996 (0.011225) with {'max_depth': 3, 'n_estimators': 17}\n",
      "0.878884 (0.012034) with {'max_depth': 3, 'n_estimators': 18}\n",
      "0.878883 (0.010973) with {'max_depth': 3, 'n_estimators': 19}\n",
      "0.861138 (0.015658) with {'max_depth': 4, 'n_estimators': 5}\n",
      "0.870677 (0.014038) with {'max_depth': 4, 'n_estimators': 6}\n",
      "0.872895 (0.013911) with {'max_depth': 4, 'n_estimators': 7}\n",
      "0.873782 (0.012938) with {'max_depth': 4, 'n_estimators': 8}\n",
      "0.876444 (0.013750) with {'max_depth': 4, 'n_estimators': 9}\n",
      "0.876444 (0.009832) with {'max_depth': 4, 'n_estimators': 10}\n",
      "0.877108 (0.008728) with {'max_depth': 4, 'n_estimators': 11}\n",
      "0.880436 (0.009268) with {'max_depth': 4, 'n_estimators': 12}\n",
      "0.883320 (0.009938) with {'max_depth': 4, 'n_estimators': 13}\n",
      "0.883986 (0.009188) with {'max_depth': 4, 'n_estimators': 14}\n",
      "0.883986 (0.008294) with {'max_depth': 4, 'n_estimators': 15}\n",
      "0.883984 (0.009235) with {'max_depth': 4, 'n_estimators': 16}\n",
      "0.886425 (0.008763) with {'max_depth': 4, 'n_estimators': 17}\n",
      "0.885760 (0.007795) with {'max_depth': 4, 'n_estimators': 18}\n",
      "0.886647 (0.007179) with {'max_depth': 4, 'n_estimators': 19}\n",
      "0.869345 (0.015800) with {'max_depth': 5, 'n_estimators': 5}\n",
      "0.871343 (0.016651) with {'max_depth': 5, 'n_estimators': 6}\n",
      "0.872451 (0.017617) with {'max_depth': 5, 'n_estimators': 7}\n",
      "0.874890 (0.016415) with {'max_depth': 5, 'n_estimators': 8}\n",
      "0.881102 (0.015565) with {'max_depth': 5, 'n_estimators': 9}\n",
      "0.882876 (0.013960) with {'max_depth': 5, 'n_estimators': 10}\n",
      "0.883541 (0.014635) with {'max_depth': 5, 'n_estimators': 11}\n",
      "0.887313 (0.014588) with {'max_depth': 5, 'n_estimators': 12}\n",
      "0.886427 (0.014226) with {'max_depth': 5, 'n_estimators': 13}\n",
      "0.888423 (0.014634) with {'max_depth': 5, 'n_estimators': 14}\n",
      "0.888202 (0.014861) with {'max_depth': 5, 'n_estimators': 15}\n",
      "0.888200 (0.013319) with {'max_depth': 5, 'n_estimators': 16}\n",
      "0.888200 (0.013914) with {'max_depth': 5, 'n_estimators': 17}\n",
      "0.889752 (0.012837) with {'max_depth': 5, 'n_estimators': 18}\n",
      "0.891528 (0.012559) with {'max_depth': 5, 'n_estimators': 19}\n",
      "0.873337 (0.011756) with {'max_depth': 6, 'n_estimators': 5}\n",
      "0.878440 (0.012045) with {'max_depth': 6, 'n_estimators': 6}\n",
      "0.878882 (0.008036) with {'max_depth': 6, 'n_estimators': 7}\n",
      "0.879105 (0.009323) with {'max_depth': 6, 'n_estimators': 8}\n",
      "0.881546 (0.011059) with {'max_depth': 6, 'n_estimators': 9}\n",
      "0.881102 (0.009891) with {'max_depth': 6, 'n_estimators': 10}\n",
      "0.880880 (0.009043) with {'max_depth': 6, 'n_estimators': 11}\n",
      "0.883984 (0.009816) with {'max_depth': 6, 'n_estimators': 12}\n",
      "0.884428 (0.008634) with {'max_depth': 6, 'n_estimators': 13}\n",
      "0.887090 (0.007660) with {'max_depth': 6, 'n_estimators': 14}\n",
      "0.888865 (0.008064) with {'max_depth': 6, 'n_estimators': 15}\n",
      "0.891304 (0.009972) with {'max_depth': 6, 'n_estimators': 16}\n",
      "0.890196 (0.008295) with {'max_depth': 6, 'n_estimators': 17}\n",
      "0.890418 (0.007523) with {'max_depth': 6, 'n_estimators': 18}\n",
      "0.892192 (0.008424) with {'max_depth': 6, 'n_estimators': 19}\n",
      "0.868678 (0.016276) with {'max_depth': 7, 'n_estimators': 5}\n",
      "0.873780 (0.010924) with {'max_depth': 7, 'n_estimators': 6}\n",
      "0.875776 (0.012999) with {'max_depth': 7, 'n_estimators': 7}\n",
      "0.874889 (0.015870) with {'max_depth': 7, 'n_estimators': 8}\n",
      "0.879106 (0.015627) with {'max_depth': 7, 'n_estimators': 9}\n",
      "0.880436 (0.012968) with {'max_depth': 7, 'n_estimators': 10}\n",
      "0.881990 (0.013002) with {'max_depth': 7, 'n_estimators': 11}\n",
      "0.882655 (0.013699) with {'max_depth': 7, 'n_estimators': 12}\n",
      "0.883765 (0.014634) with {'max_depth': 7, 'n_estimators': 13}\n",
      "0.886427 (0.015856) with {'max_depth': 7, 'n_estimators': 14}\n",
      "0.885983 (0.014329) with {'max_depth': 7, 'n_estimators': 15}\n",
      "0.885984 (0.016327) with {'max_depth': 7, 'n_estimators': 16}\n",
      "0.886205 (0.014598) with {'max_depth': 7, 'n_estimators': 17}\n",
      "0.886206 (0.015463) with {'max_depth': 7, 'n_estimators': 18}\n",
      "0.887315 (0.016327) with {'max_depth': 7, 'n_estimators': 19}\n",
      "0.865131 (0.015306) with {'max_depth': 8, 'n_estimators': 5}\n",
      "0.869568 (0.015288) with {'max_depth': 8, 'n_estimators': 6}\n",
      "0.875113 (0.012020) with {'max_depth': 8, 'n_estimators': 7}\n",
      "0.874004 (0.013171) with {'max_depth': 8, 'n_estimators': 8}\n",
      "0.878438 (0.017102) with {'max_depth': 8, 'n_estimators': 9}\n",
      "0.880879 (0.015848) with {'max_depth': 8, 'n_estimators': 10}\n",
      "0.882653 (0.014486) with {'max_depth': 8, 'n_estimators': 11}\n",
      "0.883986 (0.012507) with {'max_depth': 8, 'n_estimators': 12}\n",
      "0.885539 (0.011953) with {'max_depth': 8, 'n_estimators': 13}\n",
      "0.886870 (0.012111) with {'max_depth': 8, 'n_estimators': 14}\n",
      "0.886870 (0.012450) with {'max_depth': 8, 'n_estimators': 15}\n",
      "0.887314 (0.012807) with {'max_depth': 8, 'n_estimators': 16}\n",
      "0.888645 (0.014193) with {'max_depth': 8, 'n_estimators': 17}\n",
      "0.889310 (0.014517) with {'max_depth': 8, 'n_estimators': 18}\n",
      "0.891086 (0.014876) with {'max_depth': 8, 'n_estimators': 19}\n",
      "0.866906 (0.012757) with {'max_depth': 9, 'n_estimators': 5}\n",
      "0.869344 (0.011735) with {'max_depth': 9, 'n_estimators': 6}\n",
      "0.870231 (0.011856) with {'max_depth': 9, 'n_estimators': 7}\n",
      "0.873558 (0.012308) with {'max_depth': 9, 'n_estimators': 8}\n",
      "0.876885 (0.012139) with {'max_depth': 9, 'n_estimators': 9}\n",
      "0.875997 (0.012229) with {'max_depth': 9, 'n_estimators': 10}\n",
      "0.881321 (0.009235) with {'max_depth': 9, 'n_estimators': 11}\n",
      "0.881100 (0.011257) with {'max_depth': 9, 'n_estimators': 12}\n",
      "0.883320 (0.010977) with {'max_depth': 9, 'n_estimators': 13}\n",
      "0.883985 (0.009648) with {'max_depth': 9, 'n_estimators': 14}\n",
      "0.884650 (0.009348) with {'max_depth': 9, 'n_estimators': 15}\n",
      "0.884649 (0.012054) with {'max_depth': 9, 'n_estimators': 16}\n",
      "0.885538 (0.010234) with {'max_depth': 9, 'n_estimators': 17}\n",
      "0.885760 (0.009880) with {'max_depth': 9, 'n_estimators': 18}\n",
      "0.886426 (0.009666) with {'max_depth': 9, 'n_estimators': 19}\n",
      "0.865354 (0.011714) with {'max_depth': 10, 'n_estimators': 5}\n",
      "0.867571 (0.009344) with {'max_depth': 10, 'n_estimators': 6}\n",
      "0.869345 (0.007920) with {'max_depth': 10, 'n_estimators': 7}\n",
      "0.868014 (0.007221) with {'max_depth': 10, 'n_estimators': 8}\n",
      "0.874449 (0.010513) with {'max_depth': 10, 'n_estimators': 9}\n",
      "0.874226 (0.009545) with {'max_depth': 10, 'n_estimators': 10}\n",
      "0.876889 (0.010173) with {'max_depth': 10, 'n_estimators': 11}\n",
      "0.877555 (0.010493) with {'max_depth': 10, 'n_estimators': 12}\n",
      "0.880882 (0.012003) with {'max_depth': 10, 'n_estimators': 13}\n",
      "0.880661 (0.013059) with {'max_depth': 10, 'n_estimators': 14}\n",
      "0.881548 (0.011642) with {'max_depth': 10, 'n_estimators': 15}\n",
      "0.883101 (0.012324) with {'max_depth': 10, 'n_estimators': 16}\n",
      "0.882214 (0.013238) with {'max_depth': 10, 'n_estimators': 17}\n",
      "0.881769 (0.013085) with {'max_depth': 10, 'n_estimators': 18}\n",
      "0.883322 (0.013543) with {'max_depth': 10, 'n_estimators': 19}\n",
      "0.866018 (0.013425) with {'max_depth': 11, 'n_estimators': 5}\n",
      "0.867350 (0.012759) with {'max_depth': 11, 'n_estimators': 6}\n",
      "0.873117 (0.010385) with {'max_depth': 11, 'n_estimators': 7}\n",
      "0.876443 (0.010863) with {'max_depth': 11, 'n_estimators': 8}\n",
      "0.874670 (0.011520) with {'max_depth': 11, 'n_estimators': 9}\n",
      "0.880660 (0.011574) with {'max_depth': 11, 'n_estimators': 10}\n",
      "0.883764 (0.010300) with {'max_depth': 11, 'n_estimators': 11}\n",
      "0.882654 (0.008113) with {'max_depth': 11, 'n_estimators': 12}\n",
      "0.883765 (0.006441) with {'max_depth': 11, 'n_estimators': 13}\n",
      "0.885095 (0.006643) with {'max_depth': 11, 'n_estimators': 14}\n",
      "0.886648 (0.006746) with {'max_depth': 11, 'n_estimators': 15}\n",
      "0.886647 (0.005247) with {'max_depth': 11, 'n_estimators': 16}\n",
      "0.887756 (0.005199) with {'max_depth': 11, 'n_estimators': 17}\n",
      "0.888865 (0.004812) with {'max_depth': 11, 'n_estimators': 18}\n",
      "0.888865 (0.004217) with {'max_depth': 11, 'n_estimators': 19}\n"
     ]
    }
   ],
   "source": [
    "#Fine Tuning the best model\n",
    "\n",
    "from sklearn.model_selection import GridSearchCV\n",
    "\n",
    "\n",
    "parametros = {\n",
    "    'n_estimators': range(5,20),\n",
    "    'max_depth': range(2, 12)\n",
    "}\n",
    "  \n",
    "model=XGBClassifier(objective=\"binary:logistic\")\n",
    "\n",
    "kfold=KFold(n_splits=5,shuffle=True)\n",
    "\n",
    "grid_result=GridSearchCV(estimator=model,param_grid=parametros,cv=kfold)\n",
    "\n",
    "grid_result.fit(X_train,(y_train.values.reshape(-1,1)).ravel())\n",
    "\n",
    "#Summarize_results\n",
    "\n",
    "print(\"Best : %f using the params %s\" % (grid_result.best_score_ , grid_result.best_params_))\n",
    "\n",
    "means=grid_result.cv_results_[\"mean_test_score\"]\n",
    "stds=grid_result.cv_results_[\"std_test_score\"]\n",
    "params=grid_result.cv_results_[\"params\"]\n",
    "\n",
    "\n",
    "for mean,stdev,param in zip(means,stds,params):\n",
    "    \n",
    "  print(\"%f (%f) with %r\" % (mean,stdev,param))"
   ]
  },
  {
   "cell_type": "code",
   "execution_count": 63,
   "id": "6429e8a9",
   "metadata": {},
   "outputs": [
    {
     "data": {
      "text/html": [
       "<div>\n",
       "<style scoped>\n",
       "    .dataframe tbody tr th:only-of-type {\n",
       "        vertical-align: middle;\n",
       "    }\n",
       "\n",
       "    .dataframe tbody tr th {\n",
       "        vertical-align: top;\n",
       "    }\n",
       "\n",
       "    .dataframe thead th {\n",
       "        text-align: right;\n",
       "    }\n",
       "</style>\n",
       "<table border=\"1\" class=\"dataframe\">\n",
       "  <thead>\n",
       "    <tr style=\"text-align: right;\">\n",
       "      <th></th>\n",
       "      <th>Accuracy</th>\n",
       "      <th>Std</th>\n",
       "      <th>Parameters</th>\n",
       "    </tr>\n",
       "  </thead>\n",
       "  <tbody>\n",
       "    <tr>\n",
       "      <th>0</th>\n",
       "      <td>0.836524</td>\n",
       "      <td>0.021270</td>\n",
       "      <td>{'max_depth': 2, 'n_estimators': 5}</td>\n",
       "    </tr>\n",
       "    <tr>\n",
       "      <th>1</th>\n",
       "      <td>0.845612</td>\n",
       "      <td>0.012741</td>\n",
       "      <td>{'max_depth': 2, 'n_estimators': 6}</td>\n",
       "    </tr>\n",
       "    <tr>\n",
       "      <th>2</th>\n",
       "      <td>0.844502</td>\n",
       "      <td>0.014959</td>\n",
       "      <td>{'max_depth': 2, 'n_estimators': 7}</td>\n",
       "    </tr>\n",
       "    <tr>\n",
       "      <th>3</th>\n",
       "      <td>0.850492</td>\n",
       "      <td>0.014257</td>\n",
       "      <td>{'max_depth': 2, 'n_estimators': 8}</td>\n",
       "    </tr>\n",
       "    <tr>\n",
       "      <th>4</th>\n",
       "      <td>0.854931</td>\n",
       "      <td>0.014640</td>\n",
       "      <td>{'max_depth': 2, 'n_estimators': 9}</td>\n",
       "    </tr>\n",
       "    <tr>\n",
       "      <th>...</th>\n",
       "      <td>...</td>\n",
       "      <td>...</td>\n",
       "      <td>...</td>\n",
       "    </tr>\n",
       "    <tr>\n",
       "      <th>145</th>\n",
       "      <td>0.886648</td>\n",
       "      <td>0.006746</td>\n",
       "      <td>{'max_depth': 11, 'n_estimators': 15}</td>\n",
       "    </tr>\n",
       "    <tr>\n",
       "      <th>146</th>\n",
       "      <td>0.886647</td>\n",
       "      <td>0.005247</td>\n",
       "      <td>{'max_depth': 11, 'n_estimators': 16}</td>\n",
       "    </tr>\n",
       "    <tr>\n",
       "      <th>147</th>\n",
       "      <td>0.887756</td>\n",
       "      <td>0.005199</td>\n",
       "      <td>{'max_depth': 11, 'n_estimators': 17}</td>\n",
       "    </tr>\n",
       "    <tr>\n",
       "      <th>148</th>\n",
       "      <td>0.888865</td>\n",
       "      <td>0.004812</td>\n",
       "      <td>{'max_depth': 11, 'n_estimators': 18}</td>\n",
       "    </tr>\n",
       "    <tr>\n",
       "      <th>149</th>\n",
       "      <td>0.888865</td>\n",
       "      <td>0.004217</td>\n",
       "      <td>{'max_depth': 11, 'n_estimators': 19}</td>\n",
       "    </tr>\n",
       "  </tbody>\n",
       "</table>\n",
       "<p>150 rows × 3 columns</p>\n",
       "</div>"
      ],
      "text/plain": [
       "     Accuracy       Std                             Parameters\n",
       "0    0.836524  0.021270    {'max_depth': 2, 'n_estimators': 5}\n",
       "1    0.845612  0.012741    {'max_depth': 2, 'n_estimators': 6}\n",
       "2    0.844502  0.014959    {'max_depth': 2, 'n_estimators': 7}\n",
       "3    0.850492  0.014257    {'max_depth': 2, 'n_estimators': 8}\n",
       "4    0.854931  0.014640    {'max_depth': 2, 'n_estimators': 9}\n",
       "..        ...       ...                                    ...\n",
       "145  0.886648  0.006746  {'max_depth': 11, 'n_estimators': 15}\n",
       "146  0.886647  0.005247  {'max_depth': 11, 'n_estimators': 16}\n",
       "147  0.887756  0.005199  {'max_depth': 11, 'n_estimators': 17}\n",
       "148  0.888865  0.004812  {'max_depth': 11, 'n_estimators': 18}\n",
       "149  0.888865  0.004217  {'max_depth': 11, 'n_estimators': 19}\n",
       "\n",
       "[150 rows x 3 columns]"
      ]
     },
     "execution_count": 63,
     "metadata": {},
     "output_type": "execute_result"
    }
   ],
   "source": [
    "results=pd.DataFrame(list(zip(means,stds,params)))\n",
    "results.columns=[\"Accuracy\",\"Std\",\"Parameters\"]\n",
    "results"
   ]
  },
  {
   "cell_type": "code",
   "execution_count": 64,
   "id": "9e8900da",
   "metadata": {},
   "outputs": [
    {
     "name": "stdout",
     "output_type": "stream",
     "text": [
      "   train-auc-mean  train-auc-std  test-auc-mean  test-auc-std\n",
      "0        0.838921       0.005347       0.829254      0.012003\n",
      "1        0.907429       0.003242       0.900237      0.009928\n",
      "2        0.926732       0.007319       0.918359      0.008989\n",
      "3        0.934867       0.005077       0.927848      0.010182\n",
      "4        0.940230       0.002411       0.934273      0.006777\n",
      "5        0.942543       0.001712       0.934852      0.007086\n",
      "6        0.947070       0.001399       0.938351      0.005478\n",
      "7        0.949440       0.002247       0.941040      0.003950\n",
      "8        0.950361       0.001804       0.941866      0.004943\n",
      "9        0.951990       0.001591       0.942849      0.004587\n",
      "********************\n",
      "ROC_AUC with XGBoostCV\n",
      "0.942848750252074\n",
      "********************\n",
      "ROC_AUC with sk-learn 0.9646706553923872\n"
     ]
    }
   ],
   "source": [
    "#Playing with CV in XGBoost\n",
    "\n",
    "from xgboost import cv\n",
    "\n",
    "from xgboost import DMatrix\n",
    "\n",
    "matrix=DMatrix(X_train,y_train)\n",
    "\n",
    "params = {\"objective\":\"binary:logistic\", \"max_depth\":3}\n",
    "\n",
    "\n",
    "# Perform cross-validation: cv_results\n",
    "cv_results = cv(dtrain=matrix, params=params, \n",
    "                  nfold=3, num_boost_round=10, \n",
    "                  metrics=\"auc\", as_pandas=True, seed=123)\n",
    "\n",
    "\n",
    "# Print cv_results\n",
    "print(cv_results)\n",
    "\n",
    "print(\"*\"*20)\n",
    "\n",
    "# Print the AUC\n",
    "print(\"ROC_AUC with XGBoostCV\")\n",
    "print(((cv_results[\"test-auc-mean\"].iloc[-1])))\n",
    "\n",
    "print(\"*\"*20)\n",
    "\n",
    "#CV with sk-learn\n",
    "cv_sklearn=cross_val_score(XGBClassifier(objective=\"binary:logistic\",max_depth=3),X_train,y_train.values.reshape(-1,1).ravel(),cv=kfold,scoring=\"roc_auc\").mean()\n",
    "\n",
    "print(\"ROC_AUC with sk-learn\",cv_sklearn)"
   ]
  },
  {
   "cell_type": "code",
   "execution_count": 65,
   "id": "9f0e2693",
   "metadata": {},
   "outputs": [
    {
     "data": {
      "image/png": "[encoded data removed]",
      "text/plain": [
       "<Figure size 600x1000 with 1 Axes>"
      ]
     },
     "metadata": {},
     "output_type": "display_data"
    },
    {
     "data": {
      "text/plain": [
       "<Figure size 1000x600 with 0 Axes>"
      ]
     },
     "metadata": {},
     "output_type": "display_data"
    }
   ],
   "source": [
    "# Create the DMatrix: housing_dmatrix\n",
    "import xgboost as xgb\n",
    "matrix = xgb.DMatrix(data=X, label=y)\n",
    "\n",
    "# Create the parameter dictionary: params\n",
    "params = {\"objective\":\"binary:logistic\", \"max_depth\":2}\n",
    "\n",
    "# Train the model: xg_reg\n",
    "xg_cla = xgb.train(params=params, dtrain=matrix, num_boost_round=10)\n",
    "\n",
    "# Plot the first tree\n",
    "xgb.plot_tree(xg_cla,num_trees=9)\n",
    "plt.figure(figsize=(10,6))\n",
    "plt.show();\n"
   ]
  },
  {
   "cell_type": "code",
   "execution_count": 66,
   "id": "23223da7",
   "metadata": {},
   "outputs": [
    {
     "data": {
      "image/png": "[encoded data removed]",
      "text/plain": [
       "<Figure size 600x1000 with 1 Axes>"
      ]
     },
     "metadata": {},
     "output_type": "display_data"
    }
   ],
   "source": [
    "# Plot the feature importances\n",
    "xgb.plot_importance(xg_cla)\n",
    "plt.rcParams[\"figure.figsize\"]=[5,2]\n",
    "plt.show()"
   ]
  },
  {
   "cell_type": "code",
   "execution_count": 67,
   "id": "ae5ff0b1",
   "metadata": {},
   "outputs": [],
   "source": [
    "#Saving the fine_tuned model\n",
    "from pickle import dump\n",
    "dump(grid_result,open(\"Models_Jupyter_Notebook/tune_model_lab_platzi.pkl\",\"wb\"))"
   ]
  },
  {
   "cell_type": "code",
   "execution_count": 68,
   "id": "fce7313e",
   "metadata": {},
   "outputs": [],
   "source": [
    "#Saving the scaler\n",
    "from pickle import dump\n",
    "dump(scaler_x,open(\"Models_Jupyter_Notebook/scaler_x.pkl\",\"wb\"))"
   ]
  },
  {
   "cell_type": "code",
   "execution_count": 69,
   "id": "a557759e",
   "metadata": {},
   "outputs": [
    {
     "name": "stdout",
     "output_type": "stream",
     "text": [
      "Classification Report:\n",
      "              precision    recall  f1-score   support\n",
      "\n",
      "           0       0.88      0.90      0.89       877\n",
      "           1       0.92      0.90      0.91      1055\n",
      "\n",
      "    accuracy                           0.90      1932\n",
      "   macro avg       0.90      0.90      0.90      1932\n",
      "weighted avg       0.90      0.90      0.90      1932\n",
      "\n"
     ]
    }
   ],
   "source": [
    "#Evaluating the model using classification_report\n",
    "\n",
    "from sklearn.metrics import classification_report\n",
    "\n",
    "y_pred=pd.DataFrame(grid_result.predict(X_test).reshape(-1,1),columns=y_test.columns)\n",
    "\n",
    "clas_rep=classification_report(y_test,y_pred)\n",
    "\n",
    "print(\"Classification Report:\")\n",
    "print(clas_rep)"
   ]
  },
  {
   "cell_type": "code",
   "execution_count": 70,
   "id": "f62dc55d",
   "metadata": {},
   "outputs": [
    {
     "data": {
      "image/png": "[encoded data removed]",
      "text/plain": [
       "<Figure size 500x200 with 2 Axes>"
      ]
     },
     "metadata": {},
     "output_type": "display_data"
    }
   ],
   "source": [
    "#Evaluating the model with a confusion matrix\n",
    "from sklearn.metrics import plot_confusion_matrix\n",
    "plot_confusion_matrix(grid_result,X_test,y_test.values.reshape(-1,1).ravel());"
   ]
  },
  {
   "cell_type": "code",
   "execution_count": 71,
   "id": "a30055da",
   "metadata": {},
   "outputs": [
    {
     "data": {
      "image/png": "[encoded data removed]",
      "text/plain": [
       "<Figure size 800x400 with 2 Axes>"
      ]
     },
     "metadata": {},
     "output_type": "display_data"
    }
   ],
   "source": [
    "#Using precision_recall curve and roc_curve\n",
    "\n",
    "from sklearn.metrics import plot_precision_recall_curve,plot_roc_curve\n",
    "\n",
    "fig,ax=plt.subplots(1,2,figsize=(8,4));\n",
    "\n",
    "plot_roc_curve(grid_result,X_test,y_test.values.reshape(-1,1).ravel(),ax=ax[0]);\n",
    "\n",
    "plot_precision_recall_curve(grid_result,X_test,y_test.values.reshape(-1,1).ravel(),ax=ax[1]);"
   ]
  },
  {
   "cell_type": "code",
   "execution_count": 73,
   "id": "60fe9ede",
   "metadata": {},
   "outputs": [
    {
     "name": "stdout",
     "output_type": "stream",
     "text": [
      "                                                                                                                       \n",
      "Generation 1 - Current best internal CV score: 0.843611357586513\n",
      "                                                                                                                       \n",
      "Generation 2 - Current best internal CV score: 0.8456078083407276\n",
      "                                                                                                                       \n",
      "Generation 3 - Current best internal CV score: 0.888642413487134\n",
      "                                                                                                                       \n",
      "Best pipeline: XGBClassifier(input_matrix, learning_rate=0.5, max_depth=2, min_child_weight=4, n_estimators=100, n_jobs=1, subsample=0.9500000000000001, verbosity=0)\n",
      "==============================\n",
      "Score of the best classifier 0.900103519668737\n"
     ]
    }
   ],
   "source": [
    "#SOLVING THE PROBLEM WITH GENETIC ALGORITHMS\n",
    "from tpot import TPOTClassifier\n",
    "# Assign the values outlined to the inputs\n",
    "number_generations = 3\n",
    "population_size = 4\n",
    "offspring_size = 3\n",
    "scoring_function = 'accuracy'\n",
    "\n",
    "# Create the tpot classifier\n",
    "tpot_clf = TPOTClassifier(generations=number_generations, population_size=population_size,\n",
    "                          offspring_size=offspring_size, scoring=scoring_function,\n",
    "                          verbosity=2, random_state=2, cv=2)\n",
    "\n",
    "# Fit the classifier to the training data\n",
    "tpot_clf.fit(X_train , y_train.values.ravel())\n",
    "print(\"=\"*30)\n",
    "# Score on the test set\n",
    "print(\"Score of the best classifier\",tpot_clf.score(X_test , y_test.values.ravel()))\n"
   ]
  },
  {
   "cell_type": "code",
   "execution_count": 77,
   "id": "d8e4db3d",
   "metadata": {},
   "outputs": [],
   "source": [
    "#SOLVING THE PROBLEM WITH ARTIFICIAL NEURAL NETWORKS"
   ]
  },
  {
   "cell_type": "code",
   "execution_count": 78,
   "id": "15edf899",
   "metadata": {},
   "outputs": [],
   "source": [
    "#Importing the libraries\n",
    "from tensorflow.keras.models import Sequential\n",
    "from tensorflow.keras.layers import Dense\n",
    "from tensorflow.keras.callbacks import EarlyStopping"
   ]
  },
  {
   "cell_type": "code",
   "execution_count": 79,
   "id": "d652d6f6",
   "metadata": {},
   "outputs": [],
   "source": [
    "early=EarlyStopping(monitor=\"val_accuracy\", patience=10)"
   ]
  },
  {
   "cell_type": "code",
   "execution_count": 80,
   "id": "9a460152",
   "metadata": {},
   "outputs": [
    {
     "name": "stdout",
     "output_type": "stream",
     "text": [
      "Epoch 1/200\n",
      "226/226 [==============================] - 2s 5ms/step - loss: 0.3656 - accuracy: 0.8347 - val_loss: 0.3325 - val_accuracy: 0.8337\n",
      "Epoch 2/200\n",
      "226/226 [==============================] - 1s 3ms/step - loss: 0.2779 - accuracy: 0.8716 - val_loss: 0.3142 - val_accuracy: 0.8514\n",
      "Epoch 3/200\n",
      "226/226 [==============================] - 1s 3ms/step - loss: 0.2639 - accuracy: 0.8791 - val_loss: 0.3318 - val_accuracy: 0.8459\n",
      "Epoch 4/200\n",
      "226/226 [==============================] - 1s 3ms/step - loss: 0.2492 - accuracy: 0.8907 - val_loss: 0.3121 - val_accuracy: 0.8559\n",
      "Epoch 5/200\n",
      "226/226 [==============================] - 1s 3ms/step - loss: 0.2372 - accuracy: 0.8982 - val_loss: 0.3054 - val_accuracy: 0.8647\n",
      "Epoch 6/200\n",
      "226/226 [==============================] - 1s 3ms/step - loss: 0.2313 - accuracy: 0.9040 - val_loss: 0.3329 - val_accuracy: 0.8537\n",
      "Epoch 7/200\n",
      "226/226 [==============================] - 1s 3ms/step - loss: 0.2294 - accuracy: 0.9010 - val_loss: 0.3188 - val_accuracy: 0.8514\n",
      "Epoch 8/200\n",
      "226/226 [==============================] - 1s 3ms/step - loss: 0.2185 - accuracy: 0.9071 - val_loss: 0.3376 - val_accuracy: 0.8614\n",
      "Epoch 9/200\n",
      "226/226 [==============================] - 1s 3ms/step - loss: 0.2157 - accuracy: 0.9049 - val_loss: 0.3085 - val_accuracy: 0.8614\n",
      "Epoch 10/200\n",
      "226/226 [==============================] - 1s 3ms/step - loss: 0.2052 - accuracy: 0.9140 - val_loss: 0.3194 - val_accuracy: 0.8659\n",
      "Epoch 11/200\n",
      "226/226 [==============================] - 1s 4ms/step - loss: 0.2002 - accuracy: 0.9124 - val_loss: 0.3305 - val_accuracy: 0.8603\n",
      "Epoch 12/200\n",
      "226/226 [==============================] - 1s 4ms/step - loss: 0.1950 - accuracy: 0.9218 - val_loss: 0.3281 - val_accuracy: 0.8570\n",
      "Epoch 13/200\n",
      "226/226 [==============================] - 1s 4ms/step - loss: 0.1837 - accuracy: 0.9215 - val_loss: 0.3393 - val_accuracy: 0.8625\n",
      "Epoch 14/200\n",
      "226/226 [==============================] - 1s 4ms/step - loss: 0.1742 - accuracy: 0.9257 - val_loss: 0.3801 - val_accuracy: 0.8581\n",
      "Epoch 15/200\n",
      "226/226 [==============================] - 1s 4ms/step - loss: 0.1768 - accuracy: 0.9279 - val_loss: 0.3530 - val_accuracy: 0.8603\n",
      "Epoch 16/200\n",
      "226/226 [==============================] - 1s 4ms/step - loss: 0.1618 - accuracy: 0.9298 - val_loss: 0.3922 - val_accuracy: 0.8570\n",
      "Epoch 17/200\n",
      "226/226 [==============================] - 1s 3ms/step - loss: 0.1604 - accuracy: 0.9318 - val_loss: 0.3909 - val_accuracy: 0.8525\n",
      "Epoch 18/200\n",
      "226/226 [==============================] - 1s 3ms/step - loss: 0.1559 - accuracy: 0.9351 - val_loss: 0.3483 - val_accuracy: 0.8681\n",
      "Epoch 19/200\n",
      "226/226 [==============================] - 1s 3ms/step - loss: 0.1452 - accuracy: 0.9390 - val_loss: 0.4012 - val_accuracy: 0.8581\n",
      "Epoch 20/200\n",
      "226/226 [==============================] - 1s 3ms/step - loss: 0.1349 - accuracy: 0.9448 - val_loss: 0.3811 - val_accuracy: 0.8481\n",
      "Epoch 21/200\n",
      "226/226 [==============================] - 1s 3ms/step - loss: 0.1282 - accuracy: 0.9495 - val_loss: 0.4365 - val_accuracy: 0.8625\n",
      "Epoch 22/200\n",
      "226/226 [==============================] - 1s 3ms/step - loss: 0.1222 - accuracy: 0.9476 - val_loss: 0.4355 - val_accuracy: 0.8592\n",
      "Epoch 23/200\n",
      "226/226 [==============================] - 1s 3ms/step - loss: 0.1146 - accuracy: 0.9523 - val_loss: 0.4316 - val_accuracy: 0.8647\n",
      "Epoch 24/200\n",
      "226/226 [==============================] - 1s 4ms/step - loss: 0.1140 - accuracy: 0.9537 - val_loss: 0.4503 - val_accuracy: 0.8581\n",
      "Epoch 25/200\n",
      "226/226 [==============================] - 1s 3ms/step - loss: 0.1071 - accuracy: 0.9578 - val_loss: 0.5002 - val_accuracy: 0.8570\n",
      "Epoch 26/200\n",
      "226/226 [==============================] - 1s 3ms/step - loss: 0.1026 - accuracy: 0.9578 - val_loss: 0.5027 - val_accuracy: 0.8692\n",
      "Epoch 27/200\n",
      "226/226 [==============================] - 1s 3ms/step - loss: 0.0930 - accuracy: 0.9634 - val_loss: 0.5462 - val_accuracy: 0.8592\n",
      "Epoch 28/200\n",
      "226/226 [==============================] - 1s 3ms/step - loss: 0.0853 - accuracy: 0.9673 - val_loss: 0.5486 - val_accuracy: 0.8581\n",
      "Epoch 29/200\n",
      "226/226 [==============================] - 1s 3ms/step - loss: 0.0763 - accuracy: 0.9698 - val_loss: 0.5441 - val_accuracy: 0.8592\n",
      "Epoch 30/200\n",
      "226/226 [==============================] - 1s 4ms/step - loss: 0.0856 - accuracy: 0.9626 - val_loss: 0.5178 - val_accuracy: 0.8670\n",
      "Epoch 31/200\n",
      "226/226 [==============================] - 1s 4ms/step - loss: 0.0670 - accuracy: 0.9728 - val_loss: 0.5649 - val_accuracy: 0.8681\n",
      "Epoch 32/200\n",
      "226/226 [==============================] - 1s 4ms/step - loss: 0.0756 - accuracy: 0.9712 - val_loss: 0.5879 - val_accuracy: 0.8603\n",
      "Epoch 33/200\n",
      "226/226 [==============================] - 1s 4ms/step - loss: 0.0744 - accuracy: 0.9692 - val_loss: 0.5572 - val_accuracy: 0.8614\n",
      "Epoch 34/200\n",
      "226/226 [==============================] - 1s 4ms/step - loss: 0.0696 - accuracy: 0.9737 - val_loss: 0.6154 - val_accuracy: 0.8525\n",
      "Epoch 35/200\n",
      "226/226 [==============================] - 1s 4ms/step - loss: 0.0530 - accuracy: 0.9806 - val_loss: 0.6645 - val_accuracy: 0.8537\n",
      "Epoch 36/200\n",
      "226/226 [==============================] - 1s 4ms/step - loss: 0.0485 - accuracy: 0.9817 - val_loss: 0.7005 - val_accuracy: 0.8537\n"
     ]
    }
   ],
   "source": [
    "#Creating the model\n",
    "model=Sequential()\n",
    "model.add(Dense(256,activation=\"relu\",input_dim=X_train.shape[1]))\n",
    "model.add(Dense(128,activation=\"relu\"))\n",
    "model.add(Dense(32,activation=\"relu\"))\n",
    "model.add(Dense(1,activation=\"sigmoid\"))\n",
    "model.compile(optimizer=\"adam\",metrics=\"accuracy\",loss=\"binary_crossentropy\")\n",
    "history=model.fit(X_train,y_train,epochs=200,batch_size=16,validation_split=0.2,callbacks=[early])"
   ]
  },
  {
   "cell_type": "code",
   "execution_count": 81,
   "id": "af1365d0",
   "metadata": {},
   "outputs": [
    {
     "data": {
      "text/plain": [
       "[0.566441535949707, 0.8861283659934998]"
      ]
     },
     "execution_count": 81,
     "metadata": {},
     "output_type": "execute_result"
    }
   ],
   "source": [
    "#Evaluating the model\n",
    "model.evaluate(X_test,y_test,verbose=0)"
   ]
  },
  {
   "cell_type": "code",
   "execution_count": 82,
   "id": "29833997",
   "metadata": {},
   "outputs": [
    {
     "name": "stdout",
     "output_type": "stream",
     "text": [
      "Mean_test_accuracy 0.8693427681922913\n"
     ]
    }
   ],
   "source": [
    "##Using CV Score\n",
    "from tensorflow.keras.wrappers.scikit_learn import KerasClassifier\n",
    "from sklearn.model_selection import cross_val_score\n",
    "import warnings\n",
    "warnings.filterwarnings(\"ignore\", category=DeprecationWarning)\n",
    "\n",
    "def model_function():\n",
    "    model=Sequential()\n",
    "    model.add(Dense(256,activation=\"relu\",input_dim=X_train.shape[1]))\n",
    "    model.add(Dense(128,activation=\"relu\"))\n",
    "    model.add(Dense(32,activation=\"relu\"))\n",
    "    model.add(Dense(1,activation=\"sigmoid\"))\n",
    "    model.compile(optimizer=\"adam\",metrics=\"accuracy\",loss=\"binary_crossentropy\")\n",
    "    return model\n",
    "\n",
    "modelo=KerasClassifier(build_fn=model_function,epochs=20,batch_size=16,verbose=0)\n",
    "\n",
    "\n",
    "cv=cross_val_score(modelo,X_train,y_train,cv=5)\n",
    "\n",
    "print(\"Mean_test_accuracy\",cv.mean())"
   ]
  },
  {
   "cell_type": "code",
   "execution_count": 83,
   "id": "e5cea8b2",
   "metadata": {},
   "outputs": [
    {
     "name": "stdout",
     "output_type": "stream",
     "text": [
      "Best Score 0.8768847982088724\n",
      "==============================\n",
      "Best Parameters {'optimizer': 'sgd', 'epochs': 40, 'batch_size': 32, 'activation': 'relu'}\n"
     ]
    }
   ],
   "source": [
    "##Tuning hyperparameters\n",
    "\n",
    "from tensorflow.keras.wrappers.scikit_learn import KerasClassifier\n",
    "from sklearn.model_selection import cross_val_score,RandomizedSearchCV\n",
    "\n",
    "def model_function(optimizer=\"adam\",activation=\"relu\"):\n",
    "    model=Sequential()\n",
    "    model.add(Dense(256,activation=activation,input_dim=X_train.shape[1]))\n",
    "    model.add(Dense(128,activation=activation))\n",
    "    model.add(Dense(64,activation=activation))\n",
    "    model.add(Dense(1,activation=\"sigmoid\"))\n",
    "    model.compile(optimizer=optimizer,loss=\"binary_crossentropy\",metrics=\"accuracy\")\n",
    "    return model\n",
    "\n",
    "modelo=KerasClassifier(build_fn=model_function,epochs=3,batch_size=16,verbose=0)\n",
    "\n",
    "parameters={\n",
    "    \"optimizer\":[\"adam\",\"sgd\",\"rmsprop\"],\n",
    "    \"activation\":[\"relu\",\"sigmoid\"],\n",
    "    \"epochs\":[10,20,40],\n",
    "    \"batch_size\":[16,32,64]\n",
    "}\n",
    "\n",
    "random=RandomizedSearchCV(modelo,param_distributions=parameters,cv=3)\n",
    "\n",
    "results=random.fit(X_train,y_train)\n",
    "\n",
    "print(\"Best Score\", results.best_score_)\n",
    "print(\"=\"*30)\n",
    "print(\"Best Parameters\" , results.best_params_)"
   ]
  },
  {
   "cell_type": "code",
   "execution_count": 84,
   "id": "c45ab64d",
   "metadata": {},
   "outputs": [
    {
     "name": "stdout",
     "output_type": "stream",
     "text": [
      "Best Score 0.8715615073839823\n",
      "==============================\n",
      "Best Parameters {'nn': 128, 'dense_layers_extra': 2}\n"
     ]
    }
   ],
   "source": [
    "##Tuning layers and neurons\n",
    "\n",
    "from tensorflow.keras.wrappers.scikit_learn import KerasClassifier\n",
    "from sklearn.model_selection import cross_val_score,RandomizedSearchCV\n",
    "\n",
    "def model_function_2(dense_layers_extra=2,nn=100):\n",
    "    model=Sequential()\n",
    "    model.add(Dense(units=nn,activation=\"relu\",input_dim=X_train.shape[1]))\n",
    "    \n",
    "    for i in range(1,dense_layers_extra+1):\n",
    "        model.add(Dense(units=nn, activation=\"relu\"))\n",
    "        \n",
    "    model.compile(optimizer=\"adam\",loss=\"binary_crossentropy\",metrics=\"accuracy\")\n",
    "    \n",
    "    model.add(Dense(1,activation=\"sigmoid\"))\n",
    "    \n",
    "    return model\n",
    "\n",
    "modelo=KerasClassifier(build_fn=model_function_2,epochs=3,batch_size=16,verbose=0)\n",
    "\n",
    "parameters={\n",
    "    \"dense_layers_extra\":[1,2,3,4],\n",
    "    \n",
    "    \"nn\":[32,64,128,256]\n",
    "}\n",
    "\n",
    "random=RandomizedSearchCV(modelo,param_distributions=parameters,cv=3)\n",
    "\n",
    "results=random.fit(X_train,y_train)\n",
    "\n",
    "print(\"Best Score\", results.best_score_)\n",
    "print(\"=\"*30)\n",
    "print(\"Best Parameters\" , results.best_params_)"
   ]
  },
  {
   "cell_type": "code",
   "execution_count": 89,
   "id": "f7c7467c",
   "metadata": {},
   "outputs": [
    {
     "name": "stdout",
     "output_type": "stream",
     "text": [
      "Epoch 1/40\n",
      "113/113 [==============================] - 2s 7ms/step - loss: 0.6528 - accuracy: 0.6525 - val_loss: 0.6009 - val_accuracy: 0.7672\n",
      "Epoch 2/40\n",
      "113/113 [==============================] - 0s 3ms/step - loss: 0.5348 - accuracy: 0.8048 - val_loss: 0.4993 - val_accuracy: 0.7982\n",
      "Epoch 3/40\n",
      "113/113 [==============================] - 0s 3ms/step - loss: 0.4460 - accuracy: 0.8292 - val_loss: 0.4348 - val_accuracy: 0.8126\n",
      "Epoch 4/40\n",
      "113/113 [==============================] - 0s 3ms/step - loss: 0.3935 - accuracy: 0.8383 - val_loss: 0.3999 - val_accuracy: 0.8193\n",
      "Epoch 5/40\n",
      "113/113 [==============================] - 0s 4ms/step - loss: 0.3631 - accuracy: 0.8436 - val_loss: 0.3776 - val_accuracy: 0.8237\n",
      "Epoch 6/40\n",
      "113/113 [==============================] - 0s 3ms/step - loss: 0.3430 - accuracy: 0.8497 - val_loss: 0.3616 - val_accuracy: 0.8326\n",
      "Epoch 7/40\n",
      "113/113 [==============================] - 0s 3ms/step - loss: 0.3279 - accuracy: 0.8561 - val_loss: 0.3528 - val_accuracy: 0.8293\n",
      "Epoch 8/40\n",
      "113/113 [==============================] - 0s 4ms/step - loss: 0.3154 - accuracy: 0.8638 - val_loss: 0.3416 - val_accuracy: 0.8404\n",
      "Epoch 9/40\n",
      "113/113 [==============================] - 0s 3ms/step - loss: 0.3046 - accuracy: 0.8672 - val_loss: 0.3329 - val_accuracy: 0.8481\n",
      "Epoch 10/40\n",
      "113/113 [==============================] - 0s 4ms/step - loss: 0.2961 - accuracy: 0.8680 - val_loss: 0.3259 - val_accuracy: 0.8492\n",
      "Epoch 11/40\n",
      "113/113 [==============================] - 1s 5ms/step - loss: 0.2877 - accuracy: 0.8747 - val_loss: 0.3238 - val_accuracy: 0.8437\n",
      "Epoch 12/40\n",
      "113/113 [==============================] - 0s 4ms/step - loss: 0.2808 - accuracy: 0.8747 - val_loss: 0.3167 - val_accuracy: 0.8559\n",
      "Epoch 13/40\n",
      "113/113 [==============================] - 0s 3ms/step - loss: 0.2756 - accuracy: 0.8785 - val_loss: 0.3129 - val_accuracy: 0.8548\n",
      "Epoch 14/40\n",
      "113/113 [==============================] - 0s 4ms/step - loss: 0.2706 - accuracy: 0.8833 - val_loss: 0.3100 - val_accuracy: 0.8548\n",
      "Epoch 15/40\n",
      "113/113 [==============================] - 0s 3ms/step - loss: 0.2653 - accuracy: 0.8830 - val_loss: 0.3101 - val_accuracy: 0.8537\n",
      "Epoch 16/40\n",
      "113/113 [==============================] - 0s 4ms/step - loss: 0.2610 - accuracy: 0.8874 - val_loss: 0.3103 - val_accuracy: 0.8636\n",
      "Epoch 17/40\n",
      "113/113 [==============================] - 0s 4ms/step - loss: 0.2577 - accuracy: 0.8905 - val_loss: 0.3047 - val_accuracy: 0.8614\n",
      "Epoch 18/40\n",
      "113/113 [==============================] - 0s 4ms/step - loss: 0.2537 - accuracy: 0.8913 - val_loss: 0.3034 - val_accuracy: 0.8581\n",
      "Epoch 19/40\n",
      "113/113 [==============================] - 0s 4ms/step - loss: 0.2511 - accuracy: 0.8932 - val_loss: 0.3033 - val_accuracy: 0.8647\n",
      "Epoch 20/40\n",
      "113/113 [==============================] - 0s 4ms/step - loss: 0.2487 - accuracy: 0.8955 - val_loss: 0.3026 - val_accuracy: 0.8625\n",
      "Epoch 21/40\n",
      "113/113 [==============================] - 1s 5ms/step - loss: 0.2462 - accuracy: 0.8952 - val_loss: 0.3022 - val_accuracy: 0.8647\n",
      "Epoch 22/40\n",
      "113/113 [==============================] - 1s 4ms/step - loss: 0.2433 - accuracy: 0.9002 - val_loss: 0.3027 - val_accuracy: 0.8625\n",
      "Epoch 23/40\n",
      "113/113 [==============================] - 1s 4ms/step - loss: 0.2415 - accuracy: 0.8957 - val_loss: 0.3034 - val_accuracy: 0.8570\n",
      "Epoch 24/40\n",
      "113/113 [==============================] - 1s 4ms/step - loss: 0.2390 - accuracy: 0.9002 - val_loss: 0.3019 - val_accuracy: 0.8570\n",
      "Epoch 25/40\n",
      "113/113 [==============================] - 0s 4ms/step - loss: 0.2373 - accuracy: 0.8988 - val_loss: 0.3016 - val_accuracy: 0.8581\n",
      "Epoch 26/40\n",
      "113/113 [==============================] - 0s 4ms/step - loss: 0.2349 - accuracy: 0.9002 - val_loss: 0.3020 - val_accuracy: 0.8659\n",
      "Epoch 27/40\n",
      "113/113 [==============================] - 0s 4ms/step - loss: 0.2340 - accuracy: 0.9004 - val_loss: 0.2995 - val_accuracy: 0.8692\n",
      "Epoch 28/40\n",
      "113/113 [==============================] - 0s 4ms/step - loss: 0.2311 - accuracy: 0.9024 - val_loss: 0.3024 - val_accuracy: 0.8592\n",
      "Epoch 29/40\n",
      "113/113 [==============================] - 0s 3ms/step - loss: 0.2302 - accuracy: 0.9024 - val_loss: 0.3027 - val_accuracy: 0.8636\n",
      "Epoch 30/40\n",
      "113/113 [==============================] - 0s 4ms/step - loss: 0.2284 - accuracy: 0.9038 - val_loss: 0.3018 - val_accuracy: 0.8625\n",
      "Epoch 31/40\n",
      "113/113 [==============================] - 0s 4ms/step - loss: 0.2263 - accuracy: 0.9038 - val_loss: 0.3025 - val_accuracy: 0.8570\n",
      "Epoch 32/40\n",
      "113/113 [==============================] - 1s 5ms/step - loss: 0.2253 - accuracy: 0.9049 - val_loss: 0.3035 - val_accuracy: 0.8625\n",
      "Epoch 33/40\n",
      "113/113 [==============================] - 1s 5ms/step - loss: 0.2243 - accuracy: 0.9054 - val_loss: 0.3025 - val_accuracy: 0.8592\n",
      "Epoch 34/40\n",
      "113/113 [==============================] - 1s 4ms/step - loss: 0.2222 - accuracy: 0.9063 - val_loss: 0.3022 - val_accuracy: 0.8614\n",
      "Epoch 35/40\n",
      "113/113 [==============================] - 0s 4ms/step - loss: 0.2211 - accuracy: 0.9065 - val_loss: 0.3033 - val_accuracy: 0.8559\n",
      "Epoch 36/40\n",
      "113/113 [==============================] - 0s 4ms/step - loss: 0.2194 - accuracy: 0.9054 - val_loss: 0.3008 - val_accuracy: 0.8647\n",
      "Epoch 37/40\n",
      "113/113 [==============================] - 1s 4ms/step - loss: 0.2177 - accuracy: 0.9090 - val_loss: 0.3014 - val_accuracy: 0.8592\n",
      "Epoch 38/40\n",
      "113/113 [==============================] - 0s 4ms/step - loss: 0.2146 - accuracy: 0.9082 - val_loss: 0.3014 - val_accuracy: 0.8603\n",
      "Epoch 39/40\n",
      "113/113 [==============================] - 1s 5ms/step - loss: 0.2153 - accuracy: 0.9096 - val_loss: 0.3006 - val_accuracy: 0.8636\n",
      "Epoch 40/40\n",
      "113/113 [==============================] - 0s 4ms/step - loss: 0.2138 - accuracy: 0.9115 - val_loss: 0.3054 - val_accuracy: 0.8603\n"
     ]
    }
   ],
   "source": [
    "#Creating the model with the best parameters\n",
    "model=Sequential()\n",
    "model.add(Dense(256,activation=\"relu\",input_dim=X_train.shape[1]))\n",
    "model.add(Dense(128,activation=\"relu\"))\n",
    "model.add(Dense(32,activation=\"relu\"))\n",
    "model.add(Dense(1,activation=\"sigmoid\"))\n",
    "model.compile(optimizer=\"sgd\",metrics=\"accuracy\",loss=\"binary_crossentropy\")\n",
    "history=model.fit(X_train,y_train,epochs=40,batch_size=32,validation_split=0.2)"
   ]
  },
  {
   "cell_type": "code",
   "execution_count": 90,
   "id": "6bc93005",
   "metadata": {},
   "outputs": [
    {
     "data": {
      "text/plain": [
       "[0.2520904839038849, 0.8887163400650024]"
      ]
     },
     "execution_count": 90,
     "metadata": {},
     "output_type": "execute_result"
    }
   ],
   "source": [
    "#Evaluating the best model\n",
    "model.evaluate(X_test,y_test,verbose=0)"
   ]
  },
  {
   "cell_type": "code",
   "execution_count": 91,
   "id": "8a96436e",
   "metadata": {},
   "outputs": [
    {
     "data": {
      "image/png": "[encoded data removed]",
      "text/plain": [
       "<Figure size 600x400 with 1 Axes>"
      ]
     },
     "metadata": {},
     "output_type": "display_data"
    }
   ],
   "source": [
    "import matplotlib.pyplot as plt\n",
    "%matplotlib inline\n",
    "plt.figure(figsize=(6,4))\n",
    "plt.plot(history.history[\"accuracy\"]);\n",
    "plt.plot(history.history[\"val_accuracy\"])\n",
    "plt.title(\"Accuracy of model with the set of training and validation\")\n",
    "plt.xlabel(\"Epochs\");\n",
    "plt.ylabel(\"Accuracy\");\n",
    "plt.legend([\"Training\",\"Validation\"],loc=\"lower right\");"
   ]
  },
  {
   "cell_type": "code",
   "execution_count": 92,
   "id": "22c06b7d",
   "metadata": {},
   "outputs": [
    {
     "name": "stdout",
     "output_type": "stream",
     "text": [
      "Classification Report:\n",
      "              precision    recall  f1-score   support\n",
      "\n",
      "           0       0.87      0.89      0.88       877\n",
      "           1       0.90      0.89      0.90      1055\n",
      "\n",
      "    accuracy                           0.89      1932\n",
      "   macro avg       0.89      0.89      0.89      1932\n",
      "weighted avg       0.89      0.89      0.89      1932\n",
      "\n"
     ]
    }
   ],
   "source": [
    "#Evaluating the model using classification_report\n",
    "\n",
    "from sklearn.metrics import classification_report\n",
    "\n",
    "y_pred=model.predict(X_test,verbose=0).round()\n",
    "\n",
    "clas_rep=classification_report(y_test,y_pred)\n",
    "\n",
    "print(\"Classification Report:\")\n",
    "\n",
    "print(clas_rep)"
   ]
  },
  {
   "cell_type": "code",
   "execution_count": 93,
   "id": "e6f10d4b",
   "metadata": {},
   "outputs": [],
   "source": [
    "class estimator:\n",
    "  _estimator_type = ''\n",
    "  classes_=[]\n",
    "  def __init__(self, model, classes):\n",
    "    self.model = model\n",
    "    self._estimator_type = 'classifier'\n",
    "    self.classes_ = classes\n",
    "  def predict(self, X):\n",
    "    y_prob= self.model.predict(X)\n",
    "    y_pred = y_prob.round()\n",
    "    return y_pred\n",
    "\n",
    "classifier = estimator(model,[0,1])"
   ]
  },
  {
   "cell_type": "code",
   "execution_count": 94,
   "id": "42961e04",
   "metadata": {},
   "outputs": [
    {
     "name": "stdout",
     "output_type": "stream",
     "text": [
      "61/61 [==============================] - 0s 2ms/step\n"
     ]
    },
    {
     "data": {
      "image/png": "[encoded data removed]",
      "text/plain": [
       "<Figure size 500x200 with 2 Axes>"
      ]
     },
     "metadata": {},
     "output_type": "display_data"
    }
   ],
   "source": [
    "plot_confusion_matrix(classifier,X_test,y_test);"
   ]
  }
 ],
 "metadata": {
  "kernelspec": {
   "display_name": "Python 3 (ipykernel)",
   "language": "python",
   "name": "python3"
  },
  "language_info": {
   "codemirror_mode": {
    "name": "ipython",
    "version": 3
   },
   "file_extension": ".py",
   "mimetype": "text/x-python",
   "name": "python",
   "nbconvert_exporter": "python",
   "pygments_lexer": "ipython3",
   "version": "3.9.13"
  }
 },
 "nbformat": 4,
 "nbformat_minor": 5
}
