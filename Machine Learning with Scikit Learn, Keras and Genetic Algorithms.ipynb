{
 "cells": [
  {
   "cell_type": "code",
   "execution_count": 1,
   "id": "03aae15a",
   "metadata": {},
   "outputs": [],
   "source": [
    "#Importing the libraries\n",
    "import pandas as pd\n",
    "import matplotlib.pyplot as plt\n",
    "import seaborn as sns\n",
    "import six\n",
    "import sys\n",
    "sys.modules['sklearn.externals.six'] = six\n",
    "import warnings\n",
    "warnings.filterwarnings(action=\"ignore\",category=FutureWarning)"
   ]
  },
  {
   "cell_type": "code",
   "execution_count": 2,
   "id": "f18a8e45",
   "metadata": {},
   "outputs": [],
   "source": [
    "pd.options.display.float_format=\"{:,.2f}\".format"
   ]
  },
  {
   "cell_type": "code",
   "execution_count": 3,
   "id": "6886561a",
   "metadata": {},
   "outputs": [
    {
     "data": {
      "text/html": [
       "<div>\n",
       "<style scoped>\n",
       "    .dataframe tbody tr th:only-of-type {\n",
       "        vertical-align: middle;\n",
       "    }\n",
       "\n",
       "    .dataframe tbody tr th {\n",
       "        vertical-align: top;\n",
       "    }\n",
       "\n",
       "    .dataframe thead th {\n",
       "        text-align: right;\n",
       "    }\n",
       "</style>\n",
       "<table border=\"1\" class=\"dataframe\">\n",
       "  <thead>\n",
       "    <tr style=\"text-align: right;\">\n",
       "      <th></th>\n",
       "      <th>RowNumber</th>\n",
       "      <th>CustomerId</th>\n",
       "      <th>Surname</th>\n",
       "      <th>CreditScore</th>\n",
       "      <th>Geography</th>\n",
       "      <th>Gender</th>\n",
       "      <th>Age</th>\n",
       "      <th>Tenure</th>\n",
       "      <th>Balance</th>\n",
       "      <th>NumOfProducts</th>\n",
       "      <th>HasCrCard</th>\n",
       "      <th>IsActiveMember</th>\n",
       "      <th>EstimatedSalary</th>\n",
       "      <th>Exited</th>\n",
       "    </tr>\n",
       "  </thead>\n",
       "  <tbody>\n",
       "    <tr>\n",
       "      <th>0</th>\n",
       "      <td>1</td>\n",
       "      <td>15634602</td>\n",
       "      <td>Hargrave</td>\n",
       "      <td>619</td>\n",
       "      <td>France</td>\n",
       "      <td>Female</td>\n",
       "      <td>42</td>\n",
       "      <td>2</td>\n",
       "      <td>0.00</td>\n",
       "      <td>1</td>\n",
       "      <td>1</td>\n",
       "      <td>1</td>\n",
       "      <td>101,348.88</td>\n",
       "      <td>1</td>\n",
       "    </tr>\n",
       "    <tr>\n",
       "      <th>1</th>\n",
       "      <td>2</td>\n",
       "      <td>15647311</td>\n",
       "      <td>Hill</td>\n",
       "      <td>608</td>\n",
       "      <td>Spain</td>\n",
       "      <td>Female</td>\n",
       "      <td>41</td>\n",
       "      <td>1</td>\n",
       "      <td>83,807.86</td>\n",
       "      <td>1</td>\n",
       "      <td>0</td>\n",
       "      <td>1</td>\n",
       "      <td>112,542.58</td>\n",
       "      <td>0</td>\n",
       "    </tr>\n",
       "    <tr>\n",
       "      <th>2</th>\n",
       "      <td>3</td>\n",
       "      <td>15619304</td>\n",
       "      <td>Onio</td>\n",
       "      <td>502</td>\n",
       "      <td>France</td>\n",
       "      <td>Female</td>\n",
       "      <td>42</td>\n",
       "      <td>8</td>\n",
       "      <td>159,660.80</td>\n",
       "      <td>3</td>\n",
       "      <td>1</td>\n",
       "      <td>0</td>\n",
       "      <td>113,931.57</td>\n",
       "      <td>1</td>\n",
       "    </tr>\n",
       "    <tr>\n",
       "      <th>3</th>\n",
       "      <td>4</td>\n",
       "      <td>15701354</td>\n",
       "      <td>Boni</td>\n",
       "      <td>699</td>\n",
       "      <td>France</td>\n",
       "      <td>Female</td>\n",
       "      <td>39</td>\n",
       "      <td>1</td>\n",
       "      <td>0.00</td>\n",
       "      <td>2</td>\n",
       "      <td>0</td>\n",
       "      <td>0</td>\n",
       "      <td>93,826.63</td>\n",
       "      <td>0</td>\n",
       "    </tr>\n",
       "    <tr>\n",
       "      <th>4</th>\n",
       "      <td>5</td>\n",
       "      <td>15737888</td>\n",
       "      <td>Mitchell</td>\n",
       "      <td>850</td>\n",
       "      <td>Spain</td>\n",
       "      <td>Female</td>\n",
       "      <td>43</td>\n",
       "      <td>2</td>\n",
       "      <td>125,510.82</td>\n",
       "      <td>1</td>\n",
       "      <td>1</td>\n",
       "      <td>1</td>\n",
       "      <td>79,084.10</td>\n",
       "      <td>0</td>\n",
       "    </tr>\n",
       "  </tbody>\n",
       "</table>\n",
       "</div>"
      ],
      "text/plain": [
       "   RowNumber  CustomerId   Surname  CreditScore Geography  Gender  Age  \\\n",
       "0          1    15634602  Hargrave          619    France  Female   42   \n",
       "1          2    15647311      Hill          608     Spain  Female   41   \n",
       "2          3    15619304      Onio          502    France  Female   42   \n",
       "3          4    15701354      Boni          699    France  Female   39   \n",
       "4          5    15737888  Mitchell          850     Spain  Female   43   \n",
       "\n",
       "   Tenure    Balance  NumOfProducts  HasCrCard  IsActiveMember  \\\n",
       "0       2       0.00              1          1               1   \n",
       "1       1  83,807.86              1          0               1   \n",
       "2       8 159,660.80              3          1               0   \n",
       "3       1       0.00              2          0               0   \n",
       "4       2 125,510.82              1          1               1   \n",
       "\n",
       "   EstimatedSalary  Exited  \n",
       "0       101,348.88       1  \n",
       "1       112,542.58       0  \n",
       "2       113,931.57       1  \n",
       "3        93,826.63       0  \n",
       "4        79,084.10       0  "
      ]
     },
     "execution_count": 3,
     "metadata": {},
     "output_type": "execute_result"
    }
   ],
   "source": [
    "#Loading the dataset\n",
    "df = pd.read_csv(\"data/churn.csv\")\n",
    "df.head()"
   ]
  },
  {
   "cell_type": "code",
   "execution_count": 4,
   "id": "9569a863",
   "metadata": {},
   "outputs": [
    {
     "data": {
      "text/html": [
       "<div>\n",
       "<style scoped>\n",
       "    .dataframe tbody tr th:only-of-type {\n",
       "        vertical-align: middle;\n",
       "    }\n",
       "\n",
       "    .dataframe tbody tr th {\n",
       "        vertical-align: top;\n",
       "    }\n",
       "\n",
       "    .dataframe thead th {\n",
       "        text-align: right;\n",
       "    }\n",
       "</style>\n",
       "<table border=\"1\" class=\"dataframe\">\n",
       "  <thead>\n",
       "    <tr style=\"text-align: right;\">\n",
       "      <th></th>\n",
       "      <th>CreditScore</th>\n",
       "      <th>Geography</th>\n",
       "      <th>Gender</th>\n",
       "      <th>Age</th>\n",
       "      <th>Tenure</th>\n",
       "      <th>Balance</th>\n",
       "      <th>NumOfProducts</th>\n",
       "      <th>HasCrCard</th>\n",
       "      <th>IsActiveMember</th>\n",
       "      <th>EstimatedSalary</th>\n",
       "      <th>Exited</th>\n",
       "    </tr>\n",
       "  </thead>\n",
       "  <tbody>\n",
       "    <tr>\n",
       "      <th>0</th>\n",
       "      <td>619</td>\n",
       "      <td>France</td>\n",
       "      <td>Female</td>\n",
       "      <td>42</td>\n",
       "      <td>2</td>\n",
       "      <td>0.00</td>\n",
       "      <td>1</td>\n",
       "      <td>1</td>\n",
       "      <td>1</td>\n",
       "      <td>101,348.88</td>\n",
       "      <td>1</td>\n",
       "    </tr>\n",
       "    <tr>\n",
       "      <th>1</th>\n",
       "      <td>608</td>\n",
       "      <td>Spain</td>\n",
       "      <td>Female</td>\n",
       "      <td>41</td>\n",
       "      <td>1</td>\n",
       "      <td>83,807.86</td>\n",
       "      <td>1</td>\n",
       "      <td>0</td>\n",
       "      <td>1</td>\n",
       "      <td>112,542.58</td>\n",
       "      <td>0</td>\n",
       "    </tr>\n",
       "    <tr>\n",
       "      <th>2</th>\n",
       "      <td>502</td>\n",
       "      <td>France</td>\n",
       "      <td>Female</td>\n",
       "      <td>42</td>\n",
       "      <td>8</td>\n",
       "      <td>159,660.80</td>\n",
       "      <td>3</td>\n",
       "      <td>1</td>\n",
       "      <td>0</td>\n",
       "      <td>113,931.57</td>\n",
       "      <td>1</td>\n",
       "    </tr>\n",
       "    <tr>\n",
       "      <th>3</th>\n",
       "      <td>699</td>\n",
       "      <td>France</td>\n",
       "      <td>Female</td>\n",
       "      <td>39</td>\n",
       "      <td>1</td>\n",
       "      <td>0.00</td>\n",
       "      <td>2</td>\n",
       "      <td>0</td>\n",
       "      <td>0</td>\n",
       "      <td>93,826.63</td>\n",
       "      <td>0</td>\n",
       "    </tr>\n",
       "    <tr>\n",
       "      <th>4</th>\n",
       "      <td>850</td>\n",
       "      <td>Spain</td>\n",
       "      <td>Female</td>\n",
       "      <td>43</td>\n",
       "      <td>2</td>\n",
       "      <td>125,510.82</td>\n",
       "      <td>1</td>\n",
       "      <td>1</td>\n",
       "      <td>1</td>\n",
       "      <td>79,084.10</td>\n",
       "      <td>0</td>\n",
       "    </tr>\n",
       "  </tbody>\n",
       "</table>\n",
       "</div>"
      ],
      "text/plain": [
       "   CreditScore Geography  Gender  Age  Tenure    Balance  NumOfProducts  \\\n",
       "0          619    France  Female   42       2       0.00              1   \n",
       "1          608     Spain  Female   41       1  83,807.86              1   \n",
       "2          502    France  Female   42       8 159,660.80              3   \n",
       "3          699    France  Female   39       1       0.00              2   \n",
       "4          850     Spain  Female   43       2 125,510.82              1   \n",
       "\n",
       "   HasCrCard  IsActiveMember  EstimatedSalary  Exited  \n",
       "0          1               1       101,348.88       1  \n",
       "1          0               1       112,542.58       0  \n",
       "2          1               0       113,931.57       1  \n",
       "3          0               0        93,826.63       0  \n",
       "4          1               1        79,084.10       0  "
      ]
     },
     "execution_count": 4,
     "metadata": {},
     "output_type": "execute_result"
    }
   ],
   "source": [
    "#Dropping the columns that do not add value\n",
    "df = df.drop(df.columns[0:3], axis=1)\n",
    "df.head()"
   ]
  },
  {
   "cell_type": "code",
   "execution_count": 5,
   "id": "4f21b133",
   "metadata": {},
   "outputs": [
    {
     "data": {
      "text/plain": [
       "(10000, 11)"
      ]
     },
     "execution_count": 5,
     "metadata": {},
     "output_type": "execute_result"
    }
   ],
   "source": [
    "df.shape"
   ]
  },
  {
   "cell_type": "code",
   "execution_count": 6,
   "id": "2886d5c4",
   "metadata": {},
   "outputs": [
    {
     "name": "stdout",
     "output_type": "stream",
     "text": [
      "<class 'pandas.core.frame.DataFrame'>\n",
      "RangeIndex: 10000 entries, 0 to 9999\n",
      "Data columns (total 11 columns):\n",
      " #   Column           Non-Null Count  Dtype  \n",
      "---  ------           --------------  -----  \n",
      " 0   CreditScore      10000 non-null  int64  \n",
      " 1   Geography        10000 non-null  object \n",
      " 2   Gender           10000 non-null  object \n",
      " 3   Age              10000 non-null  int64  \n",
      " 4   Tenure           10000 non-null  int64  \n",
      " 5   Balance          10000 non-null  float64\n",
      " 6   NumOfProducts    10000 non-null  int64  \n",
      " 7   HasCrCard        10000 non-null  int64  \n",
      " 8   IsActiveMember   10000 non-null  int64  \n",
      " 9   EstimatedSalary  10000 non-null  float64\n",
      " 10  Exited           10000 non-null  int64  \n",
      "dtypes: float64(2), int64(7), object(2)\n",
      "memory usage: 859.5+ KB\n"
     ]
    }
   ],
   "source": [
    "df.info()"
   ]
  },
  {
   "cell_type": "code",
   "execution_count": 7,
   "id": "784f67b0",
   "metadata": {},
   "outputs": [
    {
     "name": "stdout",
     "output_type": "stream",
     "text": [
      "The feature Geography contains 3  distinct values \n",
      "The feature Gender contains 2  distinct values \n"
     ]
    }
   ],
   "source": [
    "#Finding the categorical features and the amount of different values the have\n",
    "\n",
    "categorical=df.select_dtypes(include=\"object\").columns\n",
    "\n",
    "for line in categorical:\n",
    "    print(\"The feature \" + line + \" contains\" ,  str(len(df[line].unique())) ,\" distinct values \")"
   ]
  },
  {
   "cell_type": "code",
   "execution_count": 8,
   "id": "5db1f354",
   "metadata": {},
   "outputs": [
    {
     "data": {
      "image/png": "[encoded data removed]",
      "text/plain": [
       "<Figure size 1200x400 with 2 Axes>"
      ]
     },
     "metadata": {},
     "output_type": "display_data"
    }
   ],
   "source": [
    "#Analyzing the distributions of the categorical features\n",
    "\n",
    "f,axes=plt.subplots(1,2,figsize=(12,4))\n",
    "\n",
    "sns.countplot(df[\"Gender\"],ax=axes[0]);\n",
    "sns.countplot(df['Geography'],ax=axes[1]);"
   ]
  },
  {
   "cell_type": "code",
   "execution_count": 9,
   "id": "afc05906",
   "metadata": {},
   "outputs": [],
   "source": [
    "#Creating new features with the help of get_dummies\n",
    "\n",
    "for column in categorical:\n",
    "    nuevas_features = pd.get_dummies(df[column])\n",
    "    df= pd.merge(\n",
    "        left=df,\n",
    "        right=nuevas_features,\n",
    "        left_index=True,\n",
    "        right_index=True,\n",
    "    )\n",
    "    df = df.drop(columns=column)"
   ]
  },
  {
   "cell_type": "code",
   "execution_count": 10,
   "id": "7e17c47c",
   "metadata": {},
   "outputs": [
    {
     "data": {
      "text/html": [
       "<div>\n",
       "<style scoped>\n",
       "    .dataframe tbody tr th:only-of-type {\n",
       "        vertical-align: middle;\n",
       "    }\n",
       "\n",
       "    .dataframe tbody tr th {\n",
       "        vertical-align: top;\n",
       "    }\n",
       "\n",
       "    .dataframe thead th {\n",
       "        text-align: right;\n",
       "    }\n",
       "</style>\n",
       "<table border=\"1\" class=\"dataframe\">\n",
       "  <thead>\n",
       "    <tr style=\"text-align: right;\">\n",
       "      <th></th>\n",
       "      <th>CreditScore</th>\n",
       "      <th>Age</th>\n",
       "      <th>Tenure</th>\n",
       "      <th>Balance</th>\n",
       "      <th>NumOfProducts</th>\n",
       "      <th>HasCrCard</th>\n",
       "      <th>IsActiveMember</th>\n",
       "      <th>EstimatedSalary</th>\n",
       "      <th>Exited</th>\n",
       "      <th>France</th>\n",
       "      <th>Germany</th>\n",
       "      <th>Spain</th>\n",
       "      <th>Female</th>\n",
       "      <th>Male</th>\n",
       "    </tr>\n",
       "  </thead>\n",
       "  <tbody>\n",
       "    <tr>\n",
       "      <th>0</th>\n",
       "      <td>619</td>\n",
       "      <td>42</td>\n",
       "      <td>2</td>\n",
       "      <td>0.00</td>\n",
       "      <td>1</td>\n",
       "      <td>1</td>\n",
       "      <td>1</td>\n",
       "      <td>101,348.88</td>\n",
       "      <td>1</td>\n",
       "      <td>1</td>\n",
       "      <td>0</td>\n",
       "      <td>0</td>\n",
       "      <td>1</td>\n",
       "      <td>0</td>\n",
       "    </tr>\n",
       "    <tr>\n",
       "      <th>1</th>\n",
       "      <td>608</td>\n",
       "      <td>41</td>\n",
       "      <td>1</td>\n",
       "      <td>83,807.86</td>\n",
       "      <td>1</td>\n",
       "      <td>0</td>\n",
       "      <td>1</td>\n",
       "      <td>112,542.58</td>\n",
       "      <td>0</td>\n",
       "      <td>0</td>\n",
       "      <td>0</td>\n",
       "      <td>1</td>\n",
       "      <td>1</td>\n",
       "      <td>0</td>\n",
       "    </tr>\n",
       "    <tr>\n",
       "      <th>2</th>\n",
       "      <td>502</td>\n",
       "      <td>42</td>\n",
       "      <td>8</td>\n",
       "      <td>159,660.80</td>\n",
       "      <td>3</td>\n",
       "      <td>1</td>\n",
       "      <td>0</td>\n",
       "      <td>113,931.57</td>\n",
       "      <td>1</td>\n",
       "      <td>1</td>\n",
       "      <td>0</td>\n",
       "      <td>0</td>\n",
       "      <td>1</td>\n",
       "      <td>0</td>\n",
       "    </tr>\n",
       "    <tr>\n",
       "      <th>3</th>\n",
       "      <td>699</td>\n",
       "      <td>39</td>\n",
       "      <td>1</td>\n",
       "      <td>0.00</td>\n",
       "      <td>2</td>\n",
       "      <td>0</td>\n",
       "      <td>0</td>\n",
       "      <td>93,826.63</td>\n",
       "      <td>0</td>\n",
       "      <td>1</td>\n",
       "      <td>0</td>\n",
       "      <td>0</td>\n",
       "      <td>1</td>\n",
       "      <td>0</td>\n",
       "    </tr>\n",
       "    <tr>\n",
       "      <th>4</th>\n",
       "      <td>850</td>\n",
       "      <td>43</td>\n",
       "      <td>2</td>\n",
       "      <td>125,510.82</td>\n",
       "      <td>1</td>\n",
       "      <td>1</td>\n",
       "      <td>1</td>\n",
       "      <td>79,084.10</td>\n",
       "      <td>0</td>\n",
       "      <td>0</td>\n",
       "      <td>0</td>\n",
       "      <td>1</td>\n",
       "      <td>1</td>\n",
       "      <td>0</td>\n",
       "    </tr>\n",
       "  </tbody>\n",
       "</table>\n",
       "</div>"
      ],
      "text/plain": [
       "   CreditScore  Age  Tenure    Balance  NumOfProducts  HasCrCard  \\\n",
       "0          619   42       2       0.00              1          1   \n",
       "1          608   41       1  83,807.86              1          0   \n",
       "2          502   42       8 159,660.80              3          1   \n",
       "3          699   39       1       0.00              2          0   \n",
       "4          850   43       2 125,510.82              1          1   \n",
       "\n",
       "   IsActiveMember  EstimatedSalary  Exited  France  Germany  Spain  Female  \\\n",
       "0               1       101,348.88       1       1        0      0       1   \n",
       "1               1       112,542.58       0       0        0      1       1   \n",
       "2               0       113,931.57       1       1        0      0       1   \n",
       "3               0        93,826.63       0       1        0      0       1   \n",
       "4               1        79,084.10       0       0        0      1       1   \n",
       "\n",
       "   Male  \n",
       "0     0  \n",
       "1     0  \n",
       "2     0  \n",
       "3     0  \n",
       "4     0  "
      ]
     },
     "execution_count": 10,
     "metadata": {},
     "output_type": "execute_result"
    }
   ],
   "source": [
    "df.head()"
   ]
  },
  {
   "cell_type": "code",
   "execution_count": 11,
   "id": "9318997b",
   "metadata": {},
   "outputs": [],
   "source": [
    "#Defining X and y\n",
    "X=df.drop(columns=[\"Exited\"])\n",
    "y=df[[\"Exited\"]]"
   ]
  },
  {
   "cell_type": "code",
   "execution_count": 12,
   "id": "a171126c",
   "metadata": {},
   "outputs": [
    {
     "data": {
      "text/plain": [
       "Exited\n",
       "0        79.63\n",
       "1        20.37\n",
       "dtype: float64"
      ]
     },
     "execution_count": 12,
     "metadata": {},
     "output_type": "execute_result"
    }
   ],
   "source": [
    "#Finding the percentage of each class\n",
    "(y.value_counts()/y.shape[0])*100"
   ]
  },
  {
   "cell_type": "code",
   "execution_count": 13,
   "id": "3b9dfd0b",
   "metadata": {},
   "outputs": [
    {
     "data": {
      "image/png": "[encoded data removed]",
      "text/plain": [
       "<Figure size 640x480 with 1 Axes>"
      ]
     },
     "metadata": {},
     "output_type": "display_data"
    }
   ],
   "source": [
    "sns.countplot(data=df,x=\"Exited\");"
   ]
  },
  {
   "cell_type": "code",
   "execution_count": 14,
   "id": "a76d4f60",
   "metadata": {},
   "outputs": [
    {
     "data": {
      "text/plain": [
       "Exited\n",
       "1        54.65\n",
       "0        45.35\n",
       "dtype: float64"
      ]
     },
     "execution_count": 14,
     "metadata": {},
     "output_type": "execute_result"
    }
   ],
   "source": [
    "#Managing the imbalanced classes with imblearn\n",
    "\n",
    "from imblearn.combine import SMOTEENN\n",
    "\n",
    "imp=SMOTEENN(sampling_strategy=0.99)\n",
    "\n",
    "X_bal,y_bal=imp.fit_resample(X,y)\n",
    "\n",
    "#Finding out if the imbalaced data continues\n",
    "\n",
    "y_bal.value_counts(normalize=True)*100"
   ]
  },
  {
   "cell_type": "code",
   "execution_count": 15,
   "id": "22fdf23d",
   "metadata": {},
   "outputs": [],
   "source": [
    "#Saving the new data in order to save time in the future analysis\n",
    "\n",
    "new_data=pd.concat([X_bal,y_bal],axis=1)\n",
    "\n",
    "new_data.to_csv(\"new_data_churn_lab_platzi.csv\",index=False)"
   ]
  },
  {
   "cell_type": "code",
   "execution_count": 16,
   "id": "c65abd84",
   "metadata": {},
   "outputs": [],
   "source": [
    "#Splitting the data in train and test\n",
    "\n",
    "from sklearn.model_selection import train_test_split\n",
    "\n",
    "X_train,X_test,y_train,y_test=train_test_split(X_bal,y_bal,test_size=0.3, stratify=y_bal ,random_state=42)"
   ]
  },
  {
   "cell_type": "code",
   "execution_count": 17,
   "id": "313faf81",
   "metadata": {},
   "outputs": [],
   "source": [
    "#Standardization the data\n",
    "\n",
    "from sklearn.preprocessing import StandardScaler\n",
    "\n",
    "scaler_x=StandardScaler()\n",
    "\n",
    "scaler_x.fit(X_train)\n",
    "\n",
    "X_train=pd.DataFrame(scaler_x.transform(X_train),columns=X_train.columns)\n",
    "\n",
    "X_test=pd.DataFrame(scaler_x.transform(X_test),columns=X_test.columns)"
   ]
  },
  {
   "cell_type": "code",
   "execution_count": 18,
   "id": "8b101b60",
   "metadata": {},
   "outputs": [],
   "source": [
    "#EVALUATING DIFFERENT MACHINE LEARNING MODELS\n",
    "\n",
    "#Importing the libraries\n",
    "from sklearn.preprocessing import StandardScaler\n",
    "from sklearn.model_selection import KFold,cross_val_score\n",
    "from sklearn.linear_model import LogisticRegression\n",
    "from sklearn.discriminant_analysis import LinearDiscriminantAnalysis\n",
    "from sklearn.naive_bayes import GaussianNB\n",
    "from sklearn.svm import SVC\n",
    "from sklearn.neighbors import KNeighborsClassifier\n",
    "from sklearn.tree import DecisionTreeClassifier\n",
    "\n",
    "#Ensemble\n",
    "from xgboost import XGBClassifier\n",
    "from catboost import CatBoostClassifier\n",
    "from lightgbm import LGBMClassifier\n",
    "from sklearn.ensemble import RandomForestClassifier,BaggingClassifier,ExtraTreesClassifier,AdaBoostClassifier,GradientBoostingClassifier\n",
    "from sklearn.ensemble import StackingClassifier,VotingClassifier\n",
    "from mlxtend import classifier\n",
    "\n",
    "#Estimators for voting\n",
    "estimators_voting=[(\"lr\",LogisticRegression(solver=\"lbfgs\",max_iter=10000)),(\"knn\",KNeighborsClassifier(5)),(\"rfc\",RandomForestClassifier())]\n",
    "\n",
    "#Estimators for stacking\n",
    "# Prepare the list of tuples with the first-layer classifiers\n",
    "classifiers = [('clf_dt',DecisionTreeClassifier(min_samples_leaf= 3 , min_samples_split= 9, random_state=500)),('clf_knn',KNeighborsClassifier(n_neighbors=5,algorithm= 'ball_tree'))]\n",
    "# Instantiate the second-layer meta estimator\n",
    "clf_meta = RandomForestClassifier(n_estimators=10,random_state=69)\n",
    "\n",
    "#Estimators for MLxtend\n",
    "# Instantiate the first-layer classifiers\n",
    "clf_dt = DecisionTreeClassifier(min_samples_leaf = 3 , min_samples_split = 9, random_state=500)\n",
    "clf_knn = KNeighborsClassifier(n_neighbors=5,algorithm= 'ball_tree')\n",
    "\n",
    "# Instantiate the second-layer meta classifier\n",
    "clf_meta_mlx = LogisticRegression()\n"
   ]
  },
  {
   "cell_type": "code",
   "execution_count": 19,
   "id": "bb1ac4d6",
   "metadata": {},
   "outputs": [
    {
     "name": "stdout",
     "output_type": "stream",
     "text": [
      "Logistic Regression :84.18% (1.83%)\n",
      "LDA :83.83% (1.74%)\n",
      "Naive Bayes :80.74% (1.91%)\n",
      "SVM :87.62% (1.38%)\n",
      "KNN :85.55% (1.44%)\n",
      "Decision Tree :84.12% (2.34%)\n",
      "XGB Classifier :89.95% (0.68%)\n",
      "Cat Boost Classifier :87.38% (1.60%)\n",
      "LGBM Classifier :83.94% (1.42%)\n",
      "Random Forest :89.08% (0.90%)\n",
      "Bagging Class :87.36% (1.87%)\n",
      "Extra trees :89.14% (1.06%)\n",
      "Ada Boost :87.64% (1.17%)\n",
      "Gradient Boosting :88.84% (1.13%)\n",
      "Voting Classifier :87.99% (1.85%)\n",
      "Average Voting Classifier :88.08% (1.36%)\n",
      "Stacking Classifier :86.69% (1.77%)\n",
      "MLXTend Classifier :85.05% (1.50%)\n"
     ]
    }
   ],
   "source": [
    "#Preparing the models\n",
    "models=[]\n",
    "models.append((\"Logistic Regression\",LogisticRegression(solver=\"lbfgs\",max_iter=10000)))\n",
    "models.append((\"LDA\",LinearDiscriminantAnalysis()))\n",
    "models.append((\"Naive Bayes\",GaussianNB()))\n",
    "models.append((\"SVM\",SVC()))\n",
    "models.append((\"KNN\",KNeighborsClassifier()))\n",
    "models.append((\"Decision Tree\",DecisionTreeClassifier()))\n",
    "models.append((\"XGB Classifier\",XGBClassifier(objective=\"binary:logistic\")))\n",
    "models.append((\"Cat Boost Classifier\",CatBoostClassifier(n_estimators =100,learning_rate=0.1, max_depth=3, random_state=500,verbose=0)))\n",
    "models.append((\"LGBM Classifier\",LGBMClassifier(max_depth = 3, learning_rate = 0.1, n_estimators = 10, objective='binary', seed=500,verbose=0,force_row_wise=True)))\n",
    "models.append((\"Random Forest\",RandomForestClassifier()))\n",
    "models.append((\"Bagging Class\",BaggingClassifier()))\n",
    "models.append((\"Extra trees\",ExtraTreesClassifier()))\n",
    "models.append((\"Ada Boost\",AdaBoostClassifier()))\n",
    "models.append((\"Gradient Boosting\",GradientBoostingClassifier()))\n",
    "models.append((\"Voting Classifier\",VotingClassifier(estimators_voting)))\n",
    "models.append((\"Average Voting Classifier\",VotingClassifier(estimators_voting,voting=\"soft\")))\n",
    "models.append((\"Stacking Classifier\",StackingClassifier(classifiers,clf_meta,stack_method='predict_proba',passthrough = False)))\n",
    "models.append((\"MLXTend Classifier\",classifier.StackingClassifier([clf_dt,clf_knn],clf_meta_mlx,use_probas=True,use_features_in_secondary = False)))\n",
    "\n",
    "#Evaluating each model in turn\n",
    "results=[]\n",
    "names=[]\n",
    "scoring=\"accuracy\"\n",
    "scaler=StandardScaler()\n",
    "\n",
    "for name, model in models:\n",
    "  kfold=KFold(n_splits=10,shuffle=True)\n",
    "  cv_results=cross_val_score(model,X_train,y_train.values.reshape(-1,1).ravel(),cv=kfold,scoring=scoring)\n",
    "  results.append(cv_results)\n",
    "  names.append(name)\n",
    "  print(f\"{name} :{cv_results.mean()*100:,.2f}% ({cv_results.std()*100:.2f}%)\")"
   ]
  },
  {
   "cell_type": "code",
   "execution_count": 20,
   "id": "1a6adf31",
   "metadata": {},
   "outputs": [
    {
     "data": {
      "image/png": "[encoded data removed]",
      "text/plain": [
       "<Figure size 640x480 with 1 Axes>"
      ]
     },
     "metadata": {},
     "output_type": "display_data"
    }
   ],
   "source": [
    "import matplotlib.pyplot as plt\n",
    "fig=plt.figure()\n",
    "fig.suptitle(\"Comparison of the different Algorithms\")\n",
    "ax=fig.add_subplot(111)\n",
    "plt.rcParams[\"figure.figsize\"]=[6,10]\n",
    "plt.boxplot(results)\n",
    "ax.set_xticklabels(names,rotation=\"vertical\")\n",
    "plt.show()"
   ]
  },
  {
   "cell_type": "code",
   "execution_count": 21,
   "id": "d59f809a",
   "metadata": {},
   "outputs": [
    {
     "name": "stdout",
     "output_type": "stream",
     "text": [
      "Best : 0.892299 using the params {'max_depth': 9, 'n_estimators': 18}\n",
      "0.832466 (0.008745) with {'max_depth': 2, 'n_estimators': 5}\n",
      "0.841170 (0.014184) with {'max_depth': 2, 'n_estimators': 6}\n",
      "0.845087 (0.013266) with {'max_depth': 2, 'n_estimators': 7}\n",
      "0.845955 (0.009367) with {'max_depth': 2, 'n_estimators': 8}\n",
      "0.856398 (0.005728) with {'max_depth': 2, 'n_estimators': 9}\n",
      "0.853787 (0.007404) with {'max_depth': 2, 'n_estimators': 10}\n",
      "0.850961 (0.012209) with {'max_depth': 2, 'n_estimators': 11}\n",
      "0.854875 (0.012405) with {'max_depth': 2, 'n_estimators': 12}\n",
      "0.856616 (0.010519) with {'max_depth': 2, 'n_estimators': 13}\n",
      "0.860967 (0.010945) with {'max_depth': 2, 'n_estimators': 14}\n",
      "0.860532 (0.011653) with {'max_depth': 2, 'n_estimators': 15}\n",
      "0.862273 (0.009432) with {'max_depth': 2, 'n_estimators': 16}\n",
      "0.862054 (0.008657) with {'max_depth': 2, 'n_estimators': 17}\n",
      "0.864448 (0.010890) with {'max_depth': 2, 'n_estimators': 18}\n",
      "0.864447 (0.009969) with {'max_depth': 2, 'n_estimators': 19}\n",
      "0.847259 (0.011165) with {'max_depth': 3, 'n_estimators': 5}\n",
      "0.851829 (0.014235) with {'max_depth': 3, 'n_estimators': 6}\n",
      "0.856397 (0.016106) with {'max_depth': 3, 'n_estimators': 7}\n",
      "0.859879 (0.015465) with {'max_depth': 3, 'n_estimators': 8}\n",
      "0.859661 (0.018018) with {'max_depth': 3, 'n_estimators': 9}\n",
      "0.861402 (0.018390) with {'max_depth': 3, 'n_estimators': 10}\n",
      "0.866407 (0.014301) with {'max_depth': 3, 'n_estimators': 11}\n",
      "0.867494 (0.014158) with {'max_depth': 3, 'n_estimators': 12}\n",
      "0.868364 (0.016629) with {'max_depth': 3, 'n_estimators': 13}\n",
      "0.869888 (0.015601) with {'max_depth': 3, 'n_estimators': 14}\n",
      "0.870758 (0.013966) with {'max_depth': 3, 'n_estimators': 15}\n",
      "0.868800 (0.014337) with {'max_depth': 3, 'n_estimators': 16}\n",
      "0.868582 (0.013536) with {'max_depth': 3, 'n_estimators': 17}\n",
      "0.869452 (0.012265) with {'max_depth': 3, 'n_estimators': 18}\n",
      "0.870323 (0.013162) with {'max_depth': 3, 'n_estimators': 19}\n",
      "0.853570 (0.013406) with {'max_depth': 4, 'n_estimators': 5}\n",
      "0.856831 (0.012161) with {'max_depth': 4, 'n_estimators': 6}\n",
      "0.862708 (0.015307) with {'max_depth': 4, 'n_estimators': 7}\n",
      "0.868146 (0.014325) with {'max_depth': 4, 'n_estimators': 8}\n",
      "0.866623 (0.015895) with {'max_depth': 4, 'n_estimators': 9}\n",
      "0.868581 (0.014463) with {'max_depth': 4, 'n_estimators': 10}\n",
      "0.869016 (0.012326) with {'max_depth': 4, 'n_estimators': 11}\n",
      "0.872062 (0.014132) with {'max_depth': 4, 'n_estimators': 12}\n",
      "0.873367 (0.013850) with {'max_depth': 4, 'n_estimators': 13}\n",
      "0.873586 (0.015080) with {'max_depth': 4, 'n_estimators': 14}\n",
      "0.874891 (0.015031) with {'max_depth': 4, 'n_estimators': 15}\n",
      "0.874673 (0.015489) with {'max_depth': 4, 'n_estimators': 16}\n",
      "0.875979 (0.015158) with {'max_depth': 4, 'n_estimators': 17}\n",
      "0.878154 (0.015669) with {'max_depth': 4, 'n_estimators': 18}\n",
      "0.879460 (0.015502) with {'max_depth': 4, 'n_estimators': 19}\n",
      "0.860533 (0.018328) with {'max_depth': 5, 'n_estimators': 5}\n",
      "0.866188 (0.017174) with {'max_depth': 5, 'n_estimators': 6}\n",
      "0.870757 (0.016863) with {'max_depth': 5, 'n_estimators': 7}\n",
      "0.872716 (0.018928) with {'max_depth': 5, 'n_estimators': 8}\n",
      "0.875763 (0.016810) with {'max_depth': 5, 'n_estimators': 9}\n",
      "0.877069 (0.014953) with {'max_depth': 5, 'n_estimators': 10}\n",
      "0.878374 (0.014015) with {'max_depth': 5, 'n_estimators': 11}\n",
      "0.881420 (0.016308) with {'max_depth': 5, 'n_estimators': 12}\n",
      "0.879679 (0.017425) with {'max_depth': 5, 'n_estimators': 13}\n",
      "0.880549 (0.014487) with {'max_depth': 5, 'n_estimators': 14}\n",
      "0.882071 (0.014545) with {'max_depth': 5, 'n_estimators': 15}\n",
      "0.881636 (0.015922) with {'max_depth': 5, 'n_estimators': 16}\n",
      "0.882942 (0.015623) with {'max_depth': 5, 'n_estimators': 17}\n",
      "0.884030 (0.015065) with {'max_depth': 5, 'n_estimators': 18}\n",
      "0.885553 (0.014604) with {'max_depth': 5, 'n_estimators': 19}\n",
      "0.868584 (0.014808) with {'max_depth': 6, 'n_estimators': 5}\n",
      "0.871413 (0.014913) with {'max_depth': 6, 'n_estimators': 6}\n",
      "0.875112 (0.015530) with {'max_depth': 6, 'n_estimators': 7}\n",
      "0.875983 (0.014839) with {'max_depth': 6, 'n_estimators': 8}\n",
      "0.877723 (0.014738) with {'max_depth': 6, 'n_estimators': 9}\n",
      "0.879680 (0.013580) with {'max_depth': 6, 'n_estimators': 10}\n",
      "0.882289 (0.011924) with {'max_depth': 6, 'n_estimators': 11}\n",
      "0.883160 (0.015019) with {'max_depth': 6, 'n_estimators': 12}\n",
      "0.886641 (0.012444) with {'max_depth': 6, 'n_estimators': 13}\n",
      "0.887947 (0.011806) with {'max_depth': 6, 'n_estimators': 14}\n",
      "0.887730 (0.011383) with {'max_depth': 6, 'n_estimators': 15}\n",
      "0.886424 (0.012000) with {'max_depth': 6, 'n_estimators': 16}\n",
      "0.886860 (0.013506) with {'max_depth': 6, 'n_estimators': 17}\n",
      "0.886207 (0.014266) with {'max_depth': 6, 'n_estimators': 18}\n",
      "0.889035 (0.012814) with {'max_depth': 6, 'n_estimators': 19}\n",
      "0.873588 (0.016359) with {'max_depth': 7, 'n_estimators': 5}\n",
      "0.873151 (0.014666) with {'max_depth': 7, 'n_estimators': 6}\n",
      "0.876634 (0.013330) with {'max_depth': 7, 'n_estimators': 7}\n",
      "0.877071 (0.015295) with {'max_depth': 7, 'n_estimators': 8}\n",
      "0.879246 (0.012937) with {'max_depth': 7, 'n_estimators': 9}\n",
      "0.881639 (0.014168) with {'max_depth': 7, 'n_estimators': 10}\n",
      "0.881203 (0.014717) with {'max_depth': 7, 'n_estimators': 11}\n",
      "0.884902 (0.012732) with {'max_depth': 7, 'n_estimators': 12}\n",
      "0.885773 (0.010935) with {'max_depth': 7, 'n_estimators': 13}\n",
      "0.888384 (0.011907) with {'max_depth': 7, 'n_estimators': 14}\n",
      "0.889254 (0.013631) with {'max_depth': 7, 'n_estimators': 15}\n",
      "0.888818 (0.012678) with {'max_depth': 7, 'n_estimators': 16}\n",
      "0.888818 (0.012771) with {'max_depth': 7, 'n_estimators': 17}\n",
      "0.889470 (0.010527) with {'max_depth': 7, 'n_estimators': 18}\n",
      "0.889035 (0.011746) with {'max_depth': 7, 'n_estimators': 19}\n",
      "0.870976 (0.014659) with {'max_depth': 8, 'n_estimators': 5}\n",
      "0.875327 (0.016290) with {'max_depth': 8, 'n_estimators': 6}\n",
      "0.876850 (0.014352) with {'max_depth': 8, 'n_estimators': 7}\n",
      "0.879679 (0.013330) with {'max_depth': 8, 'n_estimators': 8}\n",
      "0.880331 (0.014561) with {'max_depth': 8, 'n_estimators': 9}\n",
      "0.885989 (0.013500) with {'max_depth': 8, 'n_estimators': 10}\n",
      "0.887078 (0.014360) with {'max_depth': 8, 'n_estimators': 11}\n",
      "0.885553 (0.010371) with {'max_depth': 8, 'n_estimators': 12}\n",
      "0.888817 (0.011336) with {'max_depth': 8, 'n_estimators': 13}\n",
      "0.888599 (0.011317) with {'max_depth': 8, 'n_estimators': 14}\n",
      "0.889253 (0.012828) with {'max_depth': 8, 'n_estimators': 15}\n",
      "0.890993 (0.011224) with {'max_depth': 8, 'n_estimators': 16}\n",
      "0.891211 (0.011186) with {'max_depth': 8, 'n_estimators': 17}\n",
      "0.888819 (0.012274) with {'max_depth': 8, 'n_estimators': 18}\n",
      "0.889036 (0.012193) with {'max_depth': 8, 'n_estimators': 19}\n",
      "0.869671 (0.015589) with {'max_depth': 9, 'n_estimators': 5}\n",
      "0.874024 (0.015570) with {'max_depth': 9, 'n_estimators': 6}\n",
      "0.875330 (0.015674) with {'max_depth': 9, 'n_estimators': 7}\n",
      "0.879680 (0.016569) with {'max_depth': 9, 'n_estimators': 8}\n",
      "0.879898 (0.015744) with {'max_depth': 9, 'n_estimators': 9}\n",
      "0.882725 (0.013287) with {'max_depth': 9, 'n_estimators': 10}\n",
      "0.886207 (0.012349) with {'max_depth': 9, 'n_estimators': 11}\n",
      "0.886424 (0.014535) with {'max_depth': 9, 'n_estimators': 12}\n",
      "0.887730 (0.013860) with {'max_depth': 9, 'n_estimators': 13}\n",
      "0.889688 (0.013518) with {'max_depth': 9, 'n_estimators': 14}\n",
      "0.889471 (0.013233) with {'max_depth': 9, 'n_estimators': 15}\n",
      "0.892299 (0.013266) with {'max_depth': 9, 'n_estimators': 16}\n",
      "0.892081 (0.014450) with {'max_depth': 9, 'n_estimators': 17}\n",
      "0.892299 (0.014143) with {'max_depth': 9, 'n_estimators': 18}\n",
      "0.892298 (0.013410) with {'max_depth': 9, 'n_estimators': 19}\n",
      "0.866626 (0.018436) with {'max_depth': 10, 'n_estimators': 5}\n",
      "0.869455 (0.018534) with {'max_depth': 10, 'n_estimators': 6}\n",
      "0.872065 (0.014970) with {'max_depth': 10, 'n_estimators': 7}\n",
      "0.874894 (0.014683) with {'max_depth': 10, 'n_estimators': 8}\n",
      "0.874024 (0.014431) with {'max_depth': 10, 'n_estimators': 9}\n",
      "0.876852 (0.012482) with {'max_depth': 10, 'n_estimators': 10}\n",
      "0.878811 (0.013180) with {'max_depth': 10, 'n_estimators': 11}\n",
      "0.880986 (0.012252) with {'max_depth': 10, 'n_estimators': 12}\n",
      "0.881857 (0.011329) with {'max_depth': 10, 'n_estimators': 13}\n",
      "0.884032 (0.011560) with {'max_depth': 10, 'n_estimators': 14}\n",
      "0.884468 (0.012270) with {'max_depth': 10, 'n_estimators': 15}\n",
      "0.884467 (0.012483) with {'max_depth': 10, 'n_estimators': 16}\n",
      "0.885555 (0.013292) with {'max_depth': 10, 'n_estimators': 17}\n",
      "0.885555 (0.012707) with {'max_depth': 10, 'n_estimators': 18}\n",
      "0.886208 (0.012951) with {'max_depth': 10, 'n_estimators': 19}\n",
      "0.863144 (0.013316) with {'max_depth': 11, 'n_estimators': 5}\n",
      "0.868149 (0.013145) with {'max_depth': 11, 'n_estimators': 6}\n",
      "0.872715 (0.013363) with {'max_depth': 11, 'n_estimators': 7}\n",
      "0.875327 (0.011941) with {'max_depth': 11, 'n_estimators': 8}\n",
      "0.878373 (0.013988) with {'max_depth': 11, 'n_estimators': 9}\n",
      "0.880985 (0.011715) with {'max_depth': 11, 'n_estimators': 10}\n",
      "0.881639 (0.013095) with {'max_depth': 11, 'n_estimators': 11}\n",
      "0.884250 (0.013538) with {'max_depth': 11, 'n_estimators': 12}\n",
      "0.883597 (0.014027) with {'max_depth': 11, 'n_estimators': 13}\n",
      "0.883162 (0.015191) with {'max_depth': 11, 'n_estimators': 14}\n",
      "0.885773 (0.012962) with {'max_depth': 11, 'n_estimators': 15}\n",
      "0.887730 (0.011815) with {'max_depth': 11, 'n_estimators': 16}\n",
      "0.886642 (0.010040) with {'max_depth': 11, 'n_estimators': 17}\n",
      "0.890123 (0.008659) with {'max_depth': 11, 'n_estimators': 18}\n",
      "0.890341 (0.009547) with {'max_depth': 11, 'n_estimators': 19}\n"
     ]
    }
   ],
   "source": [
    "#Fine Tuning the best model\n",
    "\n",
    "from sklearn.model_selection import GridSearchCV\n",
    "\n",
    "\n",
    "parametros = {\n",
    "    'n_estimators': range(5,20),\n",
    "    'max_depth': range(2, 12)\n",
    "}\n",
    "  \n",
    "model=XGBClassifier(objective=\"binary:logistic\")\n",
    "\n",
    "kfold=KFold(n_splits=5,shuffle=True)\n",
    "\n",
    "grid_result=GridSearchCV(estimator=model,param_grid=parametros,cv=kfold)\n",
    "\n",
    "grid_result.fit(X_train,(y_train.values.reshape(-1,1)).ravel())\n",
    "\n",
    "#Summarize_results\n",
    "\n",
    "print(\"Best : %f using the params %s\" % (grid_result.best_score_ , grid_result.best_params_))\n",
    "\n",
    "means=grid_result.cv_results_[\"mean_test_score\"]\n",
    "stds=grid_result.cv_results_[\"std_test_score\"]\n",
    "params=grid_result.cv_results_[\"params\"]\n",
    "\n",
    "\n",
    "for mean,stdev,param in zip(means,stds,params):\n",
    "    \n",
    "  print(\"%f (%f) with %r\" % (mean,stdev,param))"
   ]
  },
  {
   "cell_type": "code",
   "execution_count": 22,
   "id": "15e03e2a",
   "metadata": {},
   "outputs": [
    {
     "name": "stdout",
     "output_type": "stream",
     "text": [
      "100%|████████████████████████████████████████████████| 20/20 [00:07<00:00,  2.74trial/s, best loss: 0.1220626631853785]\n",
      "{'learning_rate': 0.7956500362998813, 'max_depth': 8.0, 'n_estimators': 18.0}\n"
     ]
    }
   ],
   "source": [
    "##HYPERPARAMETER TUNING WITH HYPEROPT\n",
    "\n",
    "from hyperopt import hp,fmin,tpe\n",
    "import numpy as np\n",
    "\n",
    "# Set up space dictionary with specified hyperparameters\n",
    "space = {'n_estimators':hp.quniform('n_estimators', 5,21,1),'max_depth': hp.quniform('max_depth', 2,12,2),'learning_rate': hp.uniform('learning_rate', 0.001,0.9)}\n",
    "\n",
    "# Set up objective function\n",
    "def objective(params):\n",
    "    params = {'n_estimators': int(params['n_estimators']),'max_depth': int(params['max_depth']),'learning_rate': params['learning_rate']}\n",
    "    xgb_clf = XGBClassifier(**params) \n",
    "    best_score = cross_val_score(xgb_clf, X_train, y_train, scoring='accuracy', cv=2, n_jobs=4).mean()\n",
    "    loss = 1 - best_score\n",
    "    return loss\n",
    "\n",
    "# Run the algorithm\n",
    "best = fmin(fn=objective,space=space, max_evals=20, rstate=np.random.default_rng(42), algo=tpe.suggest)\n",
    "print(best)"
   ]
  },
  {
   "cell_type": "code",
   "execution_count": 24,
   "id": "e162f71b",
   "metadata": {},
   "outputs": [
    {
     "name": "stdout",
     "output_type": "stream",
     "text": [
      "Classification Report:\n",
      "              precision    recall  f1-score   support\n",
      "\n",
      "           0       0.88      0.89      0.88       897\n",
      "           1       0.91      0.90      0.90      1073\n",
      "\n",
      "    accuracy                           0.89      1970\n",
      "   macro avg       0.89      0.89      0.89      1970\n",
      "weighted avg       0.89      0.89      0.89      1970\n",
      "\n"
     ]
    }
   ],
   "source": [
    "#Creating the model with the results gotten from the Hyperopt and evaluating it using different scalers\n",
    "\n",
    "modelo=XGBClassifier(learning_rate= 0.7956500362998813,  max_depth=8, n_estimators= 18)\n",
    "\n",
    "modelo.fit(X_train,y_train.values.ravel())\n",
    "\n",
    "from sklearn.metrics import classification_report\n",
    "\n",
    "y_pred=pd.DataFrame(grid_result.predict(X_test).reshape(-1,1),columns=y_test.columns)\n",
    "\n",
    "clas_rep=classification_report(y_test,y_pred)\n",
    "\n",
    "print(\"Classification Report:\")\n",
    "\n",
    "print(clas_rep)"
   ]
  },
  {
   "cell_type": "code",
   "execution_count": 25,
   "id": "9e8900da",
   "metadata": {},
   "outputs": [
    {
     "name": "stdout",
     "output_type": "stream",
     "text": [
      "   train-auc-mean  train-auc-std  test-auc-mean  test-auc-std\n",
      "0            0.84           0.00           0.82          0.01\n",
      "1            0.89           0.01           0.88          0.02\n",
      "2            0.91           0.01           0.90          0.01\n",
      "3            0.93           0.00           0.92          0.01\n",
      "4            0.93           0.00           0.92          0.00\n",
      "5            0.94           0.00           0.93          0.01\n",
      "6            0.94           0.00           0.93          0.00\n",
      "7            0.94           0.00           0.93          0.00\n",
      "8            0.94           0.00           0.93          0.00\n",
      "9            0.95           0.00           0.93          0.00\n",
      "********************\n",
      "ROC_AUC with XGBoostCV\n",
      "0.9348615500990393\n",
      "********************\n",
      "ROC_AUC with sk-learn 0.9583926499845277\n"
     ]
    }
   ],
   "source": [
    "#Playing with CV in XGBoost\n",
    "\n",
    "from xgboost import cv\n",
    "\n",
    "from xgboost import DMatrix\n",
    "\n",
    "matrix=DMatrix(X_train,y_train)\n",
    "\n",
    "params = {\"objective\":\"binary:logistic\", \"max_depth\":3}\n",
    "\n",
    "\n",
    "# Perform cross-validation: cv_results\n",
    "cv_results = cv(dtrain=matrix, params=params, \n",
    "                  nfold=3, num_boost_round=10, \n",
    "                  metrics=\"auc\", as_pandas=True, seed=123)\n",
    "\n",
    "\n",
    "# Print cv_results\n",
    "print(cv_results)\n",
    "\n",
    "print(\"*\"*20)\n",
    "\n",
    "# Print the AUC\n",
    "print(\"ROC_AUC with XGBoostCV\")\n",
    "print(((cv_results[\"test-auc-mean\"].iloc[-1])))\n",
    "\n",
    "print(\"*\"*20)\n",
    "\n",
    "#CV with sk-learn\n",
    "cv_sklearn=cross_val_score(XGBClassifier(objective=\"binary:logistic\",max_depth=3),X_train,y_train.values.reshape(-1,1).ravel(),cv=kfold,scoring=\"roc_auc\").mean()\n",
    "\n",
    "print(\"ROC_AUC with sk-learn\",cv_sklearn)"
   ]
  },
  {
   "cell_type": "code",
   "execution_count": 26,
   "id": "9f0e2693",
   "metadata": {},
   "outputs": [
    {
     "data": {
      "image/png": "[encoded data removed]",
      "text/plain": [
       "<Figure size 600x1000 with 1 Axes>"
      ]
     },
     "metadata": {},
     "output_type": "display_data"
    },
    {
     "data": {
      "text/plain": [
       "<Figure size 1000x600 with 0 Axes>"
      ]
     },
     "metadata": {},
     "output_type": "display_data"
    }
   ],
   "source": [
    "# Create the DMatrix: housing_dmatrix\n",
    "import xgboost as xgb\n",
    "matrix = xgb.DMatrix(data=X, label=y)\n",
    "\n",
    "# Create the parameter dictionary: params\n",
    "params = {\"objective\":\"binary:logistic\", \"max_depth\":2}\n",
    "\n",
    "# Train the model: xg_reg\n",
    "xg_cla = xgb.train(params=params, dtrain=matrix, num_boost_round=10)\n",
    "\n",
    "# Plot the first tree\n",
    "xgb.plot_tree(xg_cla,num_trees=9)\n",
    "plt.figure(figsize=(10,6))\n",
    "plt.show();\n"
   ]
  },
  {
   "cell_type": "code",
   "execution_count": 27,
   "id": "23223da7",
   "metadata": {},
   "outputs": [
    {
     "data": {
      "image/png": "[encoded data removed]",
      "text/plain": [
       "<Figure size 600x1000 with 1 Axes>"
      ]
     },
     "metadata": {},
     "output_type": "display_data"
    }
   ],
   "source": [
    "# Plot the feature importances\n",
    "xgb.plot_importance(xg_cla)\n",
    "plt.rcParams[\"figure.figsize\"]=[5,2]\n",
    "plt.show()"
   ]
  },
  {
   "cell_type": "code",
   "execution_count": 28,
   "id": "ae5ff0b1",
   "metadata": {},
   "outputs": [],
   "source": [
    "#Saving the fine_tuned model\n",
    "from pickle import dump\n",
    "dump(grid_result,open(\"Models_Jupyter_Notebook/tune_model_lab_platzi.pkl\",\"wb\"))"
   ]
  },
  {
   "cell_type": "code",
   "execution_count": 29,
   "id": "fce7313e",
   "metadata": {},
   "outputs": [],
   "source": [
    "#Saving the scaler\n",
    "from pickle import dump\n",
    "dump(scaler_x,open(\"Models_Jupyter_Notebook/scaler_x.pkl\",\"wb\"))"
   ]
  },
  {
   "cell_type": "code",
   "execution_count": 30,
   "id": "a557759e",
   "metadata": {},
   "outputs": [
    {
     "name": "stdout",
     "output_type": "stream",
     "text": [
      "Classification Report:\n",
      "              precision    recall  f1-score   support\n",
      "\n",
      "           0       0.88      0.89      0.88       897\n",
      "           1       0.91      0.90      0.90      1073\n",
      "\n",
      "    accuracy                           0.89      1970\n",
      "   macro avg       0.89      0.89      0.89      1970\n",
      "weighted avg       0.89      0.89      0.89      1970\n",
      "\n"
     ]
    }
   ],
   "source": [
    "#Evaluating the model using classification_report\n",
    "\n",
    "from sklearn.metrics import classification_report\n",
    "\n",
    "y_pred=pd.DataFrame(grid_result.predict(X_test).reshape(-1,1),columns=y_test.columns)\n",
    "\n",
    "clas_rep=classification_report(y_test,y_pred)\n",
    "\n",
    "print(\"Classification Report:\")\n",
    "print(clas_rep)"
   ]
  },
  {
   "cell_type": "code",
   "execution_count": 31,
   "id": "f62dc55d",
   "metadata": {},
   "outputs": [
    {
     "data": {
      "image/png": "[encoded data removed]",
      "text/plain": [
       "<Figure size 500x200 with 2 Axes>"
      ]
     },
     "metadata": {},
     "output_type": "display_data"
    }
   ],
   "source": [
    "#Evaluating the model with a confusion matrix\n",
    "from sklearn.metrics import plot_confusion_matrix\n",
    "plot_confusion_matrix(grid_result,X_test,y_test.values.reshape(-1,1).ravel());"
   ]
  },
  {
   "cell_type": "code",
   "execution_count": 32,
   "id": "a30055da",
   "metadata": {},
   "outputs": [
    {
     "data": {
      "image/png": "[encoded data removed]",
      "text/plain": [
       "<Figure size 800x400 with 2 Axes>"
      ]
     },
     "metadata": {},
     "output_type": "display_data"
    }
   ],
   "source": [
    "#Using precision_recall curve and roc_curve\n",
    "\n",
    "from sklearn.metrics import plot_precision_recall_curve,plot_roc_curve\n",
    "\n",
    "fig,ax=plt.subplots(1,2,figsize=(8,4));\n",
    "\n",
    "plot_roc_curve(grid_result,X_test,y_test.values.reshape(-1,1).ravel(),ax=ax[0]);\n",
    "\n",
    "plot_precision_recall_curve(grid_result,X_test,y_test.values.reshape(-1,1).ravel(),ax=ax[1]);"
   ]
  },
  {
   "cell_type": "code",
   "execution_count": 33,
   "id": "5fed4d9c",
   "metadata": {},
   "outputs": [
    {
     "data": {
      "application/vnd.jupyter.widget-view+json": {
       "model_id": "",
       "version_major": 2,
       "version_minor": 0
      },
      "text/plain": [
       "Optimization Progress:   0%|          | 0/42 [00:00<?, ?pipeline/s]"
      ]
     },
     "metadata": {},
     "output_type": "display_data"
    },
    {
     "name": "stdout",
     "output_type": "stream",
     "text": [
      "\n",
      "Generation 1 - Current best internal CV score: 0.8724978241949521\n",
      "\n",
      "Generation 2 - Current best internal CV score: 0.873585726718886\n",
      "\n",
      "Generation 3 - Current best internal CV score: 0.8744560487380331\n",
      "\n",
      "Generation 4 - Current best internal CV score: 0.8761966927763272\n",
      "\n",
      "Generation 5 - Current best internal CV score: 0.8766318537859008\n",
      "\n",
      "Generation 6 - Current best internal CV score: 0.8777197563098347\n",
      "\n",
      "Best pipeline: GradientBoostingClassifier(MinMaxScaler(XGBClassifier(input_matrix, learning_rate=0.1, max_depth=4, min_child_weight=5, n_estimators=100, n_jobs=1, subsample=0.45, verbosity=0)), learning_rate=0.1, max_depth=7, max_features=0.9000000000000001, min_samples_leaf=4, min_samples_split=14, n_estimators=100, subsample=0.15000000000000002)\n",
      "==============================\n",
      "Score of the best classifier 0.882741116751269\n"
     ]
    }
   ],
   "source": [
    "#SOLVING THE PROBLEM WITH GENETIC ALGORITHMS\n",
    "from tpot import TPOTClassifier\n",
    "# Assign the values outlined to the inputs\n",
    "number_generations = 6\n",
    "population_size =6\n",
    "offspring_size = 6\n",
    "scoring_function = 'accuracy'\n",
    "\n",
    "# Create the tpot classifier\n",
    "tpot_clf = TPOTClassifier(generations=number_generations, population_size=population_size,\n",
    "                          offspring_size=offspring_size, scoring=scoring_function,\n",
    "                          verbosity=2, random_state=2, cv=2)\n",
    "\n",
    "# Fit the classifier to the training data\n",
    "tpot_clf.fit(X_train , y_train.values.ravel())\n",
    "print(\"=\"*30)\n",
    "# Score on the test set\n",
    "print(\"Score of the best classifier\",tpot_clf.score(X_test , y_test.values.ravel()))\n"
   ]
  },
  {
   "cell_type": "code",
   "execution_count": 21,
   "id": "d8e4db3d",
   "metadata": {},
   "outputs": [],
   "source": [
    "#SOLVING THE PROBLEM WITH ARTIFICIAL NEURAL NETWORKS"
   ]
  },
  {
   "cell_type": "code",
   "execution_count": 19,
   "id": "15edf899",
   "metadata": {},
   "outputs": [],
   "source": [
    "#Importing the libraries\n",
    "from tensorflow.keras.models import Sequential\n",
    "from tensorflow.keras.layers import Dense\n",
    "from tensorflow.keras.callbacks import EarlyStopping"
   ]
  },
  {
   "cell_type": "code",
   "execution_count": 35,
   "id": "d652d6f6",
   "metadata": {},
   "outputs": [],
   "source": [
    "early=EarlyStopping(monitor=\"val_accuracy\", patience=10)"
   ]
  },
  {
   "cell_type": "code",
   "execution_count": 36,
   "id": "9a460152",
   "metadata": {},
   "outputs": [
    {
     "name": "stdout",
     "output_type": "stream",
     "text": [
      "Epoch 1/200\n",
      "230/230 [==============================] - 3s 6ms/step - loss: 0.3718 - accuracy: 0.8335 - val_loss: 0.2953 - val_accuracy: 0.8783\n",
      "Epoch 2/200\n",
      "230/230 [==============================] - 1s 4ms/step - loss: 0.2902 - accuracy: 0.8678 - val_loss: 0.2814 - val_accuracy: 0.8750\n",
      "Epoch 3/200\n",
      "230/230 [==============================] - 1s 4ms/step - loss: 0.2750 - accuracy: 0.8770 - val_loss: 0.2725 - val_accuracy: 0.8728\n",
      "Epoch 4/200\n",
      "230/230 [==============================] - 1s 4ms/step - loss: 0.2629 - accuracy: 0.8828 - val_loss: 0.2635 - val_accuracy: 0.8815\n",
      "Epoch 5/200\n",
      "230/230 [==============================] - 1s 4ms/step - loss: 0.2505 - accuracy: 0.8896 - val_loss: 0.2769 - val_accuracy: 0.8761\n",
      "Epoch 6/200\n",
      "230/230 [==============================] - 1s 6ms/step - loss: 0.2467 - accuracy: 0.8945 - val_loss: 0.2704 - val_accuracy: 0.8870\n",
      "Epoch 7/200\n",
      "230/230 [==============================] - 1s 4ms/step - loss: 0.2401 - accuracy: 0.8925 - val_loss: 0.2842 - val_accuracy: 0.8674\n",
      "Epoch 8/200\n",
      "230/230 [==============================] - 1s 4ms/step - loss: 0.2325 - accuracy: 0.8958 - val_loss: 0.2682 - val_accuracy: 0.8848\n",
      "Epoch 9/200\n",
      "230/230 [==============================] - 1s 4ms/step - loss: 0.2260 - accuracy: 0.9015 - val_loss: 0.2683 - val_accuracy: 0.8815\n",
      "Epoch 10/200\n",
      "230/230 [==============================] - 1s 4ms/step - loss: 0.2189 - accuracy: 0.9059 - val_loss: 0.2857 - val_accuracy: 0.8620\n",
      "Epoch 11/200\n",
      "230/230 [==============================] - 1s 4ms/step - loss: 0.2102 - accuracy: 0.9113 - val_loss: 0.2684 - val_accuracy: 0.8880\n",
      "Epoch 12/200\n",
      "230/230 [==============================] - 1s 4ms/step - loss: 0.2065 - accuracy: 0.9113 - val_loss: 0.2810 - val_accuracy: 0.8870\n",
      "Epoch 13/200\n",
      "230/230 [==============================] - 1s 4ms/step - loss: 0.1976 - accuracy: 0.9159 - val_loss: 0.2897 - val_accuracy: 0.8696\n",
      "Epoch 14/200\n",
      "230/230 [==============================] - 1s 4ms/step - loss: 0.1910 - accuracy: 0.9146 - val_loss: 0.2804 - val_accuracy: 0.8717\n",
      "Epoch 15/200\n",
      "230/230 [==============================] - 1s 4ms/step - loss: 0.1837 - accuracy: 0.9241 - val_loss: 0.3039 - val_accuracy: 0.8739\n",
      "Epoch 16/200\n",
      "230/230 [==============================] - 1s 4ms/step - loss: 0.1817 - accuracy: 0.9225 - val_loss: 0.3105 - val_accuracy: 0.8761\n",
      "Epoch 17/200\n",
      "230/230 [==============================] - 1s 5ms/step - loss: 0.1682 - accuracy: 0.9271 - val_loss: 0.3191 - val_accuracy: 0.8739\n",
      "Epoch 18/200\n",
      "230/230 [==============================] - 1s 5ms/step - loss: 0.1584 - accuracy: 0.9350 - val_loss: 0.3172 - val_accuracy: 0.8739\n",
      "Epoch 19/200\n",
      "230/230 [==============================] - 1s 4ms/step - loss: 0.1525 - accuracy: 0.9380 - val_loss: 0.3330 - val_accuracy: 0.8772\n",
      "Epoch 20/200\n",
      "230/230 [==============================] - 1s 4ms/step - loss: 0.1502 - accuracy: 0.9328 - val_loss: 0.3226 - val_accuracy: 0.8783\n",
      "Epoch 21/200\n",
      "230/230 [==============================] - 1s 4ms/step - loss: 0.1363 - accuracy: 0.9453 - val_loss: 0.3517 - val_accuracy: 0.8685\n"
     ]
    }
   ],
   "source": [
    "#Creating the model\n",
    "model=Sequential()\n",
    "model.add(Dense(256,activation=\"relu\",input_dim=X_train.shape[1]))\n",
    "model.add(Dense(128,activation=\"relu\"))\n",
    "model.add(Dense(32,activation=\"relu\"))\n",
    "model.add(Dense(1,activation=\"sigmoid\"))\n",
    "model.compile(optimizer=\"adam\",metrics=\"accuracy\",loss=\"binary_crossentropy\")\n",
    "history=model.fit(X_train,y_train,epochs=200,batch_size=16,validation_split=0.2,callbacks=[early])"
   ]
  },
  {
   "cell_type": "code",
   "execution_count": 38,
   "id": "af1365d0",
   "metadata": {},
   "outputs": [
    {
     "data": {
      "text/plain": [
       "[0.3943287432193756, 0.858883261680603]"
      ]
     },
     "execution_count": 38,
     "metadata": {},
     "output_type": "execute_result"
    }
   ],
   "source": [
    "#Evaluating the model\n",
    "model.evaluate(X_test,y_test,verbose=0)"
   ]
  },
  {
   "cell_type": "code",
   "execution_count": 39,
   "id": "29833997",
   "metadata": {},
   "outputs": [
    {
     "name": "stdout",
     "output_type": "stream",
     "text": [
      "Mean_test_accuracy 0.8770674586296081\n"
     ]
    }
   ],
   "source": [
    "##Using CV Score\n",
    "from tensorflow.keras.wrappers.scikit_learn import KerasClassifier\n",
    "from sklearn.model_selection import cross_val_score\n",
    "import warnings\n",
    "warnings.filterwarnings(\"ignore\", category=DeprecationWarning)\n",
    "\n",
    "def model_function():\n",
    "    model=Sequential()\n",
    "    model.add(Dense(256,activation=\"relu\",input_dim=X_train.shape[1]))\n",
    "    model.add(Dense(128,activation=\"relu\"))\n",
    "    model.add(Dense(32,activation=\"relu\"))\n",
    "    model.add(Dense(1,activation=\"sigmoid\"))\n",
    "    model.compile(optimizer=\"adam\",metrics=\"accuracy\",loss=\"binary_crossentropy\")\n",
    "    return model\n",
    "\n",
    "modelo=KerasClassifier(build_fn=model_function,epochs=20,batch_size=16,verbose=0)\n",
    "\n",
    "\n",
    "cv=cross_val_score(modelo,X_train,y_train,cv=5)\n",
    "\n",
    "print(\"Mean_test_accuracy\",cv.mean())"
   ]
  },
  {
   "cell_type": "code",
   "execution_count": 21,
   "id": "e5cea8b2",
   "metadata": {},
   "outputs": [
    {
     "name": "stdout",
     "output_type": "stream",
     "text": [
      "Best Score 0.8689094583193461\n",
      "==============================\n",
      "Best Parameters {'optimizer': 'rmsprop', 'epochs': 20, 'batch_size': 32, 'activation': 'relu'}\n"
     ]
    }
   ],
   "source": [
    "##Tuning hyperparameters\n",
    "\n",
    "from tensorflow.keras.wrappers.scikit_learn import KerasClassifier\n",
    "from sklearn.model_selection import cross_val_score,RandomizedSearchCV\n",
    "warnings.filterwarnings(\"ignore\", category=DeprecationWarning)\n",
    "\n",
    "def model_function(optimizer=\"adam\",activation=\"relu\"):\n",
    "    model=Sequential()\n",
    "    model.add(Dense(256,activation=activation,input_dim=X_train.shape[1]))\n",
    "    model.add(Dense(128,activation=activation))\n",
    "    model.add(Dense(64,activation=activation))\n",
    "    model.add(Dense(1,activation=\"sigmoid\"))\n",
    "    model.compile(optimizer=optimizer,loss=\"binary_crossentropy\",metrics=\"accuracy\")\n",
    "    return model\n",
    "\n",
    "modelo=KerasClassifier(build_fn=model_function,epochs=3,batch_size=16,verbose=0)\n",
    "\n",
    "parameters={\n",
    "    \"optimizer\":[\"adam\",\"sgd\",\"rmsprop\"],\n",
    "    \"activation\":[\"relu\",\"sigmoid\"],\n",
    "    \"epochs\":[10,20,40],\n",
    "    \"batch_size\":[16,32,64]\n",
    "}\n",
    "\n",
    "random=RandomizedSearchCV(modelo, param_distributions=parameters,cv=3 , n_iter=15)\n",
    "\n",
    "results=random.fit(X_train,y_train)\n",
    "\n",
    "print(\"Best Score\", results.best_score_)\n",
    "print(\"=\"*30)\n",
    "print(\"Best Parameters\" , results.best_params_)"
   ]
  },
  {
   "cell_type": "code",
   "execution_count": 22,
   "id": "c45ab64d",
   "metadata": {},
   "outputs": [
    {
     "name": "stdout",
     "output_type": "stream",
     "text": [
      "Best Score 0.8653682072957357\n",
      "==============================\n",
      "Best Parameters {'nn': 128, 'dense_layers_extra': 3}\n"
     ]
    }
   ],
   "source": [
    "##Tuning layers and neurons\n",
    "\n",
    "from tensorflow.keras.wrappers.scikit_learn import KerasClassifier\n",
    "from sklearn.model_selection import cross_val_score,RandomizedSearchCV\n",
    "\n",
    "def model_function_2(dense_layers_extra=2,nn=100):\n",
    "    model=Sequential()\n",
    "    model.add(Dense(units=nn,activation=\"relu\",input_dim=X_train.shape[1]))\n",
    "    \n",
    "    for i in range(1,dense_layers_extra+1):\n",
    "        model.add(Dense(units=nn, activation=\"relu\"))\n",
    "        \n",
    "    model.add(Dense(1,activation=\"sigmoid\"))\n",
    "    \n",
    "    model.compile(optimizer=\"adam\",loss=\"binary_crossentropy\",metrics=\"accuracy\")\n",
    "    \n",
    "    return model\n",
    "\n",
    "modelo=KerasClassifier(build_fn=model_function_2,epochs=3,batch_size=16,verbose=0)\n",
    "\n",
    "parameters={\n",
    "    \"dense_layers_extra\":[1,2,3,4],\n",
    "    \n",
    "    \"nn\":[32,64,128,256]\n",
    "}\n",
    "\n",
    "random=RandomizedSearchCV(modelo,param_distributions=parameters,cv=3)\n",
    "\n",
    "results=random.fit(X_train,y_train)\n",
    "\n",
    "print(\"Best Score\", results.best_score_)\n",
    "print(\"=\"*30)\n",
    "print(\"Best Parameters\" , results.best_params_)"
   ]
  },
  {
   "cell_type": "code",
   "execution_count": 23,
   "id": "f7c7467c",
   "metadata": {},
   "outputs": [
    {
     "name": "stdout",
     "output_type": "stream",
     "text": [
      "Epoch 1/20\n",
      "113/113 [==============================] - 3s 8ms/step - loss: 0.3841 - accuracy: 0.8192 - val_loss: 0.3083 - val_accuracy: 0.8662\n",
      "Epoch 2/20\n",
      "113/113 [==============================] - 1s 5ms/step - loss: 0.3127 - accuracy: 0.8530 - val_loss: 0.2853 - val_accuracy: 0.8650\n",
      "Epoch 3/20\n",
      "113/113 [==============================] - 0s 4ms/step - loss: 0.2905 - accuracy: 0.8682 - val_loss: 0.2872 - val_accuracy: 0.8617\n",
      "Epoch 4/20\n",
      "113/113 [==============================] - 0s 4ms/step - loss: 0.2755 - accuracy: 0.8751 - val_loss: 0.2861 - val_accuracy: 0.8717\n",
      "Epoch 5/20\n",
      "113/113 [==============================] - 0s 4ms/step - loss: 0.2650 - accuracy: 0.8787 - val_loss: 0.2778 - val_accuracy: 0.8684\n",
      "Epoch 6/20\n",
      "113/113 [==============================] - 0s 4ms/step - loss: 0.2582 - accuracy: 0.8870 - val_loss: 0.2824 - val_accuracy: 0.8717\n",
      "Epoch 7/20\n",
      "113/113 [==============================] - 0s 4ms/step - loss: 0.2489 - accuracy: 0.8876 - val_loss: 0.2884 - val_accuracy: 0.8695\n",
      "Epoch 8/20\n",
      "113/113 [==============================] - 0s 4ms/step - loss: 0.2410 - accuracy: 0.8901 - val_loss: 0.2872 - val_accuracy: 0.8673\n",
      "Epoch 9/20\n",
      "113/113 [==============================] - 0s 4ms/step - loss: 0.2372 - accuracy: 0.8931 - val_loss: 0.2853 - val_accuracy: 0.8695\n",
      "Epoch 10/20\n",
      "113/113 [==============================] - 0s 4ms/step - loss: 0.2271 - accuracy: 0.9031 - val_loss: 0.3000 - val_accuracy: 0.8639\n",
      "Epoch 11/20\n",
      "113/113 [==============================] - 0s 4ms/step - loss: 0.2203 - accuracy: 0.9039 - val_loss: 0.2949 - val_accuracy: 0.8761\n",
      "Epoch 12/20\n",
      "113/113 [==============================] - 0s 4ms/step - loss: 0.2130 - accuracy: 0.9100 - val_loss: 0.3024 - val_accuracy: 0.8750\n",
      "Epoch 13/20\n",
      "113/113 [==============================] - 0s 4ms/step - loss: 0.2063 - accuracy: 0.9084 - val_loss: 0.3039 - val_accuracy: 0.8662\n",
      "Epoch 14/20\n",
      "113/113 [==============================] - 0s 4ms/step - loss: 0.1985 - accuracy: 0.9169 - val_loss: 0.3181 - val_accuracy: 0.8706\n",
      "Epoch 15/20\n",
      "113/113 [==============================] - 0s 4ms/step - loss: 0.1923 - accuracy: 0.9147 - val_loss: 0.3067 - val_accuracy: 0.8761\n",
      "Epoch 16/20\n",
      "113/113 [==============================] - 0s 4ms/step - loss: 0.1882 - accuracy: 0.9244 - val_loss: 0.3084 - val_accuracy: 0.8673\n",
      "Epoch 17/20\n",
      "113/113 [==============================] - 0s 4ms/step - loss: 0.1792 - accuracy: 0.9297 - val_loss: 0.3288 - val_accuracy: 0.8717\n",
      "Epoch 18/20\n",
      "113/113 [==============================] - 0s 4ms/step - loss: 0.1779 - accuracy: 0.9275 - val_loss: 0.3327 - val_accuracy: 0.8717\n",
      "Epoch 19/20\n",
      "113/113 [==============================] - 0s 4ms/step - loss: 0.1693 - accuracy: 0.9244 - val_loss: 0.3293 - val_accuracy: 0.8739\n",
      "Epoch 20/20\n",
      "113/113 [==============================] - 0s 4ms/step - loss: 0.1644 - accuracy: 0.9302 - val_loss: 0.3416 - val_accuracy: 0.8816\n"
     ]
    }
   ],
   "source": [
    "#Creating the model with the best parameters\n",
    "model=Sequential()\n",
    "model.add(Dense(256,activation=\"relu\",input_dim=X_train.shape[1]))\n",
    "model.add(Dense(128,activation=\"relu\"))\n",
    "model.add(Dense(32,activation=\"relu\"))\n",
    "model.add(Dense(1,activation=\"sigmoid\"))\n",
    "model.compile(optimizer=\"rmsprop\",metrics=\"accuracy\",loss=\"binary_crossentropy\")\n",
    "history=model.fit(X_train,y_train,epochs=20,batch_size=32,validation_split=0.2)"
   ]
  },
  {
   "cell_type": "code",
   "execution_count": 24,
   "id": "6bc93005",
   "metadata": {},
   "outputs": [
    {
     "data": {
      "text/plain": [
       "[0.34421586990356445, 0.8775826692581177]"
      ]
     },
     "execution_count": 24,
     "metadata": {},
     "output_type": "execute_result"
    }
   ],
   "source": [
    "#Evaluating the best model\n",
    "model.evaluate(X_test,y_test,verbose=0)"
   ]
  },
  {
   "cell_type": "code",
   "execution_count": 25,
   "id": "8a96436e",
   "metadata": {},
   "outputs": [
    {
     "data": {
      "image/png": "[encoded data removed]",
      "text/plain": [
       "<Figure size 600x400 with 1 Axes>"
      ]
     },
     "metadata": {},
     "output_type": "display_data"
    }
   ],
   "source": [
    "import matplotlib.pyplot as plt\n",
    "%matplotlib inline\n",
    "plt.figure(figsize=(6,4))\n",
    "plt.plot(history.history[\"accuracy\"]);\n",
    "plt.plot(history.history[\"val_accuracy\"])\n",
    "plt.title(\"Accuracy of model with the set of training and validation\")\n",
    "plt.xlabel(\"Epochs\");\n",
    "plt.ylabel(\"Accuracy\");\n",
    "plt.legend([\"Training\",\"Validation\"],loc=\"lower right\");"
   ]
  },
  {
   "cell_type": "code",
   "execution_count": 26,
   "id": "22c06b7d",
   "metadata": {},
   "outputs": [
    {
     "name": "stdout",
     "output_type": "stream",
     "text": [
      "Classification Report:\n",
      "              precision    recall  f1-score   support\n",
      "\n",
      "           0       0.85      0.88      0.87       878\n",
      "           1       0.90      0.87      0.89      1058\n",
      "\n",
      "    accuracy                           0.88      1936\n",
      "   macro avg       0.88      0.88      0.88      1936\n",
      "weighted avg       0.88      0.88      0.88      1936\n",
      "\n"
     ]
    }
   ],
   "source": [
    "#Evaluating the model using classification_report\n",
    "\n",
    "from sklearn.metrics import classification_report\n",
    "\n",
    "y_pred=model.predict(X_test,verbose=0).round()\n",
    "\n",
    "clas_rep=classification_report(y_test,y_pred)\n",
    "\n",
    "print(\"Classification Report:\")\n",
    "\n",
    "print(clas_rep)"
   ]
  },
  {
   "cell_type": "code",
   "execution_count": 27,
   "id": "e6f10d4b",
   "metadata": {},
   "outputs": [],
   "source": [
    "class estimator:\n",
    "  _estimator_type = ''\n",
    "  classes_=[]\n",
    "  def __init__(self, model, classes):\n",
    "    self.model = model\n",
    "    self._estimator_type = 'classifier'\n",
    "    self.classes_ = classes\n",
    "  def predict(self, X):\n",
    "    y_prob= self.model.predict(X)\n",
    "    y_pred = y_prob.round()\n",
    "    return y_pred\n",
    "\n",
    "classifier = estimator(model,[0,1])"
   ]
  },
  {
   "cell_type": "code",
   "execution_count": 29,
   "id": "42961e04",
   "metadata": {},
   "outputs": [
    {
     "name": "stdout",
     "output_type": "stream",
     "text": [
      "61/61 [==============================] - 0s 2ms/step\n"
     ]
    },
    {
     "data": {
      "image/png": "[encoded data removed]",
      "text/plain": [
       "<Figure size 640x480 with 2 Axes>"
      ]
     },
     "metadata": {},
     "output_type": "display_data"
    }
   ],
   "source": [
    "from sklearn.metrics import plot_confusion_matrix\n",
    "plot_confusion_matrix(classifier,X_test,y_test);"
   ]
  }
 ],
 "metadata": {
  "kernelspec": {
   "display_name": "Python 3 (ipykernel)",
   "language": "python",
   "name": "python3"
  },
  "language_info": {
   "codemirror_mode": {
    "name": "ipython",
    "version": 3
   },
   "file_extension": ".py",
   "mimetype": "text/x-python",
   "name": "python",
   "nbconvert_exporter": "python",
   "pygments_lexer": "ipython3",
   "version": "3.9.13"
  }
 },
 "nbformat": 4,
 "nbformat_minor": 5
}
